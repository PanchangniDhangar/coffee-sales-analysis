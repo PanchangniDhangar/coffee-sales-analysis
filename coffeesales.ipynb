{
 "cells": [
  {
   "cell_type": "code",
   "execution_count": 1,
   "id": "b1273d5d",
   "metadata": {},
   "outputs": [
    {
     "data": {
      "application/vnd.plotly.v1+json": {
       "config": {
        "plotlyServerURL": "https://plot.ly"
       },
       "data": [
        {
         "line": {
          "color": "blue"
         },
         "name": "Daily Revenue",
         "type": "scatter",
         "x": [
          "2024-03-01T00:00:00.000000000",
          "2024-03-02T00:00:00.000000000",
          "2024-03-03T00:00:00.000000000",
          "2024-03-04T00:00:00.000000000",
          "2024-03-05T00:00:00.000000000",
          "2024-03-06T00:00:00.000000000",
          "2024-03-07T00:00:00.000000000",
          "2024-03-08T00:00:00.000000000",
          "2024-03-09T00:00:00.000000000",
          "2024-03-10T00:00:00.000000000",
          "2024-03-11T00:00:00.000000000",
          "2024-03-12T00:00:00.000000000",
          "2024-03-13T00:00:00.000000000",
          "2024-03-14T00:00:00.000000000",
          "2024-03-15T00:00:00.000000000",
          "2024-03-16T00:00:00.000000000",
          "2024-03-17T00:00:00.000000000",
          "2024-03-18T00:00:00.000000000",
          "2024-03-19T00:00:00.000000000",
          "2024-03-20T00:00:00.000000000",
          "2024-03-21T00:00:00.000000000",
          "2024-03-22T00:00:00.000000000",
          "2024-03-23T00:00:00.000000000",
          "2024-03-24T00:00:00.000000000",
          "2024-03-25T00:00:00.000000000",
          "2024-03-26T00:00:00.000000000",
          "2024-03-27T00:00:00.000000000",
          "2024-03-28T00:00:00.000000000",
          "2024-03-29T00:00:00.000000000",
          "2024-03-30T00:00:00.000000000",
          "2024-03-31T00:00:00.000000000",
          "2024-04-01T00:00:00.000000000",
          "2024-04-02T00:00:00.000000000",
          "2024-04-03T00:00:00.000000000",
          "2024-04-04T00:00:00.000000000",
          "2024-04-05T00:00:00.000000000",
          "2024-04-06T00:00:00.000000000",
          "2024-04-07T00:00:00.000000000",
          "2024-04-08T00:00:00.000000000",
          "2024-04-09T00:00:00.000000000",
          "2024-04-10T00:00:00.000000000",
          "2024-04-11T00:00:00.000000000",
          "2024-04-12T00:00:00.000000000",
          "2024-04-13T00:00:00.000000000",
          "2024-04-14T00:00:00.000000000",
          "2024-04-15T00:00:00.000000000",
          "2024-04-16T00:00:00.000000000",
          "2024-04-17T00:00:00.000000000",
          "2024-04-18T00:00:00.000000000",
          "2024-04-19T00:00:00.000000000",
          "2024-04-20T00:00:00.000000000",
          "2024-04-21T00:00:00.000000000",
          "2024-04-22T00:00:00.000000000",
          "2024-04-23T00:00:00.000000000",
          "2024-04-24T00:00:00.000000000",
          "2024-04-25T00:00:00.000000000",
          "2024-04-26T00:00:00.000000000",
          "2024-04-27T00:00:00.000000000",
          "2024-04-28T00:00:00.000000000",
          "2024-04-29T00:00:00.000000000",
          "2024-04-30T00:00:00.000000000",
          "2024-05-02T00:00:00.000000000",
          "2024-05-03T00:00:00.000000000",
          "2024-05-06T00:00:00.000000000",
          "2024-05-07T00:00:00.000000000",
          "2024-05-08T00:00:00.000000000",
          "2024-05-09T00:00:00.000000000",
          "2024-05-10T00:00:00.000000000",
          "2024-05-11T00:00:00.000000000",
          "2024-05-12T00:00:00.000000000",
          "2024-05-13T00:00:00.000000000",
          "2024-05-14T00:00:00.000000000",
          "2024-05-15T00:00:00.000000000",
          "2024-05-16T00:00:00.000000000",
          "2024-05-17T00:00:00.000000000",
          "2024-05-18T00:00:00.000000000",
          "2024-05-19T00:00:00.000000000",
          "2024-05-20T00:00:00.000000000",
          "2024-05-21T00:00:00.000000000",
          "2024-05-22T00:00:00.000000000",
          "2024-05-23T00:00:00.000000000",
          "2024-05-24T00:00:00.000000000",
          "2024-05-25T00:00:00.000000000",
          "2024-05-26T00:00:00.000000000",
          "2024-05-27T00:00:00.000000000",
          "2024-05-28T00:00:00.000000000",
          "2024-05-29T00:00:00.000000000",
          "2024-05-30T00:00:00.000000000",
          "2024-05-31T00:00:00.000000000",
          "2024-06-01T00:00:00.000000000",
          "2024-06-02T00:00:00.000000000",
          "2024-06-03T00:00:00.000000000",
          "2024-06-04T00:00:00.000000000",
          "2024-06-05T00:00:00.000000000",
          "2024-06-06T00:00:00.000000000",
          "2024-06-07T00:00:00.000000000",
          "2024-06-08T00:00:00.000000000",
          "2024-06-09T00:00:00.000000000",
          "2024-06-10T00:00:00.000000000",
          "2024-06-11T00:00:00.000000000",
          "2024-06-12T00:00:00.000000000",
          "2024-06-13T00:00:00.000000000",
          "2024-06-14T00:00:00.000000000",
          "2024-06-15T00:00:00.000000000",
          "2024-06-16T00:00:00.000000000",
          "2024-06-17T00:00:00.000000000",
          "2024-06-18T00:00:00.000000000",
          "2024-06-19T00:00:00.000000000",
          "2024-06-20T00:00:00.000000000",
          "2024-06-21T00:00:00.000000000",
          "2024-06-22T00:00:00.000000000",
          "2024-06-23T00:00:00.000000000",
          "2024-06-24T00:00:00.000000000",
          "2024-06-25T00:00:00.000000000",
          "2024-06-26T00:00:00.000000000",
          "2024-06-27T00:00:00.000000000",
          "2024-06-28T00:00:00.000000000",
          "2024-06-29T00:00:00.000000000",
          "2024-06-30T00:00:00.000000000",
          "2024-07-01T00:00:00.000000000",
          "2024-07-02T00:00:00.000000000",
          "2024-07-03T00:00:00.000000000",
          "2024-07-04T00:00:00.000000000",
          "2024-07-05T00:00:00.000000000",
          "2024-07-06T00:00:00.000000000",
          "2024-07-07T00:00:00.000000000",
          "2024-07-08T00:00:00.000000000",
          "2024-07-09T00:00:00.000000000",
          "2024-07-10T00:00:00.000000000",
          "2024-07-11T00:00:00.000000000",
          "2024-07-12T00:00:00.000000000",
          "2024-07-13T00:00:00.000000000",
          "2024-07-14T00:00:00.000000000",
          "2024-07-15T00:00:00.000000000",
          "2024-07-16T00:00:00.000000000",
          "2024-07-17T00:00:00.000000000",
          "2024-07-18T00:00:00.000000000",
          "2024-07-19T00:00:00.000000000",
          "2024-07-20T00:00:00.000000000",
          "2024-07-21T00:00:00.000000000",
          "2024-07-22T00:00:00.000000000",
          "2024-07-23T00:00:00.000000000",
          "2024-07-24T00:00:00.000000000",
          "2024-07-25T00:00:00.000000000",
          "2024-07-26T00:00:00.000000000",
          "2024-07-27T00:00:00.000000000",
          "2024-07-28T00:00:00.000000000",
          "2024-07-29T00:00:00.000000000",
          "2024-07-30T00:00:00.000000000",
          "2024-07-31T00:00:00.000000000"
         ],
         "xaxis": "x",
         "y": {
          "bdata": "zczMzMzEeEAzMzMzM4NsQJqZmZmZ0XVAZmZmZmbmYEAAAAAAACh1QGZmZmZmRmVAMzMzMzODa0AAAAAAAJhwQGZmZmZm9n1AMzMzMzPzbEAzMzMzMzNxQDMzMzMzg2xAMzMzMzMDcECamZmZmdF4QGZmZmZm5lpAZmZmZmbmZkCamZmZmTlRQGZmZmZm5lxAzczMzMx8a0DNzMzMzLxqQGZmZmZmpmlAzMzMzMysZ0CamZmZmdFxQM3MzMzMrFNANDMzMzPza0AzMzMzM4t3QDMzMzMz+3BAmpmZmZlZX0A0MzMzM4NjQM3MzMzMvGdAzczMzMwsUUCZmZmZmVluQAAAAAAAEGFAAAAAAACgX0AAAAAAACBnQJqZmZmZoXZAMzMzMzODYUAAAAAAADBuQDMzMzMzQ3VANDMzMzNDZ0DNzMzMzMxkQAAAAAAAIGVAZmZmZmbmUEBnZmZmZuZyQM3MzMzMJHtAzMzMzMzMYkAAAAAAAEhxQGZmZmZm5mhAMzMzMzMLdkCamZmZmVFwQM3MzMzM5H5AKVyPwvUoWkAfhetRuA5mQM3MzMzMvGVA9ihcj8IFcUAfhetRuF5eQBSuR+F6xHJAXI/C9SjcQkAAAAAAACBlQMP1KFyPGnBA9ihcj8IFcUDXo3A9CrduQFyPwvUonFxA4XoUrkepc0DhehSuR4F1QFyPwvUo3EJArkfhehR2ckCuR+F6FI5iQKRwPQrXU3JA9ihcj8IFcUAUrkfherRWQArXo3A9OnlAhetRuB7tdUA9CtejcHV0QPYoXI/CJXNA16NwPQq3cUA+CtejcB16QFyPwvUoeIFAZmZmZmauc0CF61G4Hi13QDMzMzMz+4FAFa5H4XpEakA+CtejcN1vQM3MzMzMdIBAH4XrUbjedkCamZmZmUF3QJqZmZmZyXhAhetRuB4td0CPwvUoXD9/QM3MzMzMLHhAmpmZmZmZakBmZmZmZnZvQHsUrkfhon1A4XoUrkdhc0C4HoXrURh4QM3MzMzMrGJA9ihcj8IFYUCPwvUoXEd7QArXo3A9SmxApHA9CtdzakA9CtejcK1rQArXo3A9sndAuB6F61GYX0ApXI/C9WhwQHE9CtejiHlAzczMzMw0dEAUrkfhelRtQFK4HoXryXdAPQrXo3Cta0AK16NwPTp5QAAAAAAAIGVAmpmZmZlZZkA9CtejcK1rQML1KFyPomFAPQrXo3CdaEApXI/C9WhgQGZmZmZm5mNAKVyPwvXwcUApXI/C9WhgQD0K16NwnVhAcT0K16MAaEDhehSuR2FzQB+F61G4Xk5AMzMzMzP7ckAzMzMzM4NkQIXrUbgepXVAMzMzMzNzYUAAAAAAABBiQHE9Ctej8FRAhetRuB4lXUCamZmZmUljQClcj8L1aFBAPgrXo3CNZUApXI/C9WhAQB+F61G4Xk5A7FG4HoXrO0C4HoXrUYBzQB+F61G4Xm5AehSuR+EKaUAfhetRuF5eQFK4HoXrsVpA16NwPQo/dUAK16NwPaJ0QGZmZmZm1nBAH4XrUbjWfEBcj8L1KEx3QNejcD0Kt1NAhetRuB4ddECkcD0K11OEQB+F61G4zoNA",
          "dtype": "f8"
         },
         "yaxis": "y"
        },
        {
         "marker": {
          "color": "orange"
         },
         "name": "Top Coffee Types",
         "type": "bar",
         "x": [
          "Americano with Milk",
          "Latte",
          "Cappuccino",
          "Americano",
          "Cortado",
          "Hot Chocolate",
          "Espresso",
          "Cocoa"
         ],
         "xaxis": "x2",
         "y": {
          "bdata": "DAHzAMQAqQBjAEoAMQAjAA==",
          "dtype": "i2"
         },
         "yaxis": "y2"
        },
        {
         "line": {
          "color": "green"
         },
         "name": "Monthly Revenue",
         "type": "scatter",
         "x": [
          "2024-03-01T00:00:00.000000000",
          "2024-04-01T00:00:00.000000000",
          "2024-05-01T00:00:00.000000000",
          "2024-06-01T00:00:00.000000000",
          "2024-07-01T00:00:00.000000000"
         ],
         "xaxis": "x3",
         "y": {
          "bdata": "MzMzMzOKu0DD9Shcj0C6QClcj8K1s8FA9ihcj8JOvkA+Ctej8AO7QA==",
          "dtype": "f8"
         },
         "yaxis": "y3"
        },
        {
         "domain": {
          "x": [
           0.55,
           1
          ],
          "y": [
           0.3888888888888889,
           0.6111111111111112
          ]
         },
         "hole": 0.3,
         "labels": [
          "card",
          "cash"
         ],
         "name": "Payment Methods",
         "type": "pie",
         "values": {
          "bdata": "j8L1KFzC4EAAAAAAAOSoQA==",
          "dtype": "f8"
         }
        },
        {
         "marker": {
          "color": "purple"
         },
         "name": "Weekly Pattern",
         "type": "bar",
         "x": [
          "Friday",
          "Monday",
          "Saturday",
          "Sunday",
          "Thursday",
          "Tuesday",
          "Wednesday"
         ],
         "xaxis": "x4",
         "y": {
          "bdata": "uB6F61EKtUBI4XoUrmmzQPYoXI9CYLRAMzMzMzO6s0AK16NwvVq1QBWuR+F6zLdAMzMzMzPPtEA=",
          "dtype": "f8"
         },
         "yaxis": "y4"
        },
        {
         "marker": {
          "color": "red"
         },
         "name": "Top Revenue Coffees",
         "type": "bar",
         "x": [
          "Americano with Milk",
          "Latte",
          "Cappuccino",
          "Americano",
          "Cortado",
          "Hot Chocolate",
          "Espresso",
          "Cocoa"
         ],
         "xaxis": "x5",
         "y": {
          "bdata": "H4XrUfjMwEC4HoXrkZjBQHE9CtcjpbxA16NwPYokskBcj8L1KHKlQClcj8L1tKVAFK5H4XoykUD2KFyPwj+UQA==",
          "dtype": "f8"
         },
         "yaxis": "y5"
        }
       ],
       "layout": {
        "annotations": [
         {
          "font": {
           "size": 16
          },
          "showarrow": false,
          "text": "Daily Sales Trend",
          "x": 0.225,
          "xanchor": "center",
          "xref": "paper",
          "y": 1,
          "yanchor": "bottom",
          "yref": "paper"
         },
         {
          "font": {
           "size": 16
          },
          "showarrow": false,
          "text": "Coffee Type Popularity",
          "x": 0.775,
          "xanchor": "center",
          "xref": "paper",
          "y": 1,
          "yanchor": "bottom",
          "yref": "paper"
         },
         {
          "font": {
           "size": 16
          },
          "showarrow": false,
          "text": "Monthly Revenue Trend",
          "x": 0.225,
          "xanchor": "center",
          "xref": "paper",
          "y": 0.6111111111111112,
          "yanchor": "bottom",
          "yref": "paper"
         },
         {
          "font": {
           "size": 16
          },
          "showarrow": false,
          "text": "Payment Method Breakdown",
          "x": 0.775,
          "xanchor": "center",
          "xref": "paper",
          "y": 0.6111111111111112,
          "yanchor": "bottom",
          "yref": "paper"
         },
         {
          "font": {
           "size": 16
          },
          "showarrow": false,
          "text": "Weekly Sales Pattern",
          "x": 0.225,
          "xanchor": "center",
          "xref": "paper",
          "y": 0.22222222222222224,
          "yanchor": "bottom",
          "yref": "paper"
         },
         {
          "font": {
           "size": 16
          },
          "showarrow": false,
          "text": "Top 10 Coffee Types",
          "x": 0.775,
          "xanchor": "center",
          "xref": "paper",
          "y": 0.22222222222222224,
          "yanchor": "bottom",
          "yref": "paper"
         }
        ],
        "height": 900,
        "plot_bgcolor": "white",
        "showlegend": false,
        "template": {
         "data": {
          "bar": [
           {
            "error_x": {
             "color": "#2a3f5f"
            },
            "error_y": {
             "color": "#2a3f5f"
            },
            "marker": {
             "line": {
              "color": "#E5ECF6",
              "width": 0.5
             },
             "pattern": {
              "fillmode": "overlay",
              "size": 10,
              "solidity": 0.2
             }
            },
            "type": "bar"
           }
          ],
          "barpolar": [
           {
            "marker": {
             "line": {
              "color": "#E5ECF6",
              "width": 0.5
             },
             "pattern": {
              "fillmode": "overlay",
              "size": 10,
              "solidity": 0.2
             }
            },
            "type": "barpolar"
           }
          ],
          "carpet": [
           {
            "aaxis": {
             "endlinecolor": "#2a3f5f",
             "gridcolor": "white",
             "linecolor": "white",
             "minorgridcolor": "white",
             "startlinecolor": "#2a3f5f"
            },
            "baxis": {
             "endlinecolor": "#2a3f5f",
             "gridcolor": "white",
             "linecolor": "white",
             "minorgridcolor": "white",
             "startlinecolor": "#2a3f5f"
            },
            "type": "carpet"
           }
          ],
          "choropleth": [
           {
            "colorbar": {
             "outlinewidth": 0,
             "ticks": ""
            },
            "type": "choropleth"
           }
          ],
          "contour": [
           {
            "colorbar": {
             "outlinewidth": 0,
             "ticks": ""
            },
            "colorscale": [
             [
              0,
              "#0d0887"
             ],
             [
              0.1111111111111111,
              "#46039f"
             ],
             [
              0.2222222222222222,
              "#7201a8"
             ],
             [
              0.3333333333333333,
              "#9c179e"
             ],
             [
              0.4444444444444444,
              "#bd3786"
             ],
             [
              0.5555555555555556,
              "#d8576b"
             ],
             [
              0.6666666666666666,
              "#ed7953"
             ],
             [
              0.7777777777777778,
              "#fb9f3a"
             ],
             [
              0.8888888888888888,
              "#fdca26"
             ],
             [
              1,
              "#f0f921"
             ]
            ],
            "type": "contour"
           }
          ],
          "contourcarpet": [
           {
            "colorbar": {
             "outlinewidth": 0,
             "ticks": ""
            },
            "type": "contourcarpet"
           }
          ],
          "heatmap": [
           {
            "colorbar": {
             "outlinewidth": 0,
             "ticks": ""
            },
            "colorscale": [
             [
              0,
              "#0d0887"
             ],
             [
              0.1111111111111111,
              "#46039f"
             ],
             [
              0.2222222222222222,
              "#7201a8"
             ],
             [
              0.3333333333333333,
              "#9c179e"
             ],
             [
              0.4444444444444444,
              "#bd3786"
             ],
             [
              0.5555555555555556,
              "#d8576b"
             ],
             [
              0.6666666666666666,
              "#ed7953"
             ],
             [
              0.7777777777777778,
              "#fb9f3a"
             ],
             [
              0.8888888888888888,
              "#fdca26"
             ],
             [
              1,
              "#f0f921"
             ]
            ],
            "type": "heatmap"
           }
          ],
          "histogram": [
           {
            "marker": {
             "pattern": {
              "fillmode": "overlay",
              "size": 10,
              "solidity": 0.2
             }
            },
            "type": "histogram"
           }
          ],
          "histogram2d": [
           {
            "colorbar": {
             "outlinewidth": 0,
             "ticks": ""
            },
            "colorscale": [
             [
              0,
              "#0d0887"
             ],
             [
              0.1111111111111111,
              "#46039f"
             ],
             [
              0.2222222222222222,
              "#7201a8"
             ],
             [
              0.3333333333333333,
              "#9c179e"
             ],
             [
              0.4444444444444444,
              "#bd3786"
             ],
             [
              0.5555555555555556,
              "#d8576b"
             ],
             [
              0.6666666666666666,
              "#ed7953"
             ],
             [
              0.7777777777777778,
              "#fb9f3a"
             ],
             [
              0.8888888888888888,
              "#fdca26"
             ],
             [
              1,
              "#f0f921"
             ]
            ],
            "type": "histogram2d"
           }
          ],
          "histogram2dcontour": [
           {
            "colorbar": {
             "outlinewidth": 0,
             "ticks": ""
            },
            "colorscale": [
             [
              0,
              "#0d0887"
             ],
             [
              0.1111111111111111,
              "#46039f"
             ],
             [
              0.2222222222222222,
              "#7201a8"
             ],
             [
              0.3333333333333333,
              "#9c179e"
             ],
             [
              0.4444444444444444,
              "#bd3786"
             ],
             [
              0.5555555555555556,
              "#d8576b"
             ],
             [
              0.6666666666666666,
              "#ed7953"
             ],
             [
              0.7777777777777778,
              "#fb9f3a"
             ],
             [
              0.8888888888888888,
              "#fdca26"
             ],
             [
              1,
              "#f0f921"
             ]
            ],
            "type": "histogram2dcontour"
           }
          ],
          "mesh3d": [
           {
            "colorbar": {
             "outlinewidth": 0,
             "ticks": ""
            },
            "type": "mesh3d"
           }
          ],
          "parcoords": [
           {
            "line": {
             "colorbar": {
              "outlinewidth": 0,
              "ticks": ""
             }
            },
            "type": "parcoords"
           }
          ],
          "pie": [
           {
            "automargin": true,
            "type": "pie"
           }
          ],
          "scatter": [
           {
            "fillpattern": {
             "fillmode": "overlay",
             "size": 10,
             "solidity": 0.2
            },
            "type": "scatter"
           }
          ],
          "scatter3d": [
           {
            "line": {
             "colorbar": {
              "outlinewidth": 0,
              "ticks": ""
             }
            },
            "marker": {
             "colorbar": {
              "outlinewidth": 0,
              "ticks": ""
             }
            },
            "type": "scatter3d"
           }
          ],
          "scattercarpet": [
           {
            "marker": {
             "colorbar": {
              "outlinewidth": 0,
              "ticks": ""
             }
            },
            "type": "scattercarpet"
           }
          ],
          "scattergeo": [
           {
            "marker": {
             "colorbar": {
              "outlinewidth": 0,
              "ticks": ""
             }
            },
            "type": "scattergeo"
           }
          ],
          "scattergl": [
           {
            "marker": {
             "colorbar": {
              "outlinewidth": 0,
              "ticks": ""
             }
            },
            "type": "scattergl"
           }
          ],
          "scattermap": [
           {
            "marker": {
             "colorbar": {
              "outlinewidth": 0,
              "ticks": ""
             }
            },
            "type": "scattermap"
           }
          ],
          "scattermapbox": [
           {
            "marker": {
             "colorbar": {
              "outlinewidth": 0,
              "ticks": ""
             }
            },
            "type": "scattermapbox"
           }
          ],
          "scatterpolar": [
           {
            "marker": {
             "colorbar": {
              "outlinewidth": 0,
              "ticks": ""
             }
            },
            "type": "scatterpolar"
           }
          ],
          "scatterpolargl": [
           {
            "marker": {
             "colorbar": {
              "outlinewidth": 0,
              "ticks": ""
             }
            },
            "type": "scatterpolargl"
           }
          ],
          "scatterternary": [
           {
            "marker": {
             "colorbar": {
              "outlinewidth": 0,
              "ticks": ""
             }
            },
            "type": "scatterternary"
           }
          ],
          "surface": [
           {
            "colorbar": {
             "outlinewidth": 0,
             "ticks": ""
            },
            "colorscale": [
             [
              0,
              "#0d0887"
             ],
             [
              0.1111111111111111,
              "#46039f"
             ],
             [
              0.2222222222222222,
              "#7201a8"
             ],
             [
              0.3333333333333333,
              "#9c179e"
             ],
             [
              0.4444444444444444,
              "#bd3786"
             ],
             [
              0.5555555555555556,
              "#d8576b"
             ],
             [
              0.6666666666666666,
              "#ed7953"
             ],
             [
              0.7777777777777778,
              "#fb9f3a"
             ],
             [
              0.8888888888888888,
              "#fdca26"
             ],
             [
              1,
              "#f0f921"
             ]
            ],
            "type": "surface"
           }
          ],
          "table": [
           {
            "cells": {
             "fill": {
              "color": "#EBF0F8"
             },
             "line": {
              "color": "white"
             }
            },
            "header": {
             "fill": {
              "color": "#C8D4E3"
             },
             "line": {
              "color": "white"
             }
            },
            "type": "table"
           }
          ]
         },
         "layout": {
          "annotationdefaults": {
           "arrowcolor": "#2a3f5f",
           "arrowhead": 0,
           "arrowwidth": 1
          },
          "autotypenumbers": "strict",
          "coloraxis": {
           "colorbar": {
            "outlinewidth": 0,
            "ticks": ""
           }
          },
          "colorscale": {
           "diverging": [
            [
             0,
             "#8e0152"
            ],
            [
             0.1,
             "#c51b7d"
            ],
            [
             0.2,
             "#de77ae"
            ],
            [
             0.3,
             "#f1b6da"
            ],
            [
             0.4,
             "#fde0ef"
            ],
            [
             0.5,
             "#f7f7f7"
            ],
            [
             0.6,
             "#e6f5d0"
            ],
            [
             0.7,
             "#b8e186"
            ],
            [
             0.8,
             "#7fbc41"
            ],
            [
             0.9,
             "#4d9221"
            ],
            [
             1,
             "#276419"
            ]
           ],
           "sequential": [
            [
             0,
             "#0d0887"
            ],
            [
             0.1111111111111111,
             "#46039f"
            ],
            [
             0.2222222222222222,
             "#7201a8"
            ],
            [
             0.3333333333333333,
             "#9c179e"
            ],
            [
             0.4444444444444444,
             "#bd3786"
            ],
            [
             0.5555555555555556,
             "#d8576b"
            ],
            [
             0.6666666666666666,
             "#ed7953"
            ],
            [
             0.7777777777777778,
             "#fb9f3a"
            ],
            [
             0.8888888888888888,
             "#fdca26"
            ],
            [
             1,
             "#f0f921"
            ]
           ],
           "sequentialminus": [
            [
             0,
             "#0d0887"
            ],
            [
             0.1111111111111111,
             "#46039f"
            ],
            [
             0.2222222222222222,
             "#7201a8"
            ],
            [
             0.3333333333333333,
             "#9c179e"
            ],
            [
             0.4444444444444444,
             "#bd3786"
            ],
            [
             0.5555555555555556,
             "#d8576b"
            ],
            [
             0.6666666666666666,
             "#ed7953"
            ],
            [
             0.7777777777777778,
             "#fb9f3a"
            ],
            [
             0.8888888888888888,
             "#fdca26"
            ],
            [
             1,
             "#f0f921"
            ]
           ]
          },
          "colorway": [
           "#636efa",
           "#EF553B",
           "#00cc96",
           "#ab63fa",
           "#FFA15A",
           "#19d3f3",
           "#FF6692",
           "#B6E880",
           "#FF97FF",
           "#FECB52"
          ],
          "font": {
           "color": "#2a3f5f"
          },
          "geo": {
           "bgcolor": "white",
           "lakecolor": "white",
           "landcolor": "#E5ECF6",
           "showlakes": true,
           "showland": true,
           "subunitcolor": "white"
          },
          "hoverlabel": {
           "align": "left"
          },
          "hovermode": "closest",
          "mapbox": {
           "style": "light"
          },
          "paper_bgcolor": "white",
          "plot_bgcolor": "#E5ECF6",
          "polar": {
           "angularaxis": {
            "gridcolor": "white",
            "linecolor": "white",
            "ticks": ""
           },
           "bgcolor": "#E5ECF6",
           "radialaxis": {
            "gridcolor": "white",
            "linecolor": "white",
            "ticks": ""
           }
          },
          "scene": {
           "xaxis": {
            "backgroundcolor": "#E5ECF6",
            "gridcolor": "white",
            "gridwidth": 2,
            "linecolor": "white",
            "showbackground": true,
            "ticks": "",
            "zerolinecolor": "white"
           },
           "yaxis": {
            "backgroundcolor": "#E5ECF6",
            "gridcolor": "white",
            "gridwidth": 2,
            "linecolor": "white",
            "showbackground": true,
            "ticks": "",
            "zerolinecolor": "white"
           },
           "zaxis": {
            "backgroundcolor": "#E5ECF6",
            "gridcolor": "white",
            "gridwidth": 2,
            "linecolor": "white",
            "showbackground": true,
            "ticks": "",
            "zerolinecolor": "white"
           }
          },
          "shapedefaults": {
           "line": {
            "color": "#2a3f5f"
           }
          },
          "ternary": {
           "aaxis": {
            "gridcolor": "white",
            "linecolor": "white",
            "ticks": ""
           },
           "baxis": {
            "gridcolor": "white",
            "linecolor": "white",
            "ticks": ""
           },
           "bgcolor": "#E5ECF6",
           "caxis": {
            "gridcolor": "white",
            "linecolor": "white",
            "ticks": ""
           }
          },
          "title": {
           "x": 0.05
          },
          "xaxis": {
           "automargin": true,
           "gridcolor": "white",
           "linecolor": "white",
           "ticks": "",
           "title": {
            "standoff": 15
           },
           "zerolinecolor": "white",
           "zerolinewidth": 2
          },
          "yaxis": {
           "automargin": true,
           "gridcolor": "white",
           "linecolor": "white",
           "ticks": "",
           "title": {
            "standoff": 15
           },
           "zerolinecolor": "white",
           "zerolinewidth": 2
          }
         }
        },
        "title": {
         "text": "Comprehensive Coffee Sales Analysis"
        },
        "xaxis": {
         "anchor": "y",
         "domain": [
          0,
          0.45
         ]
        },
        "xaxis2": {
         "anchor": "y2",
         "domain": [
          0.55,
          1
         ]
        },
        "xaxis3": {
         "anchor": "y3",
         "domain": [
          0,
          0.45
         ]
        },
        "xaxis4": {
         "anchor": "y4",
         "categoryarray": [
          "Monday",
          "Tuesday",
          "Wednesday",
          "Thursday",
          "Friday",
          "Saturday",
          "Sunday"
         ],
         "categoryorder": "array",
         "domain": [
          0,
          0.45
         ]
        },
        "xaxis5": {
         "anchor": "y5",
         "domain": [
          0.55,
          1
         ]
        },
        "yaxis": {
         "anchor": "x",
         "domain": [
          0.7777777777777778,
          1
         ]
        },
        "yaxis2": {
         "anchor": "x2",
         "domain": [
          0.7777777777777778,
          1
         ]
        },
        "yaxis3": {
         "anchor": "x3",
         "domain": [
          0.3888888888888889,
          0.6111111111111112
         ]
        },
        "yaxis4": {
         "anchor": "x4",
         "domain": [
          0,
          0.22222222222222224
         ]
        },
        "yaxis5": {
         "anchor": "x5",
         "domain": [
          0,
          0.22222222222222224
         ]
        }
       }
      }
     },
     "metadata": {},
     "output_type": "display_data"
    }
   ],
   "source": [
    "import pandas as pd\n",
    "import numpy as np\n",
    "import plotly.express as px\n",
    "import plotly.graph_objects as go\n",
    "from plotly.subplots import make_subplots\n",
    "\n",
    "# Get the coffee sales data\n",
    "df = pd.read_csv(\"index.csv\")\n",
    "\n",
    "# Convert date and datetime columns to proper datetime format\n",
    "df['date'] = pd.to_datetime(df['date'])\n",
    "df['datetime'] = pd.to_datetime(df['datetime'])\n",
    "\n",
    "# Summary statistics\n",
    "summary_stats = df.describe(include='all')\n",
    "\n",
    "# Sales by date\n",
    "daily_sales = df.groupby('date').agg({\n",
    "    'money': ['sum', 'count', 'mean'],\n",
    "    'coffee_name': 'count'\n",
    "}).reset_index()\n",
    "daily_sales.columns = ['date', 'total_revenue', 'transaction_count', 'avg_transaction', 'coffee_count']\n",
    "\n",
    "# Sales by coffee type\n",
    "coffee_sales = df.groupby('coffee_name').agg({\n",
    "    'money': ['sum', 'count', 'mean'],\n",
    "    'date': 'nunique'\n",
    "}).reset_index()\n",
    "coffee_sales.columns = ['coffee_name', 'total_revenue', 'total_sales', 'avg_price', 'days_sold']\n",
    "coffee_sales = coffee_sales.sort_values('total_sales', ascending=False)\n",
    "\n",
    "# Payment method analysis\n",
    "payment_analysis = df.groupby('cash_type').agg({\n",
    "    'money': ['sum', 'count', 'mean'],\n",
    "    'coffee_name': 'count'\n",
    "}).reset_index()\n",
    "payment_analysis.columns = ['payment_method', 'total_revenue', 'transaction_count', 'avg_transaction', 'coffee_count']\n",
    "\n",
    "# Monthly sales\n",
    "df['month'] = df['date'].dt.to_period('M')\n",
    "monthly_sales = df.groupby('month').agg({\n",
    "    'money': ['sum', 'count'],\n",
    "    'coffee_name': 'count'\n",
    "}).reset_index()\n",
    "monthly_sales.columns = ['month', 'total_revenue', 'transaction_count', 'coffee_count']\n",
    "monthly_sales['month'] = monthly_sales['month'].dt.to_timestamp()\n",
    "\n",
    "# Weekly pattern analysis\n",
    "df['day_of_week'] = df['date'].dt.day_name()\n",
    "weekly_sales = df.groupby('day_of_week').agg({\n",
    "    'money': ['sum', 'count'],\n",
    "    'coffee_name': 'count'\n",
    "}).reset_index()\n",
    "weekly_sales.columns = ['day_of_week', 'total_revenue', 'transaction_count', 'coffee_count']\n",
    "\n",
    "# Create subplots for comprehensive visualization\n",
    "fig = make_subplots(\n",
    "    rows=3, cols=2,\n",
    "    subplot_titles=(\n",
    "        'Daily Sales Trend',\n",
    "        'Coffee Type Popularity',\n",
    "        'Monthly Revenue Trend',\n",
    "        'Payment Method Breakdown',\n",
    "        'Weekly Sales Pattern',\n",
    "        'Top 10 Coffee Types'\n",
    "    ),\n",
    "    specs=[[{\"secondary_y\": False}, {\"secondary_y\": False}],\n",
    "           [{\"secondary_y\": False}, {\"type\": \"domain\"}],\n",
    "           [{\"secondary_y\": False}, {\"secondary_y\": False}]]\n",
    ")\n",
    "\n",
    "# Daily sales trend\n",
    "fig.add_trace(\n",
    "    go.Scatter(x=daily_sales['date'], y=daily_sales['total_revenue'],\n",
    "               name='Daily Revenue', line=dict(color='blue')),\n",
    "    row=1, col=1\n",
    ")\n",
    "\n",
    "# Coffee type popularity (top 10)\n",
    "top_coffees = coffee_sales.head(10)\n",
    "fig.add_trace(\n",
    "    go.Bar(x=top_coffees['coffee_name'], y=top_coffees['total_sales'],\n",
    "           name='Top Coffee Types', marker_color='orange'),\n",
    "    row=1, col=2\n",
    ")\n",
    "\n",
    "# Monthly revenue trend\n",
    "fig.add_trace(\n",
    "    go.Scatter(x=monthly_sales['month'], y=monthly_sales['total_revenue'],\n",
    "               name='Monthly Revenue', line=dict(color='green')),\n",
    "    row=2, col=1\n",
    ")\n",
    "\n",
    "# Payment method breakdown\n",
    "fig.add_trace(\n",
    "    go.Pie(labels=payment_analysis['payment_method'], values=payment_analysis['total_revenue'],\n",
    "           name='Payment Methods', hole=0.3),\n",
    "    row=2, col=2\n",
    ")\n",
    "\n",
    "# Weekly sales pattern\n",
    "fig.add_trace(\n",
    "    go.Bar(x=weekly_sales['day_of_week'], y=weekly_sales['total_revenue'],\n",
    "           name='Weekly Pattern', marker_color='purple'),\n",
    "    row=3, col=1\n",
    ")\n",
    "\n",
    "# Top 10 coffee types by revenue\n",
    "top_revenue_coffees = coffee_sales.head(10)\n",
    "fig.add_trace(\n",
    "    go.Bar(x=top_revenue_coffees['coffee_name'], y=top_revenue_coffees['total_revenue'],\n",
    "           name='Top Revenue Coffees', marker_color='red'),\n",
    "    row=3, col=2\n",
    ")\n",
    "\n",
    "# Update layout\n",
    "fig.update_layout(\n",
    "    title='Comprehensive Coffee Sales Analysis',\n",
    "    height=900,\n",
    "    showlegend=False,\n",
    "    plot_bgcolor='white'\n",
    ")\n",
    "\n",
    "# Update x-axis for weekly pattern to show proper order\n",
    "day_order = ['Monday', 'Tuesday', 'Wednesday', 'Thursday', 'Friday', 'Saturday', 'Sunday']\n",
    "fig.update_xaxes(categoryorder='array', categoryarray=day_order, row=3, col=1)\n",
    "\n",
    "fig.show()"
   ]
  },
  {
   "cell_type": "code",
   "execution_count": 2,
   "id": "2ab8d6ec",
   "metadata": {},
   "outputs": [
    {
     "name": "stderr",
     "output_type": "stream",
     "text": [
      "C:\\Users\\shrey\\AppData\\Local\\Temp\\ipykernel_9856\\237315122.py:19: FutureWarning:\n",
      "\n",
      "DataFrame.fillna with 'method' is deprecated and will raise in a future version. Use obj.ffill() or obj.bfill() instead.\n",
      "\n",
      "g:\\MCA Practice\\MLporoject\\.venv\\Lib\\site-packages\\sklearn\\utils\\validation.py:2749: UserWarning:\n",
      "\n",
      "X does not have valid feature names, but RandomForestRegressor was fitted with feature names\n",
      "\n",
      "g:\\MCA Practice\\MLporoject\\.venv\\Lib\\site-packages\\sklearn\\utils\\validation.py:2749: UserWarning:\n",
      "\n",
      "X does not have valid feature names, but RandomForestRegressor was fitted with feature names\n",
      "\n",
      "g:\\MCA Practice\\MLporoject\\.venv\\Lib\\site-packages\\sklearn\\utils\\validation.py:2749: UserWarning:\n",
      "\n",
      "X does not have valid feature names, but RandomForestRegressor was fitted with feature names\n",
      "\n",
      "g:\\MCA Practice\\MLporoject\\.venv\\Lib\\site-packages\\sklearn\\utils\\validation.py:2749: UserWarning:\n",
      "\n",
      "X does not have valid feature names, but RandomForestRegressor was fitted with feature names\n",
      "\n",
      "g:\\MCA Practice\\MLporoject\\.venv\\Lib\\site-packages\\sklearn\\utils\\validation.py:2749: UserWarning:\n",
      "\n",
      "X does not have valid feature names, but RandomForestRegressor was fitted with feature names\n",
      "\n",
      "g:\\MCA Practice\\MLporoject\\.venv\\Lib\\site-packages\\sklearn\\utils\\validation.py:2749: UserWarning:\n",
      "\n",
      "X does not have valid feature names, but RandomForestRegressor was fitted with feature names\n",
      "\n",
      "g:\\MCA Practice\\MLporoject\\.venv\\Lib\\site-packages\\sklearn\\utils\\validation.py:2749: UserWarning:\n",
      "\n",
      "X does not have valid feature names, but RandomForestRegressor was fitted with feature names\n",
      "\n",
      "g:\\MCA Practice\\MLporoject\\.venv\\Lib\\site-packages\\sklearn\\utils\\validation.py:2749: UserWarning:\n",
      "\n",
      "X does not have valid feature names, but RandomForestRegressor was fitted with feature names\n",
      "\n",
      "g:\\MCA Practice\\MLporoject\\.venv\\Lib\\site-packages\\sklearn\\utils\\validation.py:2749: UserWarning:\n",
      "\n",
      "X does not have valid feature names, but RandomForestRegressor was fitted with feature names\n",
      "\n",
      "g:\\MCA Practice\\MLporoject\\.venv\\Lib\\site-packages\\sklearn\\utils\\validation.py:2749: UserWarning:\n",
      "\n",
      "X does not have valid feature names, but RandomForestRegressor was fitted with feature names\n",
      "\n",
      "g:\\MCA Practice\\MLporoject\\.venv\\Lib\\site-packages\\sklearn\\utils\\validation.py:2749: UserWarning:\n",
      "\n",
      "X does not have valid feature names, but RandomForestRegressor was fitted with feature names\n",
      "\n",
      "g:\\MCA Practice\\MLporoject\\.venv\\Lib\\site-packages\\sklearn\\utils\\validation.py:2749: UserWarning:\n",
      "\n",
      "X does not have valid feature names, but RandomForestRegressor was fitted with feature names\n",
      "\n",
      "g:\\MCA Practice\\MLporoject\\.venv\\Lib\\site-packages\\sklearn\\utils\\validation.py:2749: UserWarning:\n",
      "\n",
      "X does not have valid feature names, but RandomForestRegressor was fitted with feature names\n",
      "\n",
      "g:\\MCA Practice\\MLporoject\\.venv\\Lib\\site-packages\\sklearn\\utils\\validation.py:2749: UserWarning:\n",
      "\n",
      "X does not have valid feature names, but RandomForestRegressor was fitted with feature names\n",
      "\n",
      "g:\\MCA Practice\\MLporoject\\.venv\\Lib\\site-packages\\sklearn\\utils\\validation.py:2749: UserWarning:\n",
      "\n",
      "X does not have valid feature names, but RandomForestRegressor was fitted with feature names\n",
      "\n",
      "g:\\MCA Practice\\MLporoject\\.venv\\Lib\\site-packages\\sklearn\\utils\\validation.py:2749: UserWarning:\n",
      "\n",
      "X does not have valid feature names, but RandomForestRegressor was fitted with feature names\n",
      "\n",
      "g:\\MCA Practice\\MLporoject\\.venv\\Lib\\site-packages\\sklearn\\utils\\validation.py:2749: UserWarning:\n",
      "\n",
      "X does not have valid feature names, but RandomForestRegressor was fitted with feature names\n",
      "\n",
      "g:\\MCA Practice\\MLporoject\\.venv\\Lib\\site-packages\\sklearn\\utils\\validation.py:2749: UserWarning:\n",
      "\n",
      "X does not have valid feature names, but RandomForestRegressor was fitted with feature names\n",
      "\n",
      "g:\\MCA Practice\\MLporoject\\.venv\\Lib\\site-packages\\sklearn\\utils\\validation.py:2749: UserWarning:\n",
      "\n",
      "X does not have valid feature names, but RandomForestRegressor was fitted with feature names\n",
      "\n",
      "g:\\MCA Practice\\MLporoject\\.venv\\Lib\\site-packages\\sklearn\\utils\\validation.py:2749: UserWarning:\n",
      "\n",
      "X does not have valid feature names, but RandomForestRegressor was fitted with feature names\n",
      "\n",
      "g:\\MCA Practice\\MLporoject\\.venv\\Lib\\site-packages\\sklearn\\utils\\validation.py:2749: UserWarning:\n",
      "\n",
      "X does not have valid feature names, but RandomForestRegressor was fitted with feature names\n",
      "\n",
      "g:\\MCA Practice\\MLporoject\\.venv\\Lib\\site-packages\\sklearn\\utils\\validation.py:2749: UserWarning:\n",
      "\n",
      "X does not have valid feature names, but RandomForestRegressor was fitted with feature names\n",
      "\n",
      "g:\\MCA Practice\\MLporoject\\.venv\\Lib\\site-packages\\sklearn\\utils\\validation.py:2749: UserWarning:\n",
      "\n",
      "X does not have valid feature names, but RandomForestRegressor was fitted with feature names\n",
      "\n",
      "g:\\MCA Practice\\MLporoject\\.venv\\Lib\\site-packages\\sklearn\\utils\\validation.py:2749: UserWarning:\n",
      "\n",
      "X does not have valid feature names, but RandomForestRegressor was fitted with feature names\n",
      "\n",
      "g:\\MCA Practice\\MLporoject\\.venv\\Lib\\site-packages\\sklearn\\utils\\validation.py:2749: UserWarning:\n",
      "\n",
      "X does not have valid feature names, but RandomForestRegressor was fitted with feature names\n",
      "\n",
      "g:\\MCA Practice\\MLporoject\\.venv\\Lib\\site-packages\\sklearn\\utils\\validation.py:2749: UserWarning:\n",
      "\n",
      "X does not have valid feature names, but RandomForestRegressor was fitted with feature names\n",
      "\n",
      "g:\\MCA Practice\\MLporoject\\.venv\\Lib\\site-packages\\sklearn\\utils\\validation.py:2749: UserWarning:\n",
      "\n",
      "X does not have valid feature names, but RandomForestRegressor was fitted with feature names\n",
      "\n",
      "g:\\MCA Practice\\MLporoject\\.venv\\Lib\\site-packages\\sklearn\\utils\\validation.py:2749: UserWarning:\n",
      "\n",
      "X does not have valid feature names, but RandomForestRegressor was fitted with feature names\n",
      "\n",
      "g:\\MCA Practice\\MLporoject\\.venv\\Lib\\site-packages\\sklearn\\utils\\validation.py:2749: UserWarning:\n",
      "\n",
      "X does not have valid feature names, but RandomForestRegressor was fitted with feature names\n",
      "\n",
      "g:\\MCA Practice\\MLporoject\\.venv\\Lib\\site-packages\\sklearn\\utils\\validation.py:2749: UserWarning:\n",
      "\n",
      "X does not have valid feature names, but RandomForestRegressor was fitted with feature names\n",
      "\n"
     ]
    },
    {
     "data": {
      "application/vnd.plotly.v1+json": {
       "config": {
        "plotlyServerURL": "https://plot.ly"
       },
       "data": [
        {
         "line": {
          "color": "blue"
         },
         "name": "Actual Daily Sales",
         "type": "scatter",
         "x": [
          "2024-03-01T00:00:00.000000000",
          "2024-03-02T00:00:00.000000000",
          "2024-03-03T00:00:00.000000000",
          "2024-03-04T00:00:00.000000000",
          "2024-03-05T00:00:00.000000000",
          "2024-03-06T00:00:00.000000000",
          "2024-03-07T00:00:00.000000000",
          "2024-03-08T00:00:00.000000000",
          "2024-03-09T00:00:00.000000000",
          "2024-03-10T00:00:00.000000000",
          "2024-03-11T00:00:00.000000000",
          "2024-03-12T00:00:00.000000000",
          "2024-03-13T00:00:00.000000000",
          "2024-03-14T00:00:00.000000000",
          "2024-03-15T00:00:00.000000000",
          "2024-03-16T00:00:00.000000000",
          "2024-03-17T00:00:00.000000000",
          "2024-03-18T00:00:00.000000000",
          "2024-03-19T00:00:00.000000000",
          "2024-03-20T00:00:00.000000000",
          "2024-03-21T00:00:00.000000000",
          "2024-03-22T00:00:00.000000000",
          "2024-03-23T00:00:00.000000000",
          "2024-03-24T00:00:00.000000000",
          "2024-03-25T00:00:00.000000000",
          "2024-03-26T00:00:00.000000000",
          "2024-03-27T00:00:00.000000000",
          "2024-03-28T00:00:00.000000000",
          "2024-03-29T00:00:00.000000000",
          "2024-03-30T00:00:00.000000000",
          "2024-03-31T00:00:00.000000000",
          "2024-04-01T00:00:00.000000000",
          "2024-04-02T00:00:00.000000000",
          "2024-04-03T00:00:00.000000000",
          "2024-04-04T00:00:00.000000000",
          "2024-04-05T00:00:00.000000000",
          "2024-04-06T00:00:00.000000000",
          "2024-04-07T00:00:00.000000000",
          "2024-04-08T00:00:00.000000000",
          "2024-04-09T00:00:00.000000000",
          "2024-04-10T00:00:00.000000000",
          "2024-04-11T00:00:00.000000000",
          "2024-04-12T00:00:00.000000000",
          "2024-04-13T00:00:00.000000000",
          "2024-04-14T00:00:00.000000000",
          "2024-04-15T00:00:00.000000000",
          "2024-04-16T00:00:00.000000000",
          "2024-04-17T00:00:00.000000000",
          "2024-04-18T00:00:00.000000000",
          "2024-04-19T00:00:00.000000000",
          "2024-04-20T00:00:00.000000000",
          "2024-04-21T00:00:00.000000000",
          "2024-04-22T00:00:00.000000000",
          "2024-04-23T00:00:00.000000000",
          "2024-04-24T00:00:00.000000000",
          "2024-04-25T00:00:00.000000000",
          "2024-04-26T00:00:00.000000000",
          "2024-04-27T00:00:00.000000000",
          "2024-04-28T00:00:00.000000000",
          "2024-04-29T00:00:00.000000000",
          "2024-04-30T00:00:00.000000000",
          "2024-05-01T00:00:00.000000000",
          "2024-05-02T00:00:00.000000000",
          "2024-05-03T00:00:00.000000000",
          "2024-05-04T00:00:00.000000000",
          "2024-05-05T00:00:00.000000000",
          "2024-05-06T00:00:00.000000000",
          "2024-05-07T00:00:00.000000000",
          "2024-05-08T00:00:00.000000000",
          "2024-05-09T00:00:00.000000000",
          "2024-05-10T00:00:00.000000000",
          "2024-05-11T00:00:00.000000000",
          "2024-05-12T00:00:00.000000000",
          "2024-05-13T00:00:00.000000000",
          "2024-05-14T00:00:00.000000000",
          "2024-05-15T00:00:00.000000000",
          "2024-05-16T00:00:00.000000000",
          "2024-05-17T00:00:00.000000000",
          "2024-05-18T00:00:00.000000000",
          "2024-05-19T00:00:00.000000000",
          "2024-05-20T00:00:00.000000000",
          "2024-05-21T00:00:00.000000000",
          "2024-05-22T00:00:00.000000000",
          "2024-05-23T00:00:00.000000000",
          "2024-05-24T00:00:00.000000000",
          "2024-05-25T00:00:00.000000000",
          "2024-05-26T00:00:00.000000000",
          "2024-05-27T00:00:00.000000000",
          "2024-05-28T00:00:00.000000000",
          "2024-05-29T00:00:00.000000000",
          "2024-05-30T00:00:00.000000000",
          "2024-05-31T00:00:00.000000000",
          "2024-06-01T00:00:00.000000000",
          "2024-06-02T00:00:00.000000000",
          "2024-06-03T00:00:00.000000000",
          "2024-06-04T00:00:00.000000000",
          "2024-06-05T00:00:00.000000000",
          "2024-06-06T00:00:00.000000000",
          "2024-06-07T00:00:00.000000000",
          "2024-06-08T00:00:00.000000000",
          "2024-06-09T00:00:00.000000000",
          "2024-06-10T00:00:00.000000000",
          "2024-06-11T00:00:00.000000000",
          "2024-06-12T00:00:00.000000000",
          "2024-06-13T00:00:00.000000000",
          "2024-06-14T00:00:00.000000000",
          "2024-06-15T00:00:00.000000000",
          "2024-06-16T00:00:00.000000000",
          "2024-06-17T00:00:00.000000000",
          "2024-06-18T00:00:00.000000000",
          "2024-06-19T00:00:00.000000000",
          "2024-06-20T00:00:00.000000000",
          "2024-06-21T00:00:00.000000000",
          "2024-06-22T00:00:00.000000000",
          "2024-06-23T00:00:00.000000000",
          "2024-06-24T00:00:00.000000000",
          "2024-06-25T00:00:00.000000000",
          "2024-06-26T00:00:00.000000000",
          "2024-06-27T00:00:00.000000000",
          "2024-06-28T00:00:00.000000000",
          "2024-06-29T00:00:00.000000000",
          "2024-06-30T00:00:00.000000000",
          "2024-07-01T00:00:00.000000000",
          "2024-07-02T00:00:00.000000000",
          "2024-07-03T00:00:00.000000000",
          "2024-07-04T00:00:00.000000000",
          "2024-07-05T00:00:00.000000000",
          "2024-07-06T00:00:00.000000000",
          "2024-07-07T00:00:00.000000000",
          "2024-07-08T00:00:00.000000000",
          "2024-07-09T00:00:00.000000000",
          "2024-07-10T00:00:00.000000000",
          "2024-07-11T00:00:00.000000000",
          "2024-07-12T00:00:00.000000000",
          "2024-07-13T00:00:00.000000000",
          "2024-07-14T00:00:00.000000000",
          "2024-07-15T00:00:00.000000000",
          "2024-07-16T00:00:00.000000000",
          "2024-07-17T00:00:00.000000000",
          "2024-07-18T00:00:00.000000000",
          "2024-07-19T00:00:00.000000000",
          "2024-07-20T00:00:00.000000000",
          "2024-07-21T00:00:00.000000000",
          "2024-07-22T00:00:00.000000000",
          "2024-07-23T00:00:00.000000000",
          "2024-07-24T00:00:00.000000000",
          "2024-07-25T00:00:00.000000000",
          "2024-07-26T00:00:00.000000000",
          "2024-07-27T00:00:00.000000000",
          "2024-07-28T00:00:00.000000000",
          "2024-07-29T00:00:00.000000000",
          "2024-07-30T00:00:00.000000000",
          "2024-07-31T00:00:00.000000000"
         ],
         "y": {
          "bdata": "zczMzMzEeEAzMzMzM4NsQJqZmZmZ0XVAZmZmZmbmYEAAAAAAACh1QGZmZmZmRmVAMzMzMzODa0AAAAAAAJhwQGZmZmZm9n1AMzMzMzPzbEAzMzMzMzNxQDMzMzMzg2xAMzMzMzMDcECamZmZmdF4QGZmZmZm5lpAZmZmZmbmZkCamZmZmTlRQGZmZmZm5lxAzczMzMx8a0DNzMzMzLxqQGZmZmZmpmlAzMzMzMysZ0CamZmZmdFxQM3MzMzMrFNANDMzMzPza0AzMzMzM4t3QDMzMzMz+3BAmpmZmZlZX0A0MzMzM4NjQM3MzMzMvGdAzczMzMwsUUCZmZmZmVluQAAAAAAAEGFAAAAAAACgX0AAAAAAACBnQJqZmZmZoXZAMzMzMzODYUAAAAAAADBuQDMzMzMzQ3VANDMzMzNDZ0DNzMzMzMxkQAAAAAAAIGVAZmZmZmbmUEBnZmZmZuZyQM3MzMzMJHtAzMzMzMzMYkAAAAAAAEhxQGZmZmZm5mhAMzMzMzMLdkCamZmZmVFwQM3MzMzM5H5AKVyPwvUoWkAfhetRuA5mQM3MzMzMvGVA9ihcj8IFcUAfhetRuF5eQBSuR+F6xHJAXI/C9SjcQkAAAAAAACBlQMP1KFyPGnBA9ihcj8IFcUD2KFyPwgVxQNejcD0Kt25AXI/C9SicXEBcj8L1KJxcQFyPwvUonFxA4XoUrkepc0DhehSuR4F1QFyPwvUo3EJArkfhehR2ckCuR+F6FI5iQKRwPQrXU3JA9ihcj8IFcUAUrkfherRWQArXo3A9OnlAhetRuB7tdUA9CtejcHV0QPYoXI/CJXNA16NwPQq3cUA+CtejcB16QFyPwvUoeIFAZmZmZmauc0CF61G4Hi13QDMzMzMz+4FAFa5H4XpEakA+CtejcN1vQM3MzMzMdIBAH4XrUbjedkCamZmZmUF3QJqZmZmZyXhAhetRuB4td0CPwvUoXD9/QM3MzMzMLHhAmpmZmZmZakBmZmZmZnZvQHsUrkfhon1A4XoUrkdhc0C4HoXrURh4QM3MzMzMrGJA9ihcj8IFYUCPwvUoXEd7QArXo3A9SmxApHA9CtdzakA9CtejcK1rQArXo3A9sndAuB6F61GYX0ApXI/C9WhwQHE9CtejiHlAzczMzMw0dEAUrkfhelRtQFK4HoXryXdAPQrXo3Cta0AK16NwPTp5QAAAAAAAIGVAmpmZmZlZZkA9CtejcK1rQML1KFyPomFAPQrXo3CdaEApXI/C9WhgQGZmZmZm5mNAKVyPwvXwcUApXI/C9WhgQD0K16NwnVhAcT0K16MAaEDhehSuR2FzQB+F61G4Xk5AMzMzMzP7ckAzMzMzM4NkQIXrUbgepXVAMzMzMzNzYUAAAAAAABBiQHE9Ctej8FRAhetRuB4lXUCamZmZmUljQClcj8L1aFBAPgrXo3CNZUApXI/C9WhAQB+F61G4Xk5A7FG4HoXrO0C4HoXrUYBzQB+F61G4Xm5AehSuR+EKaUAfhetRuF5eQFK4HoXrsVpA16NwPQo/dUAK16NwPaJ0QGZmZmZm1nBAH4XrUbjWfEBcj8L1KEx3QNejcD0Kt1NAhetRuB4ddECkcD0K11OEQB+F61G4zoNA",
          "dtype": "f8"
         }
        },
        {
         "line": {
          "color": "red",
          "dash": "dash"
         },
         "name": "ARIMA Forecast (30 days)",
         "type": "scatter",
         "x": [
          "2024-08-01T00:00:00.000000000",
          "2024-08-02T00:00:00.000000000",
          "2024-08-03T00:00:00.000000000",
          "2024-08-04T00:00:00.000000000",
          "2024-08-05T00:00:00.000000000",
          "2024-08-06T00:00:00.000000000",
          "2024-08-07T00:00:00.000000000",
          "2024-08-08T00:00:00.000000000",
          "2024-08-09T00:00:00.000000000",
          "2024-08-10T00:00:00.000000000",
          "2024-08-11T00:00:00.000000000",
          "2024-08-12T00:00:00.000000000",
          "2024-08-13T00:00:00.000000000",
          "2024-08-14T00:00:00.000000000",
          "2024-08-15T00:00:00.000000000",
          "2024-08-16T00:00:00.000000000",
          "2024-08-17T00:00:00.000000000",
          "2024-08-18T00:00:00.000000000",
          "2024-08-19T00:00:00.000000000",
          "2024-08-20T00:00:00.000000000",
          "2024-08-21T00:00:00.000000000",
          "2024-08-22T00:00:00.000000000",
          "2024-08-23T00:00:00.000000000",
          "2024-08-24T00:00:00.000000000",
          "2024-08-25T00:00:00.000000000",
          "2024-08-26T00:00:00.000000000",
          "2024-08-27T00:00:00.000000000",
          "2024-08-28T00:00:00.000000000",
          "2024-08-29T00:00:00.000000000",
          "2024-08-30T00:00:00.000000000"
         ],
         "y": {
          "bdata": "zbbGrRtCd0DmbB+OoLN3QJGvRbjZcnlAUFdYcXx+fUDnzkNnotN+QAPzlbswCX1A5v1O5+09ekD0OdO+wkJ7QOGUn5vuP3xA7UUiYOy5fEB4a8tgqGF8QKPvXpiv8XtAK7g/mlCue0AlVI6m3A18QIhCcKjoO3xA560TiNUyfECLB8vmUA58QM/YAr4tA3xAOvQc124HfEDp1C+GHRx8QEapmd/5HXxADoE0JToWfED983FqcQ98QJmfDbZPEXxAsbA7CmEUfEB6ikRMChd8QL0sq7aOFXxAR9ukf7ATfEB1IoKzMBN8QDBtmwpJFHxA",
          "dtype": "f8"
         }
        },
        {
         "line": {
          "color": "green",
          "dash": "dot"
         },
         "name": "Random Forest Forecast (30 days)",
         "type": "scatter",
         "x": [
          "2024-08-01T00:00:00.000000000",
          "2024-08-02T00:00:00.000000000",
          "2024-08-03T00:00:00.000000000",
          "2024-08-04T00:00:00.000000000",
          "2024-08-05T00:00:00.000000000",
          "2024-08-06T00:00:00.000000000",
          "2024-08-07T00:00:00.000000000",
          "2024-08-08T00:00:00.000000000",
          "2024-08-09T00:00:00.000000000",
          "2024-08-10T00:00:00.000000000",
          "2024-08-11T00:00:00.000000000",
          "2024-08-12T00:00:00.000000000",
          "2024-08-13T00:00:00.000000000",
          "2024-08-14T00:00:00.000000000",
          "2024-08-15T00:00:00.000000000",
          "2024-08-16T00:00:00.000000000",
          "2024-08-17T00:00:00.000000000",
          "2024-08-18T00:00:00.000000000",
          "2024-08-19T00:00:00.000000000",
          "2024-08-20T00:00:00.000000000",
          "2024-08-21T00:00:00.000000000",
          "2024-08-22T00:00:00.000000000",
          "2024-08-23T00:00:00.000000000",
          "2024-08-24T00:00:00.000000000",
          "2024-08-25T00:00:00.000000000",
          "2024-08-26T00:00:00.000000000",
          "2024-08-27T00:00:00.000000000",
          "2024-08-28T00:00:00.000000000",
          "2024-08-29T00:00:00.000000000",
          "2024-08-30T00:00:00.000000000"
         ],
         "y": {
          "bdata": "Nzy9UpYvfUCK5PIf0r9+QGhEaW/wQ39AaG/whcnwfUBJnYAmwiuAQPYGX5hMDoBAsL/snjwYgEAgyeU/pDV/QFOfq63YzX5ACJOpglHzfkCU9gZfmOR+QLYehetRPn9AjUrqBDRjf0BJe4MvTCx/QAxxrIvbJn9AYF3cRgPSfkCDyVTBqJh+QI3C9Shcl35AKRiV1AkSf0CNSuoENGN/QEl7gy9MLH9ADHGsi9smf0BgXdxGA9J+QIPJVMGomH5AT7geheuRfkApGJXUCRJ/QI1K6gQ0Y39ASXuDL0wsf0AMcayL2yZ/QGBd3EYD0n5A",
          "dtype": "f8"
         }
        }
       ],
       "layout": {
        "plot_bgcolor": "white",
        "template": {
         "data": {
          "bar": [
           {
            "error_x": {
             "color": "#2a3f5f"
            },
            "error_y": {
             "color": "#2a3f5f"
            },
            "marker": {
             "line": {
              "color": "#E5ECF6",
              "width": 0.5
             },
             "pattern": {
              "fillmode": "overlay",
              "size": 10,
              "solidity": 0.2
             }
            },
            "type": "bar"
           }
          ],
          "barpolar": [
           {
            "marker": {
             "line": {
              "color": "#E5ECF6",
              "width": 0.5
             },
             "pattern": {
              "fillmode": "overlay",
              "size": 10,
              "solidity": 0.2
             }
            },
            "type": "barpolar"
           }
          ],
          "carpet": [
           {
            "aaxis": {
             "endlinecolor": "#2a3f5f",
             "gridcolor": "white",
             "linecolor": "white",
             "minorgridcolor": "white",
             "startlinecolor": "#2a3f5f"
            },
            "baxis": {
             "endlinecolor": "#2a3f5f",
             "gridcolor": "white",
             "linecolor": "white",
             "minorgridcolor": "white",
             "startlinecolor": "#2a3f5f"
            },
            "type": "carpet"
           }
          ],
          "choropleth": [
           {
            "colorbar": {
             "outlinewidth": 0,
             "ticks": ""
            },
            "type": "choropleth"
           }
          ],
          "contour": [
           {
            "colorbar": {
             "outlinewidth": 0,
             "ticks": ""
            },
            "colorscale": [
             [
              0,
              "#0d0887"
             ],
             [
              0.1111111111111111,
              "#46039f"
             ],
             [
              0.2222222222222222,
              "#7201a8"
             ],
             [
              0.3333333333333333,
              "#9c179e"
             ],
             [
              0.4444444444444444,
              "#bd3786"
             ],
             [
              0.5555555555555556,
              "#d8576b"
             ],
             [
              0.6666666666666666,
              "#ed7953"
             ],
             [
              0.7777777777777778,
              "#fb9f3a"
             ],
             [
              0.8888888888888888,
              "#fdca26"
             ],
             [
              1,
              "#f0f921"
             ]
            ],
            "type": "contour"
           }
          ],
          "contourcarpet": [
           {
            "colorbar": {
             "outlinewidth": 0,
             "ticks": ""
            },
            "type": "contourcarpet"
           }
          ],
          "heatmap": [
           {
            "colorbar": {
             "outlinewidth": 0,
             "ticks": ""
            },
            "colorscale": [
             [
              0,
              "#0d0887"
             ],
             [
              0.1111111111111111,
              "#46039f"
             ],
             [
              0.2222222222222222,
              "#7201a8"
             ],
             [
              0.3333333333333333,
              "#9c179e"
             ],
             [
              0.4444444444444444,
              "#bd3786"
             ],
             [
              0.5555555555555556,
              "#d8576b"
             ],
             [
              0.6666666666666666,
              "#ed7953"
             ],
             [
              0.7777777777777778,
              "#fb9f3a"
             ],
             [
              0.8888888888888888,
              "#fdca26"
             ],
             [
              1,
              "#f0f921"
             ]
            ],
            "type": "heatmap"
           }
          ],
          "histogram": [
           {
            "marker": {
             "pattern": {
              "fillmode": "overlay",
              "size": 10,
              "solidity": 0.2
             }
            },
            "type": "histogram"
           }
          ],
          "histogram2d": [
           {
            "colorbar": {
             "outlinewidth": 0,
             "ticks": ""
            },
            "colorscale": [
             [
              0,
              "#0d0887"
             ],
             [
              0.1111111111111111,
              "#46039f"
             ],
             [
              0.2222222222222222,
              "#7201a8"
             ],
             [
              0.3333333333333333,
              "#9c179e"
             ],
             [
              0.4444444444444444,
              "#bd3786"
             ],
             [
              0.5555555555555556,
              "#d8576b"
             ],
             [
              0.6666666666666666,
              "#ed7953"
             ],
             [
              0.7777777777777778,
              "#fb9f3a"
             ],
             [
              0.8888888888888888,
              "#fdca26"
             ],
             [
              1,
              "#f0f921"
             ]
            ],
            "type": "histogram2d"
           }
          ],
          "histogram2dcontour": [
           {
            "colorbar": {
             "outlinewidth": 0,
             "ticks": ""
            },
            "colorscale": [
             [
              0,
              "#0d0887"
             ],
             [
              0.1111111111111111,
              "#46039f"
             ],
             [
              0.2222222222222222,
              "#7201a8"
             ],
             [
              0.3333333333333333,
              "#9c179e"
             ],
             [
              0.4444444444444444,
              "#bd3786"
             ],
             [
              0.5555555555555556,
              "#d8576b"
             ],
             [
              0.6666666666666666,
              "#ed7953"
             ],
             [
              0.7777777777777778,
              "#fb9f3a"
             ],
             [
              0.8888888888888888,
              "#fdca26"
             ],
             [
              1,
              "#f0f921"
             ]
            ],
            "type": "histogram2dcontour"
           }
          ],
          "mesh3d": [
           {
            "colorbar": {
             "outlinewidth": 0,
             "ticks": ""
            },
            "type": "mesh3d"
           }
          ],
          "parcoords": [
           {
            "line": {
             "colorbar": {
              "outlinewidth": 0,
              "ticks": ""
             }
            },
            "type": "parcoords"
           }
          ],
          "pie": [
           {
            "automargin": true,
            "type": "pie"
           }
          ],
          "scatter": [
           {
            "fillpattern": {
             "fillmode": "overlay",
             "size": 10,
             "solidity": 0.2
            },
            "type": "scatter"
           }
          ],
          "scatter3d": [
           {
            "line": {
             "colorbar": {
              "outlinewidth": 0,
              "ticks": ""
             }
            },
            "marker": {
             "colorbar": {
              "outlinewidth": 0,
              "ticks": ""
             }
            },
            "type": "scatter3d"
           }
          ],
          "scattercarpet": [
           {
            "marker": {
             "colorbar": {
              "outlinewidth": 0,
              "ticks": ""
             }
            },
            "type": "scattercarpet"
           }
          ],
          "scattergeo": [
           {
            "marker": {
             "colorbar": {
              "outlinewidth": 0,
              "ticks": ""
             }
            },
            "type": "scattergeo"
           }
          ],
          "scattergl": [
           {
            "marker": {
             "colorbar": {
              "outlinewidth": 0,
              "ticks": ""
             }
            },
            "type": "scattergl"
           }
          ],
          "scattermap": [
           {
            "marker": {
             "colorbar": {
              "outlinewidth": 0,
              "ticks": ""
             }
            },
            "type": "scattermap"
           }
          ],
          "scattermapbox": [
           {
            "marker": {
             "colorbar": {
              "outlinewidth": 0,
              "ticks": ""
             }
            },
            "type": "scattermapbox"
           }
          ],
          "scatterpolar": [
           {
            "marker": {
             "colorbar": {
              "outlinewidth": 0,
              "ticks": ""
             }
            },
            "type": "scatterpolar"
           }
          ],
          "scatterpolargl": [
           {
            "marker": {
             "colorbar": {
              "outlinewidth": 0,
              "ticks": ""
             }
            },
            "type": "scatterpolargl"
           }
          ],
          "scatterternary": [
           {
            "marker": {
             "colorbar": {
              "outlinewidth": 0,
              "ticks": ""
             }
            },
            "type": "scatterternary"
           }
          ],
          "surface": [
           {
            "colorbar": {
             "outlinewidth": 0,
             "ticks": ""
            },
            "colorscale": [
             [
              0,
              "#0d0887"
             ],
             [
              0.1111111111111111,
              "#46039f"
             ],
             [
              0.2222222222222222,
              "#7201a8"
             ],
             [
              0.3333333333333333,
              "#9c179e"
             ],
             [
              0.4444444444444444,
              "#bd3786"
             ],
             [
              0.5555555555555556,
              "#d8576b"
             ],
             [
              0.6666666666666666,
              "#ed7953"
             ],
             [
              0.7777777777777778,
              "#fb9f3a"
             ],
             [
              0.8888888888888888,
              "#fdca26"
             ],
             [
              1,
              "#f0f921"
             ]
            ],
            "type": "surface"
           }
          ],
          "table": [
           {
            "cells": {
             "fill": {
              "color": "#EBF0F8"
             },
             "line": {
              "color": "white"
             }
            },
            "header": {
             "fill": {
              "color": "#C8D4E3"
             },
             "line": {
              "color": "white"
             }
            },
            "type": "table"
           }
          ]
         },
         "layout": {
          "annotationdefaults": {
           "arrowcolor": "#2a3f5f",
           "arrowhead": 0,
           "arrowwidth": 1
          },
          "autotypenumbers": "strict",
          "coloraxis": {
           "colorbar": {
            "outlinewidth": 0,
            "ticks": ""
           }
          },
          "colorscale": {
           "diverging": [
            [
             0,
             "#8e0152"
            ],
            [
             0.1,
             "#c51b7d"
            ],
            [
             0.2,
             "#de77ae"
            ],
            [
             0.3,
             "#f1b6da"
            ],
            [
             0.4,
             "#fde0ef"
            ],
            [
             0.5,
             "#f7f7f7"
            ],
            [
             0.6,
             "#e6f5d0"
            ],
            [
             0.7,
             "#b8e186"
            ],
            [
             0.8,
             "#7fbc41"
            ],
            [
             0.9,
             "#4d9221"
            ],
            [
             1,
             "#276419"
            ]
           ],
           "sequential": [
            [
             0,
             "#0d0887"
            ],
            [
             0.1111111111111111,
             "#46039f"
            ],
            [
             0.2222222222222222,
             "#7201a8"
            ],
            [
             0.3333333333333333,
             "#9c179e"
            ],
            [
             0.4444444444444444,
             "#bd3786"
            ],
            [
             0.5555555555555556,
             "#d8576b"
            ],
            [
             0.6666666666666666,
             "#ed7953"
            ],
            [
             0.7777777777777778,
             "#fb9f3a"
            ],
            [
             0.8888888888888888,
             "#fdca26"
            ],
            [
             1,
             "#f0f921"
            ]
           ],
           "sequentialminus": [
            [
             0,
             "#0d0887"
            ],
            [
             0.1111111111111111,
             "#46039f"
            ],
            [
             0.2222222222222222,
             "#7201a8"
            ],
            [
             0.3333333333333333,
             "#9c179e"
            ],
            [
             0.4444444444444444,
             "#bd3786"
            ],
            [
             0.5555555555555556,
             "#d8576b"
            ],
            [
             0.6666666666666666,
             "#ed7953"
            ],
            [
             0.7777777777777778,
             "#fb9f3a"
            ],
            [
             0.8888888888888888,
             "#fdca26"
            ],
            [
             1,
             "#f0f921"
            ]
           ]
          },
          "colorway": [
           "#636efa",
           "#EF553B",
           "#00cc96",
           "#ab63fa",
           "#FFA15A",
           "#19d3f3",
           "#FF6692",
           "#B6E880",
           "#FF97FF",
           "#FECB52"
          ],
          "font": {
           "color": "#2a3f5f"
          },
          "geo": {
           "bgcolor": "white",
           "lakecolor": "white",
           "landcolor": "#E5ECF6",
           "showlakes": true,
           "showland": true,
           "subunitcolor": "white"
          },
          "hoverlabel": {
           "align": "left"
          },
          "hovermode": "closest",
          "mapbox": {
           "style": "light"
          },
          "paper_bgcolor": "white",
          "plot_bgcolor": "#E5ECF6",
          "polar": {
           "angularaxis": {
            "gridcolor": "white",
            "linecolor": "white",
            "ticks": ""
           },
           "bgcolor": "#E5ECF6",
           "radialaxis": {
            "gridcolor": "white",
            "linecolor": "white",
            "ticks": ""
           }
          },
          "scene": {
           "xaxis": {
            "backgroundcolor": "#E5ECF6",
            "gridcolor": "white",
            "gridwidth": 2,
            "linecolor": "white",
            "showbackground": true,
            "ticks": "",
            "zerolinecolor": "white"
           },
           "yaxis": {
            "backgroundcolor": "#E5ECF6",
            "gridcolor": "white",
            "gridwidth": 2,
            "linecolor": "white",
            "showbackground": true,
            "ticks": "",
            "zerolinecolor": "white"
           },
           "zaxis": {
            "backgroundcolor": "#E5ECF6",
            "gridcolor": "white",
            "gridwidth": 2,
            "linecolor": "white",
            "showbackground": true,
            "ticks": "",
            "zerolinecolor": "white"
           }
          },
          "shapedefaults": {
           "line": {
            "color": "#2a3f5f"
           }
          },
          "ternary": {
           "aaxis": {
            "gridcolor": "white",
            "linecolor": "white",
            "ticks": ""
           },
           "baxis": {
            "gridcolor": "white",
            "linecolor": "white",
            "ticks": ""
           },
           "bgcolor": "#E5ECF6",
           "caxis": {
            "gridcolor": "white",
            "linecolor": "white",
            "ticks": ""
           }
          },
          "title": {
           "x": 0.05
          },
          "xaxis": {
           "automargin": true,
           "gridcolor": "white",
           "linecolor": "white",
           "ticks": "",
           "title": {
            "standoff": 15
           },
           "zerolinecolor": "white",
           "zerolinewidth": 2
          },
          "yaxis": {
           "automargin": true,
           "gridcolor": "white",
           "linecolor": "white",
           "ticks": "",
           "title": {
            "standoff": 15
           },
           "zerolinecolor": "white",
           "zerolinewidth": 2
          }
         }
        },
        "title": {
         "text": "Daily Sales Forecasting - ARIMA vs Random Forest"
        },
        "xaxis": {
         "title": {
          "text": "Date"
         }
        },
        "yaxis": {
         "title": {
          "text": "Total Revenue"
         }
        }
       }
      }
     },
     "metadata": {},
     "output_type": "display_data"
    }
   ],
   "source": [
    "import pandas as pd\n",
    "import numpy as np\n",
    "import plotly.graph_objects as go\n",
    "from statsmodels.tsa.arima.model import ARIMA\n",
    "from sklearn.ensemble import RandomForestRegressor\n",
    "from sklearn.metrics import mean_squared_error\n",
    "\n",
    "# Load data\n",
    "df = pd.read_csv(\"index.csv\")\n",
    "df['date'] = pd.to_datetime(df['date'])\n",
    "\n",
    "# Aggregate daily sales\n",
    "daily_sales = df.groupby('date').agg({'money':'sum'}).reset_index()\n",
    "daily_sales.columns = ['date', 'total_revenue']\n",
    "daily_sales['total_revenue'] = pd.to_numeric(daily_sales['total_revenue'])\n",
    "\n",
    "# Set daily frequency and fill missing dates\n",
    "daily_sales.set_index('date', inplace=True)\n",
    "daily_sales = daily_sales.asfreq('D').fillna(method='ffill')\n",
    "\n",
    "# ----------------- ARIMA Model -----------------\n",
    "arima_model = ARIMA(daily_sales['total_revenue'], order=(5,1,0))\n",
    "arima_results = arima_model.fit()\n",
    "\n",
    "# Forecast next 30 days\n",
    "arima_forecast = arima_results.get_forecast(steps=30)\n",
    "arima_forecast_df = arima_forecast.summary_frame()\n",
    "arima_forecast_df['date'] = pd.date_range(start=daily_sales.index[-1] + pd.Timedelta(days=1), periods=30)\n",
    "arima_forecast_df.set_index('date', inplace=True)\n",
    "\n",
    "# ----------------- Random Forest Model -----------------\n",
    "# Create features for RF\n",
    "rf_data = daily_sales.copy()\n",
    "rf_data['day_of_year'] = rf_data.index.dayofyear\n",
    "rf_data['week_of_year'] = rf_data.index.isocalendar().week\n",
    "rf_data['month'] = rf_data.index.month\n",
    "rf_data['day_of_week'] = rf_data.index.dayofweek\n",
    "\n",
    "# Lag features\n",
    "for lag in range(1, 8):\n",
    "    rf_data[f'lag_{lag}'] = rf_data['total_revenue'].shift(lag)\n",
    "\n",
    "rf_data.dropna(inplace=True)\n",
    "\n",
    "# Train Random Forest on all available data\n",
    "feature_cols = ['day_of_year', 'week_of_year', 'month', 'day_of_week'] + [f'lag_{lag}' for lag in range(1, 8)]\n",
    "X_train = rf_data[feature_cols]\n",
    "y_train = rf_data['total_revenue']\n",
    "\n",
    "rf_model = RandomForestRegressor(n_estimators=100, random_state=42)\n",
    "rf_model.fit(X_train, y_train)\n",
    "\n",
    "# ----------------- Forecast 30 days using RF -----------------\n",
    "future_dates = pd.date_range(start=daily_sales.index[-1] + pd.Timedelta(days=1), periods=30)\n",
    "future_preds = []\n",
    "last_values = daily_sales['total_revenue'][-7:].tolist()\n",
    "\n",
    "for d in future_dates:\n",
    "    features = [\n",
    "        d.dayofyear,\n",
    "        d.isocalendar().week,\n",
    "        d.month,\n",
    "        d.dayofweek\n",
    "    ] + last_values[-7:]\n",
    "    pred = rf_model.predict([features])[0]\n",
    "    future_preds.append(pred)\n",
    "    last_values.append(pred)\n",
    "\n",
    "rf_forecast_df = pd.DataFrame({'total_revenue': future_preds}, index=future_dates)\n",
    "\n",
    "# ----------------- Calculate RMSE (optional, on last 30 days if needed) -----------------\n",
    "# Here we just show ARIMA and RF future forecast, not RMSE\n",
    "\n",
    "# ----------------- Plotting -----------------\n",
    "fig = go.Figure()\n",
    "\n",
    "# Actual sales\n",
    "fig.add_trace(go.Scatter(\n",
    "    x=daily_sales.index, y=daily_sales['total_revenue'],\n",
    "    name='Actual Daily Sales', line=dict(color='blue')\n",
    "))\n",
    "\n",
    "# ARIMA forecast\n",
    "fig.add_trace(go.Scatter(\n",
    "    x=arima_forecast_df.index, y=arima_forecast_df['mean'],\n",
    "    name='ARIMA Forecast (30 days)', line=dict(color='red', dash='dash')\n",
    "))\n",
    "\n",
    "# Random Forest forecast\n",
    "fig.add_trace(go.Scatter(\n",
    "    x=rf_forecast_df.index, y=rf_forecast_df['total_revenue'],\n",
    "    name='Random Forest Forecast (30 days)', line=dict(color='green', dash='dot')\n",
    "))\n",
    "\n",
    "# Layout\n",
    "fig.update_layout(\n",
    "    title='Daily Sales Forecasting - ARIMA vs Random Forest',\n",
    "    xaxis_title='Date',\n",
    "    yaxis_title='Total Revenue',\n",
    "    plot_bgcolor='white'\n",
    ")\n",
    "\n",
    "fig.show()"
   ]
  },
  {
   "cell_type": "code",
   "execution_count": 3,
   "id": "c2666e3b",
   "metadata": {},
   "outputs": [
    {
     "name": "stderr",
     "output_type": "stream",
     "text": [
      "C:\\Users\\shrey\\AppData\\Local\\Temp\\ipykernel_9856\\106083943.py:18: FutureWarning:\n",
      "\n",
      "DataFrame.fillna with 'method' is deprecated and will raise in a future version. Use obj.ffill() or obj.bfill() instead.\n",
      "\n",
      "g:\\MCA Practice\\MLporoject\\.venv\\Lib\\site-packages\\sklearn\\utils\\validation.py:2749: UserWarning:\n",
      "\n",
      "X does not have valid feature names, but RandomForestRegressor was fitted with feature names\n",
      "\n",
      "g:\\MCA Practice\\MLporoject\\.venv\\Lib\\site-packages\\sklearn\\utils\\validation.py:2749: UserWarning:\n",
      "\n",
      "X does not have valid feature names, but RandomForestRegressor was fitted with feature names\n",
      "\n",
      "g:\\MCA Practice\\MLporoject\\.venv\\Lib\\site-packages\\sklearn\\utils\\validation.py:2749: UserWarning:\n",
      "\n",
      "X does not have valid feature names, but RandomForestRegressor was fitted with feature names\n",
      "\n",
      "g:\\MCA Practice\\MLporoject\\.venv\\Lib\\site-packages\\sklearn\\utils\\validation.py:2749: UserWarning:\n",
      "\n",
      "X does not have valid feature names, but RandomForestRegressor was fitted with feature names\n",
      "\n",
      "g:\\MCA Practice\\MLporoject\\.venv\\Lib\\site-packages\\sklearn\\utils\\validation.py:2749: UserWarning:\n",
      "\n",
      "X does not have valid feature names, but RandomForestRegressor was fitted with feature names\n",
      "\n",
      "g:\\MCA Practice\\MLporoject\\.venv\\Lib\\site-packages\\sklearn\\utils\\validation.py:2749: UserWarning:\n",
      "\n",
      "X does not have valid feature names, but RandomForestRegressor was fitted with feature names\n",
      "\n",
      "g:\\MCA Practice\\MLporoject\\.venv\\Lib\\site-packages\\sklearn\\utils\\validation.py:2749: UserWarning:\n",
      "\n",
      "X does not have valid feature names, but RandomForestRegressor was fitted with feature names\n",
      "\n",
      "g:\\MCA Practice\\MLporoject\\.venv\\Lib\\site-packages\\sklearn\\utils\\validation.py:2749: UserWarning:\n",
      "\n",
      "X does not have valid feature names, but RandomForestRegressor was fitted with feature names\n",
      "\n",
      "g:\\MCA Practice\\MLporoject\\.venv\\Lib\\site-packages\\sklearn\\utils\\validation.py:2749: UserWarning:\n",
      "\n",
      "X does not have valid feature names, but RandomForestRegressor was fitted with feature names\n",
      "\n",
      "g:\\MCA Practice\\MLporoject\\.venv\\Lib\\site-packages\\sklearn\\utils\\validation.py:2749: UserWarning:\n",
      "\n",
      "X does not have valid feature names, but RandomForestRegressor was fitted with feature names\n",
      "\n",
      "g:\\MCA Practice\\MLporoject\\.venv\\Lib\\site-packages\\sklearn\\utils\\validation.py:2749: UserWarning:\n",
      "\n",
      "X does not have valid feature names, but RandomForestRegressor was fitted with feature names\n",
      "\n",
      "g:\\MCA Practice\\MLporoject\\.venv\\Lib\\site-packages\\sklearn\\utils\\validation.py:2749: UserWarning:\n",
      "\n",
      "X does not have valid feature names, but RandomForestRegressor was fitted with feature names\n",
      "\n"
     ]
    },
    {
     "data": {
      "application/vnd.plotly.v1+json": {
       "config": {
        "plotlyServerURL": "https://plot.ly"
       },
       "data": [
        {
         "line": {
          "color": "blue"
         },
         "name": "Actual Weekly Sales",
         "type": "scatter",
         "x": [
          "2024-03-04T00:00:00.000000000",
          "2024-03-11T00:00:00.000000000",
          "2024-03-18T00:00:00.000000000",
          "2024-03-25T00:00:00.000000000",
          "2024-04-01T00:00:00.000000000",
          "2024-04-08T00:00:00.000000000",
          "2024-04-15T00:00:00.000000000",
          "2024-04-22T00:00:00.000000000",
          "2024-04-29T00:00:00.000000000",
          "2024-05-06T00:00:00.000000000",
          "2024-05-13T00:00:00.000000000",
          "2024-05-20T00:00:00.000000000",
          "2024-05-27T00:00:00.000000000",
          "2024-06-03T00:00:00.000000000",
          "2024-06-10T00:00:00.000000000",
          "2024-06-17T00:00:00.000000000",
          "2024-06-24T00:00:00.000000000",
          "2024-07-01T00:00:00.000000000",
          "2024-07-08T00:00:00.000000000",
          "2024-07-15T00:00:00.000000000",
          "2024-07-22T00:00:00.000000000",
          "2024-07-29T00:00:00.000000000",
          "2024-08-05T00:00:00.000000000"
         ],
         "y": {
          "bdata": "zczMzMxSkUAAAAAAAPKeQM3MzMzMMpVAMzMzMzMflkAzMzMzM12WQJqZmZmZ75dAzczMzMwQl0CamZmZmSOdQJqZmZmZ0ZRAzczMzMyYjUBcj8L1KCiXQFK4HoXrsKRAZmZmZmZ1pEDC9Shcj3WjQOF6FK5HjKBApHA9CtcznkBcj8L1KEacQIXrUbge5ZFACtejcD2yl0Bcj8L1KBCIQClcj8L1wJBASOF6FK78oEDhehSuRxGUQA==",
          "dtype": "f8"
         }
        },
        {
         "line": {
          "color": "red",
          "dash": "dash"
         },
         "name": "ARIMA Forecast (12 weeks)",
         "type": "scatter",
         "x": [
          "2024-08-12T00:00:00.000000000",
          "2024-08-19T00:00:00.000000000",
          "2024-08-26T00:00:00.000000000",
          "2024-09-02T00:00:00.000000000",
          "2024-09-09T00:00:00.000000000",
          "2024-09-16T00:00:00.000000000",
          "2024-09-23T00:00:00.000000000",
          "2024-09-30T00:00:00.000000000",
          "2024-10-07T00:00:00.000000000",
          "2024-10-14T00:00:00.000000000",
          "2024-10-21T00:00:00.000000000",
          "2024-10-28T00:00:00.000000000"
         ],
         "y": {
          "bdata": "gaFxQItckUDZLr8Cx/OVQKIZTOTPQJZAZxktOb7GlEBthNP3fNyUQEQWHzhjUJVAi484oYE7lUCZuxZrsxmVQCrwbplZJJVAq3ieQKgtlUB3E+BdMCmVQMIekBvQJpVA",
          "dtype": "f8"
         }
        },
        {
         "line": {
          "color": "green",
          "dash": "dot"
         },
         "name": "Random Forest Forecast (12 weeks)",
         "type": "scatter",
         "x": [
          "2024-08-12T00:00:00.000000000",
          "2024-08-19T00:00:00.000000000",
          "2024-08-26T00:00:00.000000000",
          "2024-09-02T00:00:00.000000000",
          "2024-09-09T00:00:00.000000000",
          "2024-09-16T00:00:00.000000000",
          "2024-09-23T00:00:00.000000000",
          "2024-09-30T00:00:00.000000000",
          "2024-10-07T00:00:00.000000000",
          "2024-10-14T00:00:00.000000000",
          "2024-10-21T00:00:00.000000000",
          "2024-10-28T00:00:00.000000000"
         ],
         "y": {
          "bdata": "JaCJsOFimEBdhjjWxXeUQD+bVZ8rzJdA15rmHSeClECOoPgxZnuWQBY/xtw1P5ZAr0fhepQAlUBK6gQ0keqXQA09m1Uf45JAdscpOpIfl0ARvjCZKk6WQMFbIEFxfpRA",
          "dtype": "f8"
         }
        }
       ],
       "layout": {
        "plot_bgcolor": "white",
        "template": {
         "data": {
          "bar": [
           {
            "error_x": {
             "color": "#2a3f5f"
            },
            "error_y": {
             "color": "#2a3f5f"
            },
            "marker": {
             "line": {
              "color": "#E5ECF6",
              "width": 0.5
             },
             "pattern": {
              "fillmode": "overlay",
              "size": 10,
              "solidity": 0.2
             }
            },
            "type": "bar"
           }
          ],
          "barpolar": [
           {
            "marker": {
             "line": {
              "color": "#E5ECF6",
              "width": 0.5
             },
             "pattern": {
              "fillmode": "overlay",
              "size": 10,
              "solidity": 0.2
             }
            },
            "type": "barpolar"
           }
          ],
          "carpet": [
           {
            "aaxis": {
             "endlinecolor": "#2a3f5f",
             "gridcolor": "white",
             "linecolor": "white",
             "minorgridcolor": "white",
             "startlinecolor": "#2a3f5f"
            },
            "baxis": {
             "endlinecolor": "#2a3f5f",
             "gridcolor": "white",
             "linecolor": "white",
             "minorgridcolor": "white",
             "startlinecolor": "#2a3f5f"
            },
            "type": "carpet"
           }
          ],
          "choropleth": [
           {
            "colorbar": {
             "outlinewidth": 0,
             "ticks": ""
            },
            "type": "choropleth"
           }
          ],
          "contour": [
           {
            "colorbar": {
             "outlinewidth": 0,
             "ticks": ""
            },
            "colorscale": [
             [
              0,
              "#0d0887"
             ],
             [
              0.1111111111111111,
              "#46039f"
             ],
             [
              0.2222222222222222,
              "#7201a8"
             ],
             [
              0.3333333333333333,
              "#9c179e"
             ],
             [
              0.4444444444444444,
              "#bd3786"
             ],
             [
              0.5555555555555556,
              "#d8576b"
             ],
             [
              0.6666666666666666,
              "#ed7953"
             ],
             [
              0.7777777777777778,
              "#fb9f3a"
             ],
             [
              0.8888888888888888,
              "#fdca26"
             ],
             [
              1,
              "#f0f921"
             ]
            ],
            "type": "contour"
           }
          ],
          "contourcarpet": [
           {
            "colorbar": {
             "outlinewidth": 0,
             "ticks": ""
            },
            "type": "contourcarpet"
           }
          ],
          "heatmap": [
           {
            "colorbar": {
             "outlinewidth": 0,
             "ticks": ""
            },
            "colorscale": [
             [
              0,
              "#0d0887"
             ],
             [
              0.1111111111111111,
              "#46039f"
             ],
             [
              0.2222222222222222,
              "#7201a8"
             ],
             [
              0.3333333333333333,
              "#9c179e"
             ],
             [
              0.4444444444444444,
              "#bd3786"
             ],
             [
              0.5555555555555556,
              "#d8576b"
             ],
             [
              0.6666666666666666,
              "#ed7953"
             ],
             [
              0.7777777777777778,
              "#fb9f3a"
             ],
             [
              0.8888888888888888,
              "#fdca26"
             ],
             [
              1,
              "#f0f921"
             ]
            ],
            "type": "heatmap"
           }
          ],
          "histogram": [
           {
            "marker": {
             "pattern": {
              "fillmode": "overlay",
              "size": 10,
              "solidity": 0.2
             }
            },
            "type": "histogram"
           }
          ],
          "histogram2d": [
           {
            "colorbar": {
             "outlinewidth": 0,
             "ticks": ""
            },
            "colorscale": [
             [
              0,
              "#0d0887"
             ],
             [
              0.1111111111111111,
              "#46039f"
             ],
             [
              0.2222222222222222,
              "#7201a8"
             ],
             [
              0.3333333333333333,
              "#9c179e"
             ],
             [
              0.4444444444444444,
              "#bd3786"
             ],
             [
              0.5555555555555556,
              "#d8576b"
             ],
             [
              0.6666666666666666,
              "#ed7953"
             ],
             [
              0.7777777777777778,
              "#fb9f3a"
             ],
             [
              0.8888888888888888,
              "#fdca26"
             ],
             [
              1,
              "#f0f921"
             ]
            ],
            "type": "histogram2d"
           }
          ],
          "histogram2dcontour": [
           {
            "colorbar": {
             "outlinewidth": 0,
             "ticks": ""
            },
            "colorscale": [
             [
              0,
              "#0d0887"
             ],
             [
              0.1111111111111111,
              "#46039f"
             ],
             [
              0.2222222222222222,
              "#7201a8"
             ],
             [
              0.3333333333333333,
              "#9c179e"
             ],
             [
              0.4444444444444444,
              "#bd3786"
             ],
             [
              0.5555555555555556,
              "#d8576b"
             ],
             [
              0.6666666666666666,
              "#ed7953"
             ],
             [
              0.7777777777777778,
              "#fb9f3a"
             ],
             [
              0.8888888888888888,
              "#fdca26"
             ],
             [
              1,
              "#f0f921"
             ]
            ],
            "type": "histogram2dcontour"
           }
          ],
          "mesh3d": [
           {
            "colorbar": {
             "outlinewidth": 0,
             "ticks": ""
            },
            "type": "mesh3d"
           }
          ],
          "parcoords": [
           {
            "line": {
             "colorbar": {
              "outlinewidth": 0,
              "ticks": ""
             }
            },
            "type": "parcoords"
           }
          ],
          "pie": [
           {
            "automargin": true,
            "type": "pie"
           }
          ],
          "scatter": [
           {
            "fillpattern": {
             "fillmode": "overlay",
             "size": 10,
             "solidity": 0.2
            },
            "type": "scatter"
           }
          ],
          "scatter3d": [
           {
            "line": {
             "colorbar": {
              "outlinewidth": 0,
              "ticks": ""
             }
            },
            "marker": {
             "colorbar": {
              "outlinewidth": 0,
              "ticks": ""
             }
            },
            "type": "scatter3d"
           }
          ],
          "scattercarpet": [
           {
            "marker": {
             "colorbar": {
              "outlinewidth": 0,
              "ticks": ""
             }
            },
            "type": "scattercarpet"
           }
          ],
          "scattergeo": [
           {
            "marker": {
             "colorbar": {
              "outlinewidth": 0,
              "ticks": ""
             }
            },
            "type": "scattergeo"
           }
          ],
          "scattergl": [
           {
            "marker": {
             "colorbar": {
              "outlinewidth": 0,
              "ticks": ""
             }
            },
            "type": "scattergl"
           }
          ],
          "scattermap": [
           {
            "marker": {
             "colorbar": {
              "outlinewidth": 0,
              "ticks": ""
             }
            },
            "type": "scattermap"
           }
          ],
          "scattermapbox": [
           {
            "marker": {
             "colorbar": {
              "outlinewidth": 0,
              "ticks": ""
             }
            },
            "type": "scattermapbox"
           }
          ],
          "scatterpolar": [
           {
            "marker": {
             "colorbar": {
              "outlinewidth": 0,
              "ticks": ""
             }
            },
            "type": "scatterpolar"
           }
          ],
          "scatterpolargl": [
           {
            "marker": {
             "colorbar": {
              "outlinewidth": 0,
              "ticks": ""
             }
            },
            "type": "scatterpolargl"
           }
          ],
          "scatterternary": [
           {
            "marker": {
             "colorbar": {
              "outlinewidth": 0,
              "ticks": ""
             }
            },
            "type": "scatterternary"
           }
          ],
          "surface": [
           {
            "colorbar": {
             "outlinewidth": 0,
             "ticks": ""
            },
            "colorscale": [
             [
              0,
              "#0d0887"
             ],
             [
              0.1111111111111111,
              "#46039f"
             ],
             [
              0.2222222222222222,
              "#7201a8"
             ],
             [
              0.3333333333333333,
              "#9c179e"
             ],
             [
              0.4444444444444444,
              "#bd3786"
             ],
             [
              0.5555555555555556,
              "#d8576b"
             ],
             [
              0.6666666666666666,
              "#ed7953"
             ],
             [
              0.7777777777777778,
              "#fb9f3a"
             ],
             [
              0.8888888888888888,
              "#fdca26"
             ],
             [
              1,
              "#f0f921"
             ]
            ],
            "type": "surface"
           }
          ],
          "table": [
           {
            "cells": {
             "fill": {
              "color": "#EBF0F8"
             },
             "line": {
              "color": "white"
             }
            },
            "header": {
             "fill": {
              "color": "#C8D4E3"
             },
             "line": {
              "color": "white"
             }
            },
            "type": "table"
           }
          ]
         },
         "layout": {
          "annotationdefaults": {
           "arrowcolor": "#2a3f5f",
           "arrowhead": 0,
           "arrowwidth": 1
          },
          "autotypenumbers": "strict",
          "coloraxis": {
           "colorbar": {
            "outlinewidth": 0,
            "ticks": ""
           }
          },
          "colorscale": {
           "diverging": [
            [
             0,
             "#8e0152"
            ],
            [
             0.1,
             "#c51b7d"
            ],
            [
             0.2,
             "#de77ae"
            ],
            [
             0.3,
             "#f1b6da"
            ],
            [
             0.4,
             "#fde0ef"
            ],
            [
             0.5,
             "#f7f7f7"
            ],
            [
             0.6,
             "#e6f5d0"
            ],
            [
             0.7,
             "#b8e186"
            ],
            [
             0.8,
             "#7fbc41"
            ],
            [
             0.9,
             "#4d9221"
            ],
            [
             1,
             "#276419"
            ]
           ],
           "sequential": [
            [
             0,
             "#0d0887"
            ],
            [
             0.1111111111111111,
             "#46039f"
            ],
            [
             0.2222222222222222,
             "#7201a8"
            ],
            [
             0.3333333333333333,
             "#9c179e"
            ],
            [
             0.4444444444444444,
             "#bd3786"
            ],
            [
             0.5555555555555556,
             "#d8576b"
            ],
            [
             0.6666666666666666,
             "#ed7953"
            ],
            [
             0.7777777777777778,
             "#fb9f3a"
            ],
            [
             0.8888888888888888,
             "#fdca26"
            ],
            [
             1,
             "#f0f921"
            ]
           ],
           "sequentialminus": [
            [
             0,
             "#0d0887"
            ],
            [
             0.1111111111111111,
             "#46039f"
            ],
            [
             0.2222222222222222,
             "#7201a8"
            ],
            [
             0.3333333333333333,
             "#9c179e"
            ],
            [
             0.4444444444444444,
             "#bd3786"
            ],
            [
             0.5555555555555556,
             "#d8576b"
            ],
            [
             0.6666666666666666,
             "#ed7953"
            ],
            [
             0.7777777777777778,
             "#fb9f3a"
            ],
            [
             0.8888888888888888,
             "#fdca26"
            ],
            [
             1,
             "#f0f921"
            ]
           ]
          },
          "colorway": [
           "#636efa",
           "#EF553B",
           "#00cc96",
           "#ab63fa",
           "#FFA15A",
           "#19d3f3",
           "#FF6692",
           "#B6E880",
           "#FF97FF",
           "#FECB52"
          ],
          "font": {
           "color": "#2a3f5f"
          },
          "geo": {
           "bgcolor": "white",
           "lakecolor": "white",
           "landcolor": "#E5ECF6",
           "showlakes": true,
           "showland": true,
           "subunitcolor": "white"
          },
          "hoverlabel": {
           "align": "left"
          },
          "hovermode": "closest",
          "mapbox": {
           "style": "light"
          },
          "paper_bgcolor": "white",
          "plot_bgcolor": "#E5ECF6",
          "polar": {
           "angularaxis": {
            "gridcolor": "white",
            "linecolor": "white",
            "ticks": ""
           },
           "bgcolor": "#E5ECF6",
           "radialaxis": {
            "gridcolor": "white",
            "linecolor": "white",
            "ticks": ""
           }
          },
          "scene": {
           "xaxis": {
            "backgroundcolor": "#E5ECF6",
            "gridcolor": "white",
            "gridwidth": 2,
            "linecolor": "white",
            "showbackground": true,
            "ticks": "",
            "zerolinecolor": "white"
           },
           "yaxis": {
            "backgroundcolor": "#E5ECF6",
            "gridcolor": "white",
            "gridwidth": 2,
            "linecolor": "white",
            "showbackground": true,
            "ticks": "",
            "zerolinecolor": "white"
           },
           "zaxis": {
            "backgroundcolor": "#E5ECF6",
            "gridcolor": "white",
            "gridwidth": 2,
            "linecolor": "white",
            "showbackground": true,
            "ticks": "",
            "zerolinecolor": "white"
           }
          },
          "shapedefaults": {
           "line": {
            "color": "#2a3f5f"
           }
          },
          "ternary": {
           "aaxis": {
            "gridcolor": "white",
            "linecolor": "white",
            "ticks": ""
           },
           "baxis": {
            "gridcolor": "white",
            "linecolor": "white",
            "ticks": ""
           },
           "bgcolor": "#E5ECF6",
           "caxis": {
            "gridcolor": "white",
            "linecolor": "white",
            "ticks": ""
           }
          },
          "title": {
           "x": 0.05
          },
          "xaxis": {
           "automargin": true,
           "gridcolor": "white",
           "linecolor": "white",
           "ticks": "",
           "title": {
            "standoff": 15
           },
           "zerolinecolor": "white",
           "zerolinewidth": 2
          },
          "yaxis": {
           "automargin": true,
           "gridcolor": "white",
           "linecolor": "white",
           "ticks": "",
           "title": {
            "standoff": 15
           },
           "zerolinecolor": "white",
           "zerolinewidth": 2
          }
         }
        },
        "title": {
         "text": "Weekly Sales Forecasting - ARIMA vs Random Forest"
        },
        "xaxis": {
         "title": {
          "text": "Week"
         }
        },
        "yaxis": {
         "title": {
          "text": "Total Revenue"
         }
        }
       }
      }
     },
     "metadata": {},
     "output_type": "display_data"
    }
   ],
   "source": [
    "import pandas as pd\n",
    "import numpy as np\n",
    "import plotly.graph_objects as go\n",
    "from statsmodels.tsa.arima.model import ARIMA\n",
    "from sklearn.ensemble import RandomForestRegressor\n",
    "\n",
    "# Load data\n",
    "df = pd.read_csv(\"index.csv\")\n",
    "df['date'] = pd.to_datetime(df['date'])\n",
    "\n",
    "# Aggregate weekly sales (Monday as start of week)\n",
    "weekly_sales = df.groupby(pd.Grouper(key='date', freq='W-MON')).agg({'money':'sum'}).reset_index()\n",
    "weekly_sales.columns = ['week', 'total_revenue']\n",
    "weekly_sales['total_revenue'] = pd.to_numeric(weekly_sales['total_revenue'])\n",
    "\n",
    "# Set weekly frequency and fill missing weeks\n",
    "weekly_sales.set_index('week', inplace=True)\n",
    "weekly_sales = weekly_sales.asfreq('W-MON').fillna(method='ffill')\n",
    "\n",
    "# ----------------- ARIMA Model -----------------\n",
    "arima_model = ARIMA(weekly_sales['total_revenue'], order=(3,1,0))\n",
    "arima_results = arima_model.fit()\n",
    "\n",
    "# Forecast next 12 weeks\n",
    "arima_forecast = arima_results.get_forecast(steps=12)\n",
    "arima_forecast_df = arima_forecast.summary_frame()\n",
    "arima_forecast_df['week'] = pd.date_range(start=weekly_sales.index[-1] + pd.Timedelta(weeks=1), periods=12, freq='W-MON')\n",
    "arima_forecast_df.set_index('week', inplace=True)\n",
    "\n",
    "# ----------------- Random Forest Model -----------------\n",
    "rf_data = weekly_sales.copy()\n",
    "rf_data['week_of_year'] = rf_data.index.isocalendar().week\n",
    "rf_data['month'] = rf_data.index.month\n",
    "rf_data['quarter'] = rf_data.index.quarter\n",
    "\n",
    "# Lag features\n",
    "for lag in range(1, 5):\n",
    "    rf_data[f'lag_{lag}'] = rf_data['total_revenue'].shift(lag)\n",
    "\n",
    "rf_data.dropna(inplace=True)\n",
    "\n",
    "# Train on all available data\n",
    "feature_cols = ['week_of_year', 'month', 'quarter'] + [f'lag_{lag}' for lag in range(1, 5)]\n",
    "X_train = rf_data[feature_cols]\n",
    "y_train = rf_data['total_revenue']\n",
    "\n",
    "rf_model = RandomForestRegressor(n_estimators=100, random_state=42)\n",
    "rf_model.fit(X_train, y_train)\n",
    "\n",
    "# ----------------- Forecast 12 weeks using RF -----------------\n",
    "future_weeks = pd.date_range(start=weekly_sales.index[-1] + pd.Timedelta(weeks=1), periods=12, freq='W-MON')\n",
    "future_preds = []\n",
    "last_values = weekly_sales['total_revenue'][-4:].tolist()  # last 4 weeks for lag features\n",
    "\n",
    "for w in future_weeks:\n",
    "    features = [\n",
    "        w.isocalendar().week,\n",
    "        w.month,\n",
    "        w.quarter\n",
    "    ] + last_values[-4:]\n",
    "    pred = rf_model.predict([features])[0]\n",
    "    future_preds.append(pred)\n",
    "    last_values.append(pred)\n",
    "\n",
    "rf_forecast_df = pd.DataFrame({'total_revenue': future_preds}, index=future_weeks)\n",
    "\n",
    "# ----------------- Plotting -----------------\n",
    "fig = go.Figure()\n",
    "\n",
    "# Actual weekly sales\n",
    "fig.add_trace(go.Scatter(\n",
    "    x=weekly_sales.index, y=weekly_sales['total_revenue'],\n",
    "    name='Actual Weekly Sales', line=dict(color='blue')\n",
    "))\n",
    "\n",
    "# ARIMA forecast\n",
    "fig.add_trace(go.Scatter(\n",
    "    x=arima_forecast_df.index, y=arima_forecast_df['mean'],\n",
    "    name='ARIMA Forecast (12 weeks)', line=dict(color='red', dash='dash')\n",
    "))\n",
    "\n",
    "# Random Forest forecast\n",
    "fig.add_trace(go.Scatter(\n",
    "    x=rf_forecast_df.index, y=rf_forecast_df['total_revenue'],\n",
    "    name='Random Forest Forecast (12 weeks)', line=dict(color='green', dash='dot')\n",
    "))\n",
    "\n",
    "# Layout\n",
    "fig.update_layout(\n",
    "    title='Weekly Sales Forecasting - ARIMA vs Random Forest',\n",
    "    xaxis_title='Week',\n",
    "    yaxis_title='Total Revenue',\n",
    "    plot_bgcolor='white'\n",
    ")\n",
    "\n",
    "fig.show()\n"
   ]
  },
  {
   "cell_type": "code",
   "execution_count": 4,
   "id": "6ebeaf62",
   "metadata": {},
   "outputs": [
    {
     "name": "stderr",
     "output_type": "stream",
     "text": [
      "C:\\Users\\shrey\\AppData\\Local\\Temp\\ipykernel_9856\\72694148.py:12: FutureWarning:\n",
      "\n",
      "'M' is deprecated and will be removed in a future version, please use 'ME' instead.\n",
      "\n",
      "C:\\Users\\shrey\\AppData\\Local\\Temp\\ipykernel_9856\\72694148.py:18: FutureWarning:\n",
      "\n",
      "'M' is deprecated and will be removed in a future version, please use 'ME' instead.\n",
      "\n",
      "C:\\Users\\shrey\\AppData\\Local\\Temp\\ipykernel_9856\\72694148.py:18: FutureWarning:\n",
      "\n",
      "DataFrame.fillna with 'method' is deprecated and will raise in a future version. Use obj.ffill() or obj.bfill() instead.\n",
      "\n",
      "g:\\MCA Practice\\MLporoject\\.venv\\Lib\\site-packages\\statsmodels\\base\\model.py:607: ConvergenceWarning:\n",
      "\n",
      "Maximum Likelihood optimization failed to converge. Check mle_retvals\n",
      "\n",
      "C:\\Users\\shrey\\AppData\\Local\\Temp\\ipykernel_9856\\72694148.py:27: FutureWarning:\n",
      "\n",
      "'M' is deprecated and will be removed in a future version, please use 'ME' instead.\n",
      "\n",
      "C:\\Users\\shrey\\AppData\\Local\\Temp\\ipykernel_9856\\72694148.py:50: FutureWarning:\n",
      "\n",
      "'M' is deprecated and will be removed in a future version, please use 'ME' instead.\n",
      "\n",
      "g:\\MCA Practice\\MLporoject\\.venv\\Lib\\site-packages\\sklearn\\utils\\validation.py:2749: UserWarning:\n",
      "\n",
      "X does not have valid feature names, but RandomForestRegressor was fitted with feature names\n",
      "\n",
      "g:\\MCA Practice\\MLporoject\\.venv\\Lib\\site-packages\\sklearn\\utils\\validation.py:2749: UserWarning:\n",
      "\n",
      "X does not have valid feature names, but RandomForestRegressor was fitted with feature names\n",
      "\n",
      "g:\\MCA Practice\\MLporoject\\.venv\\Lib\\site-packages\\sklearn\\utils\\validation.py:2749: UserWarning:\n",
      "\n",
      "X does not have valid feature names, but RandomForestRegressor was fitted with feature names\n",
      "\n",
      "g:\\MCA Practice\\MLporoject\\.venv\\Lib\\site-packages\\sklearn\\utils\\validation.py:2749: UserWarning:\n",
      "\n",
      "X does not have valid feature names, but RandomForestRegressor was fitted with feature names\n",
      "\n",
      "g:\\MCA Practice\\MLporoject\\.venv\\Lib\\site-packages\\sklearn\\utils\\validation.py:2749: UserWarning:\n",
      "\n",
      "X does not have valid feature names, but RandomForestRegressor was fitted with feature names\n",
      "\n",
      "g:\\MCA Practice\\MLporoject\\.venv\\Lib\\site-packages\\sklearn\\utils\\validation.py:2749: UserWarning:\n",
      "\n",
      "X does not have valid feature names, but RandomForestRegressor was fitted with feature names\n",
      "\n"
     ]
    },
    {
     "data": {
      "application/vnd.plotly.v1+json": {
       "config": {
        "plotlyServerURL": "https://plot.ly"
       },
       "data": [
        {
         "line": {
          "color": "blue"
         },
         "name": "Actual Monthly Sales",
         "type": "scatter",
         "x": [
          "2024-03-31T00:00:00.000000000",
          "2024-04-30T00:00:00.000000000",
          "2024-05-31T00:00:00.000000000",
          "2024-06-30T00:00:00.000000000",
          "2024-07-31T00:00:00.000000000"
         ],
         "y": {
          "bdata": "MzMzMzOKu0DD9Shcj0C6QClcj8K1s8FA9ihcj8JOvkA+Ctej8AO7QA==",
          "dtype": "f8"
         }
        },
        {
         "line": {
          "color": "red",
          "dash": "dash"
         },
         "name": "ARIMA Forecast (6 months)",
         "type": "scatter",
         "x": [
          "2024-08-31T00:00:00.000000000",
          "2024-09-30T00:00:00.000000000",
          "2024-10-31T00:00:00.000000000",
          "2024-11-30T00:00:00.000000000",
          "2024-12-31T00:00:00.000000000",
          "2025-01-31T00:00:00.000000000"
         ],
         "y": {
          "bdata": "YmFWtslfwUBmLIdhu9e/QMtmNtvRcLpAf1icNVDWwEDrUsN6kaPAQJh1byxCXbpA",
          "dtype": "f8"
         }
        },
        {
         "line": {
          "color": "green",
          "dash": "dot"
         },
         "name": "Random Forest Forecast (6 months)",
         "type": "scatter",
         "x": [
          "2024-08-31T00:00:00.000000000",
          "2024-09-30T00:00:00.000000000",
          "2024-10-31T00:00:00.000000000",
          "2024-11-30T00:00:00.000000000",
          "2024-12-31T00:00:00.000000000",
          "2025-01-31T00:00:00.000000000"
         ],
         "y": {
          "bdata": "lpmZmVmpvECOXP5DWm68QI5c/kNabrxAjlz+Q1puvECOXP5DWm68QLJQa5pXWr1A",
          "dtype": "f8"
         }
        }
       ],
       "layout": {
        "plot_bgcolor": "white",
        "template": {
         "data": {
          "bar": [
           {
            "error_x": {
             "color": "#2a3f5f"
            },
            "error_y": {
             "color": "#2a3f5f"
            },
            "marker": {
             "line": {
              "color": "#E5ECF6",
              "width": 0.5
             },
             "pattern": {
              "fillmode": "overlay",
              "size": 10,
              "solidity": 0.2
             }
            },
            "type": "bar"
           }
          ],
          "barpolar": [
           {
            "marker": {
             "line": {
              "color": "#E5ECF6",
              "width": 0.5
             },
             "pattern": {
              "fillmode": "overlay",
              "size": 10,
              "solidity": 0.2
             }
            },
            "type": "barpolar"
           }
          ],
          "carpet": [
           {
            "aaxis": {
             "endlinecolor": "#2a3f5f",
             "gridcolor": "white",
             "linecolor": "white",
             "minorgridcolor": "white",
             "startlinecolor": "#2a3f5f"
            },
            "baxis": {
             "endlinecolor": "#2a3f5f",
             "gridcolor": "white",
             "linecolor": "white",
             "minorgridcolor": "white",
             "startlinecolor": "#2a3f5f"
            },
            "type": "carpet"
           }
          ],
          "choropleth": [
           {
            "colorbar": {
             "outlinewidth": 0,
             "ticks": ""
            },
            "type": "choropleth"
           }
          ],
          "contour": [
           {
            "colorbar": {
             "outlinewidth": 0,
             "ticks": ""
            },
            "colorscale": [
             [
              0,
              "#0d0887"
             ],
             [
              0.1111111111111111,
              "#46039f"
             ],
             [
              0.2222222222222222,
              "#7201a8"
             ],
             [
              0.3333333333333333,
              "#9c179e"
             ],
             [
              0.4444444444444444,
              "#bd3786"
             ],
             [
              0.5555555555555556,
              "#d8576b"
             ],
             [
              0.6666666666666666,
              "#ed7953"
             ],
             [
              0.7777777777777778,
              "#fb9f3a"
             ],
             [
              0.8888888888888888,
              "#fdca26"
             ],
             [
              1,
              "#f0f921"
             ]
            ],
            "type": "contour"
           }
          ],
          "contourcarpet": [
           {
            "colorbar": {
             "outlinewidth": 0,
             "ticks": ""
            },
            "type": "contourcarpet"
           }
          ],
          "heatmap": [
           {
            "colorbar": {
             "outlinewidth": 0,
             "ticks": ""
            },
            "colorscale": [
             [
              0,
              "#0d0887"
             ],
             [
              0.1111111111111111,
              "#46039f"
             ],
             [
              0.2222222222222222,
              "#7201a8"
             ],
             [
              0.3333333333333333,
              "#9c179e"
             ],
             [
              0.4444444444444444,
              "#bd3786"
             ],
             [
              0.5555555555555556,
              "#d8576b"
             ],
             [
              0.6666666666666666,
              "#ed7953"
             ],
             [
              0.7777777777777778,
              "#fb9f3a"
             ],
             [
              0.8888888888888888,
              "#fdca26"
             ],
             [
              1,
              "#f0f921"
             ]
            ],
            "type": "heatmap"
           }
          ],
          "histogram": [
           {
            "marker": {
             "pattern": {
              "fillmode": "overlay",
              "size": 10,
              "solidity": 0.2
             }
            },
            "type": "histogram"
           }
          ],
          "histogram2d": [
           {
            "colorbar": {
             "outlinewidth": 0,
             "ticks": ""
            },
            "colorscale": [
             [
              0,
              "#0d0887"
             ],
             [
              0.1111111111111111,
              "#46039f"
             ],
             [
              0.2222222222222222,
              "#7201a8"
             ],
             [
              0.3333333333333333,
              "#9c179e"
             ],
             [
              0.4444444444444444,
              "#bd3786"
             ],
             [
              0.5555555555555556,
              "#d8576b"
             ],
             [
              0.6666666666666666,
              "#ed7953"
             ],
             [
              0.7777777777777778,
              "#fb9f3a"
             ],
             [
              0.8888888888888888,
              "#fdca26"
             ],
             [
              1,
              "#f0f921"
             ]
            ],
            "type": "histogram2d"
           }
          ],
          "histogram2dcontour": [
           {
            "colorbar": {
             "outlinewidth": 0,
             "ticks": ""
            },
            "colorscale": [
             [
              0,
              "#0d0887"
             ],
             [
              0.1111111111111111,
              "#46039f"
             ],
             [
              0.2222222222222222,
              "#7201a8"
             ],
             [
              0.3333333333333333,
              "#9c179e"
             ],
             [
              0.4444444444444444,
              "#bd3786"
             ],
             [
              0.5555555555555556,
              "#d8576b"
             ],
             [
              0.6666666666666666,
              "#ed7953"
             ],
             [
              0.7777777777777778,
              "#fb9f3a"
             ],
             [
              0.8888888888888888,
              "#fdca26"
             ],
             [
              1,
              "#f0f921"
             ]
            ],
            "type": "histogram2dcontour"
           }
          ],
          "mesh3d": [
           {
            "colorbar": {
             "outlinewidth": 0,
             "ticks": ""
            },
            "type": "mesh3d"
           }
          ],
          "parcoords": [
           {
            "line": {
             "colorbar": {
              "outlinewidth": 0,
              "ticks": ""
             }
            },
            "type": "parcoords"
           }
          ],
          "pie": [
           {
            "automargin": true,
            "type": "pie"
           }
          ],
          "scatter": [
           {
            "fillpattern": {
             "fillmode": "overlay",
             "size": 10,
             "solidity": 0.2
            },
            "type": "scatter"
           }
          ],
          "scatter3d": [
           {
            "line": {
             "colorbar": {
              "outlinewidth": 0,
              "ticks": ""
             }
            },
            "marker": {
             "colorbar": {
              "outlinewidth": 0,
              "ticks": ""
             }
            },
            "type": "scatter3d"
           }
          ],
          "scattercarpet": [
           {
            "marker": {
             "colorbar": {
              "outlinewidth": 0,
              "ticks": ""
             }
            },
            "type": "scattercarpet"
           }
          ],
          "scattergeo": [
           {
            "marker": {
             "colorbar": {
              "outlinewidth": 0,
              "ticks": ""
             }
            },
            "type": "scattergeo"
           }
          ],
          "scattergl": [
           {
            "marker": {
             "colorbar": {
              "outlinewidth": 0,
              "ticks": ""
             }
            },
            "type": "scattergl"
           }
          ],
          "scattermap": [
           {
            "marker": {
             "colorbar": {
              "outlinewidth": 0,
              "ticks": ""
             }
            },
            "type": "scattermap"
           }
          ],
          "scattermapbox": [
           {
            "marker": {
             "colorbar": {
              "outlinewidth": 0,
              "ticks": ""
             }
            },
            "type": "scattermapbox"
           }
          ],
          "scatterpolar": [
           {
            "marker": {
             "colorbar": {
              "outlinewidth": 0,
              "ticks": ""
             }
            },
            "type": "scatterpolar"
           }
          ],
          "scatterpolargl": [
           {
            "marker": {
             "colorbar": {
              "outlinewidth": 0,
              "ticks": ""
             }
            },
            "type": "scatterpolargl"
           }
          ],
          "scatterternary": [
           {
            "marker": {
             "colorbar": {
              "outlinewidth": 0,
              "ticks": ""
             }
            },
            "type": "scatterternary"
           }
          ],
          "surface": [
           {
            "colorbar": {
             "outlinewidth": 0,
             "ticks": ""
            },
            "colorscale": [
             [
              0,
              "#0d0887"
             ],
             [
              0.1111111111111111,
              "#46039f"
             ],
             [
              0.2222222222222222,
              "#7201a8"
             ],
             [
              0.3333333333333333,
              "#9c179e"
             ],
             [
              0.4444444444444444,
              "#bd3786"
             ],
             [
              0.5555555555555556,
              "#d8576b"
             ],
             [
              0.6666666666666666,
              "#ed7953"
             ],
             [
              0.7777777777777778,
              "#fb9f3a"
             ],
             [
              0.8888888888888888,
              "#fdca26"
             ],
             [
              1,
              "#f0f921"
             ]
            ],
            "type": "surface"
           }
          ],
          "table": [
           {
            "cells": {
             "fill": {
              "color": "#EBF0F8"
             },
             "line": {
              "color": "white"
             }
            },
            "header": {
             "fill": {
              "color": "#C8D4E3"
             },
             "line": {
              "color": "white"
             }
            },
            "type": "table"
           }
          ]
         },
         "layout": {
          "annotationdefaults": {
           "arrowcolor": "#2a3f5f",
           "arrowhead": 0,
           "arrowwidth": 1
          },
          "autotypenumbers": "strict",
          "coloraxis": {
           "colorbar": {
            "outlinewidth": 0,
            "ticks": ""
           }
          },
          "colorscale": {
           "diverging": [
            [
             0,
             "#8e0152"
            ],
            [
             0.1,
             "#c51b7d"
            ],
            [
             0.2,
             "#de77ae"
            ],
            [
             0.3,
             "#f1b6da"
            ],
            [
             0.4,
             "#fde0ef"
            ],
            [
             0.5,
             "#f7f7f7"
            ],
            [
             0.6,
             "#e6f5d0"
            ],
            [
             0.7,
             "#b8e186"
            ],
            [
             0.8,
             "#7fbc41"
            ],
            [
             0.9,
             "#4d9221"
            ],
            [
             1,
             "#276419"
            ]
           ],
           "sequential": [
            [
             0,
             "#0d0887"
            ],
            [
             0.1111111111111111,
             "#46039f"
            ],
            [
             0.2222222222222222,
             "#7201a8"
            ],
            [
             0.3333333333333333,
             "#9c179e"
            ],
            [
             0.4444444444444444,
             "#bd3786"
            ],
            [
             0.5555555555555556,
             "#d8576b"
            ],
            [
             0.6666666666666666,
             "#ed7953"
            ],
            [
             0.7777777777777778,
             "#fb9f3a"
            ],
            [
             0.8888888888888888,
             "#fdca26"
            ],
            [
             1,
             "#f0f921"
            ]
           ],
           "sequentialminus": [
            [
             0,
             "#0d0887"
            ],
            [
             0.1111111111111111,
             "#46039f"
            ],
            [
             0.2222222222222222,
             "#7201a8"
            ],
            [
             0.3333333333333333,
             "#9c179e"
            ],
            [
             0.4444444444444444,
             "#bd3786"
            ],
            [
             0.5555555555555556,
             "#d8576b"
            ],
            [
             0.6666666666666666,
             "#ed7953"
            ],
            [
             0.7777777777777778,
             "#fb9f3a"
            ],
            [
             0.8888888888888888,
             "#fdca26"
            ],
            [
             1,
             "#f0f921"
            ]
           ]
          },
          "colorway": [
           "#636efa",
           "#EF553B",
           "#00cc96",
           "#ab63fa",
           "#FFA15A",
           "#19d3f3",
           "#FF6692",
           "#B6E880",
           "#FF97FF",
           "#FECB52"
          ],
          "font": {
           "color": "#2a3f5f"
          },
          "geo": {
           "bgcolor": "white",
           "lakecolor": "white",
           "landcolor": "#E5ECF6",
           "showlakes": true,
           "showland": true,
           "subunitcolor": "white"
          },
          "hoverlabel": {
           "align": "left"
          },
          "hovermode": "closest",
          "mapbox": {
           "style": "light"
          },
          "paper_bgcolor": "white",
          "plot_bgcolor": "#E5ECF6",
          "polar": {
           "angularaxis": {
            "gridcolor": "white",
            "linecolor": "white",
            "ticks": ""
           },
           "bgcolor": "#E5ECF6",
           "radialaxis": {
            "gridcolor": "white",
            "linecolor": "white",
            "ticks": ""
           }
          },
          "scene": {
           "xaxis": {
            "backgroundcolor": "#E5ECF6",
            "gridcolor": "white",
            "gridwidth": 2,
            "linecolor": "white",
            "showbackground": true,
            "ticks": "",
            "zerolinecolor": "white"
           },
           "yaxis": {
            "backgroundcolor": "#E5ECF6",
            "gridcolor": "white",
            "gridwidth": 2,
            "linecolor": "white",
            "showbackground": true,
            "ticks": "",
            "zerolinecolor": "white"
           },
           "zaxis": {
            "backgroundcolor": "#E5ECF6",
            "gridcolor": "white",
            "gridwidth": 2,
            "linecolor": "white",
            "showbackground": true,
            "ticks": "",
            "zerolinecolor": "white"
           }
          },
          "shapedefaults": {
           "line": {
            "color": "#2a3f5f"
           }
          },
          "ternary": {
           "aaxis": {
            "gridcolor": "white",
            "linecolor": "white",
            "ticks": ""
           },
           "baxis": {
            "gridcolor": "white",
            "linecolor": "white",
            "ticks": ""
           },
           "bgcolor": "#E5ECF6",
           "caxis": {
            "gridcolor": "white",
            "linecolor": "white",
            "ticks": ""
           }
          },
          "title": {
           "x": 0.05
          },
          "xaxis": {
           "automargin": true,
           "gridcolor": "white",
           "linecolor": "white",
           "ticks": "",
           "title": {
            "standoff": 15
           },
           "zerolinecolor": "white",
           "zerolinewidth": 2
          },
          "yaxis": {
           "automargin": true,
           "gridcolor": "white",
           "linecolor": "white",
           "ticks": "",
           "title": {
            "standoff": 15
           },
           "zerolinecolor": "white",
           "zerolinewidth": 2
          }
         }
        },
        "title": {
         "text": "Monthly Sales Forecasting - ARIMA vs Random Forest"
        },
        "xaxis": {
         "title": {
          "text": "Month"
         }
        },
        "yaxis": {
         "title": {
          "text": "Total Revenue"
         }
        }
       }
      }
     },
     "metadata": {},
     "output_type": "display_data"
    }
   ],
   "source": [
    "import pandas as pd\n",
    "import numpy as np\n",
    "import plotly.graph_objects as go\n",
    "from statsmodels.tsa.arima.model import ARIMA\n",
    "from sklearn.ensemble import RandomForestRegressor\n",
    "\n",
    "# Load data\n",
    "df = pd.read_csv(\"index.csv\")\n",
    "df['date'] = pd.to_datetime(df['date'])\n",
    "\n",
    "# Aggregate monthly sales\n",
    "monthly_sales = df.groupby(pd.Grouper(key='date', freq='M')).agg({'money':'sum'}).reset_index()\n",
    "monthly_sales.columns = ['month', 'total_revenue']\n",
    "monthly_sales['total_revenue'] = pd.to_numeric(monthly_sales['total_revenue'])\n",
    "\n",
    "# Set monthly frequency and fill missing months\n",
    "monthly_sales.set_index('month', inplace=True)\n",
    "monthly_sales = monthly_sales.asfreq('M').fillna(method='ffill')\n",
    "\n",
    "# ----------------- ARIMA Model -----------------\n",
    "arima_model = ARIMA(monthly_sales['total_revenue'], order=(2,1,0))\n",
    "arima_results = arima_model.fit()\n",
    "\n",
    "# Forecast next 6 months\n",
    "arima_forecast = arima_results.get_forecast(steps=6)\n",
    "arima_forecast_df = arima_forecast.summary_frame()\n",
    "arima_forecast_df['month'] = pd.date_range(start=monthly_sales.index[-1] + pd.offsets.MonthEnd(1), periods=6, freq='M')\n",
    "arima_forecast_df.set_index('month', inplace=True)\n",
    "\n",
    "# ----------------- Random Forest Model -----------------\n",
    "rf_data = monthly_sales.copy()\n",
    "rf_data['month_of_year'] = rf_data.index.month\n",
    "rf_data['quarter'] = rf_data.index.quarter\n",
    "\n",
    "# Lag features\n",
    "for lag in range(1, 4):\n",
    "    rf_data[f'lag_{lag}'] = rf_data['total_revenue'].shift(lag)\n",
    "\n",
    "rf_data.dropna(inplace=True)\n",
    "\n",
    "# Train on all available data\n",
    "feature_cols = ['month_of_year', 'quarter'] + [f'lag_{lag}' for lag in range(1, 4)]\n",
    "X_train = rf_data[feature_cols]\n",
    "y_train = rf_data['total_revenue']\n",
    "\n",
    "rf_model = RandomForestRegressor(n_estimators=100, random_state=42)\n",
    "rf_model.fit(X_train, y_train)\n",
    "\n",
    "# ----------------- Forecast 6 months using RF -----------------\n",
    "future_months = pd.date_range(start=monthly_sales.index[-1] + pd.offsets.MonthEnd(1), periods=6, freq='M')\n",
    "future_preds = []\n",
    "last_values = monthly_sales['total_revenue'][-3:].tolist()  # last 3 months for lag features\n",
    "\n",
    "for m in future_months:\n",
    "    features = [\n",
    "        m.month,\n",
    "        m.quarter\n",
    "    ] + last_values[-3:]\n",
    "    pred = rf_model.predict([features])[0]\n",
    "    future_preds.append(pred)\n",
    "    last_values.append(pred)\n",
    "\n",
    "rf_forecast_df = pd.DataFrame({'total_revenue': future_preds}, index=future_months)\n",
    "\n",
    "# ----------------- Plotting -----------------\n",
    "fig = go.Figure()\n",
    "\n",
    "# Actual monthly sales\n",
    "fig.add_trace(go.Scatter(\n",
    "    x=monthly_sales.index, y=monthly_sales['total_revenue'],\n",
    "    name='Actual Monthly Sales', line=dict(color='blue')\n",
    "))\n",
    "\n",
    "# ARIMA forecast\n",
    "fig.add_trace(go.Scatter(\n",
    "    x=arima_forecast_df.index, y=arima_forecast_df['mean'],\n",
    "    name='ARIMA Forecast (6 months)', line=dict(color='red', dash='dash')\n",
    "))\n",
    "\n",
    "# Random Forest forecast\n",
    "fig.add_trace(go.Scatter(\n",
    "    x=rf_forecast_df.index, y=rf_forecast_df['total_revenue'],\n",
    "    name='Random Forest Forecast (6 months)', line=dict(color='green', dash='dot')\n",
    "))\n",
    "\n",
    "# Layout\n",
    "fig.update_layout(\n",
    "    title='Monthly Sales Forecasting - ARIMA vs Random Forest',\n",
    "    xaxis_title='Month',\n",
    "    yaxis_title='Total Revenue',\n",
    "    plot_bgcolor='white'\n",
    ")\n",
    "\n",
    "fig.show()"
   ]
  },
  {
   "cell_type": "code",
   "execution_count": 5,
   "id": "c579d6b7",
   "metadata": {},
   "outputs": [
    {
     "name": "stderr",
     "output_type": "stream",
     "text": [
      "C:\\Users\\shrey\\AppData\\Local\\Temp\\ipykernel_9856\\3253306382.py:27: FutureWarning:\n",
      "\n",
      "DataFrame.fillna with 'method' is deprecated and will raise in a future version. Use obj.ffill() or obj.bfill() instead.\n",
      "\n",
      "g:\\MCA Practice\\MLporoject\\.venv\\Lib\\site-packages\\sklearn\\utils\\validation.py:2749: UserWarning:\n",
      "\n",
      "X does not have valid feature names, but RandomForestRegressor was fitted with feature names\n",
      "\n",
      "g:\\MCA Practice\\MLporoject\\.venv\\Lib\\site-packages\\sklearn\\utils\\validation.py:2749: UserWarning:\n",
      "\n",
      "X does not have valid feature names, but RandomForestRegressor was fitted with feature names\n",
      "\n",
      "g:\\MCA Practice\\MLporoject\\.venv\\Lib\\site-packages\\sklearn\\utils\\validation.py:2749: UserWarning:\n",
      "\n",
      "X does not have valid feature names, but RandomForestRegressor was fitted with feature names\n",
      "\n",
      "g:\\MCA Practice\\MLporoject\\.venv\\Lib\\site-packages\\sklearn\\utils\\validation.py:2749: UserWarning:\n",
      "\n",
      "X does not have valid feature names, but RandomForestRegressor was fitted with feature names\n",
      "\n",
      "g:\\MCA Practice\\MLporoject\\.venv\\Lib\\site-packages\\sklearn\\utils\\validation.py:2749: UserWarning:\n",
      "\n",
      "X does not have valid feature names, but RandomForestRegressor was fitted with feature names\n",
      "\n",
      "g:\\MCA Practice\\MLporoject\\.venv\\Lib\\site-packages\\sklearn\\utils\\validation.py:2749: UserWarning:\n",
      "\n",
      "X does not have valid feature names, but RandomForestRegressor was fitted with feature names\n",
      "\n",
      "g:\\MCA Practice\\MLporoject\\.venv\\Lib\\site-packages\\sklearn\\utils\\validation.py:2749: UserWarning:\n",
      "\n",
      "X does not have valid feature names, but RandomForestRegressor was fitted with feature names\n",
      "\n",
      "g:\\MCA Practice\\MLporoject\\.venv\\Lib\\site-packages\\sklearn\\utils\\validation.py:2749: UserWarning:\n",
      "\n",
      "X does not have valid feature names, but RandomForestRegressor was fitted with feature names\n",
      "\n",
      "g:\\MCA Practice\\MLporoject\\.venv\\Lib\\site-packages\\sklearn\\utils\\validation.py:2749: UserWarning:\n",
      "\n",
      "X does not have valid feature names, but RandomForestRegressor was fitted with feature names\n",
      "\n",
      "g:\\MCA Practice\\MLporoject\\.venv\\Lib\\site-packages\\sklearn\\utils\\validation.py:2749: UserWarning:\n",
      "\n",
      "X does not have valid feature names, but RandomForestRegressor was fitted with feature names\n",
      "\n",
      "g:\\MCA Practice\\MLporoject\\.venv\\Lib\\site-packages\\sklearn\\utils\\validation.py:2749: UserWarning:\n",
      "\n",
      "X does not have valid feature names, but RandomForestRegressor was fitted with feature names\n",
      "\n",
      "g:\\MCA Practice\\MLporoject\\.venv\\Lib\\site-packages\\sklearn\\utils\\validation.py:2749: UserWarning:\n",
      "\n",
      "X does not have valid feature names, but RandomForestRegressor was fitted with feature names\n",
      "\n",
      "g:\\MCA Practice\\MLporoject\\.venv\\Lib\\site-packages\\sklearn\\utils\\validation.py:2749: UserWarning:\n",
      "\n",
      "X does not have valid feature names, but RandomForestRegressor was fitted with feature names\n",
      "\n",
      "g:\\MCA Practice\\MLporoject\\.venv\\Lib\\site-packages\\sklearn\\utils\\validation.py:2749: UserWarning:\n",
      "\n",
      "X does not have valid feature names, but RandomForestRegressor was fitted with feature names\n",
      "\n",
      "g:\\MCA Practice\\MLporoject\\.venv\\Lib\\site-packages\\sklearn\\utils\\validation.py:2749: UserWarning:\n",
      "\n",
      "X does not have valid feature names, but RandomForestRegressor was fitted with feature names\n",
      "\n",
      "g:\\MCA Practice\\MLporoject\\.venv\\Lib\\site-packages\\sklearn\\utils\\validation.py:2749: UserWarning:\n",
      "\n",
      "X does not have valid feature names, but RandomForestRegressor was fitted with feature names\n",
      "\n",
      "g:\\MCA Practice\\MLporoject\\.venv\\Lib\\site-packages\\sklearn\\utils\\validation.py:2749: UserWarning:\n",
      "\n",
      "X does not have valid feature names, but RandomForestRegressor was fitted with feature names\n",
      "\n",
      "g:\\MCA Practice\\MLporoject\\.venv\\Lib\\site-packages\\sklearn\\utils\\validation.py:2749: UserWarning:\n",
      "\n",
      "X does not have valid feature names, but RandomForestRegressor was fitted with feature names\n",
      "\n",
      "g:\\MCA Practice\\MLporoject\\.venv\\Lib\\site-packages\\sklearn\\utils\\validation.py:2749: UserWarning:\n",
      "\n",
      "X does not have valid feature names, but RandomForestRegressor was fitted with feature names\n",
      "\n",
      "g:\\MCA Practice\\MLporoject\\.venv\\Lib\\site-packages\\sklearn\\utils\\validation.py:2749: UserWarning:\n",
      "\n",
      "X does not have valid feature names, but RandomForestRegressor was fitted with feature names\n",
      "\n",
      "g:\\MCA Practice\\MLporoject\\.venv\\Lib\\site-packages\\sklearn\\utils\\validation.py:2749: UserWarning:\n",
      "\n",
      "X does not have valid feature names, but RandomForestRegressor was fitted with feature names\n",
      "\n",
      "g:\\MCA Practice\\MLporoject\\.venv\\Lib\\site-packages\\sklearn\\utils\\validation.py:2749: UserWarning:\n",
      "\n",
      "X does not have valid feature names, but RandomForestRegressor was fitted with feature names\n",
      "\n",
      "g:\\MCA Practice\\MLporoject\\.venv\\Lib\\site-packages\\sklearn\\utils\\validation.py:2749: UserWarning:\n",
      "\n",
      "X does not have valid feature names, but RandomForestRegressor was fitted with feature names\n",
      "\n",
      "g:\\MCA Practice\\MLporoject\\.venv\\Lib\\site-packages\\sklearn\\utils\\validation.py:2749: UserWarning:\n",
      "\n",
      "X does not have valid feature names, but RandomForestRegressor was fitted with feature names\n",
      "\n",
      "g:\\MCA Practice\\MLporoject\\.venv\\Lib\\site-packages\\sklearn\\utils\\validation.py:2749: UserWarning:\n",
      "\n",
      "X does not have valid feature names, but RandomForestRegressor was fitted with feature names\n",
      "\n",
      "g:\\MCA Practice\\MLporoject\\.venv\\Lib\\site-packages\\sklearn\\utils\\validation.py:2749: UserWarning:\n",
      "\n",
      "X does not have valid feature names, but RandomForestRegressor was fitted with feature names\n",
      "\n",
      "g:\\MCA Practice\\MLporoject\\.venv\\Lib\\site-packages\\sklearn\\utils\\validation.py:2749: UserWarning:\n",
      "\n",
      "X does not have valid feature names, but RandomForestRegressor was fitted with feature names\n",
      "\n",
      "g:\\MCA Practice\\MLporoject\\.venv\\Lib\\site-packages\\sklearn\\utils\\validation.py:2749: UserWarning:\n",
      "\n",
      "X does not have valid feature names, but RandomForestRegressor was fitted with feature names\n",
      "\n",
      "g:\\MCA Practice\\MLporoject\\.venv\\Lib\\site-packages\\sklearn\\utils\\validation.py:2749: UserWarning:\n",
      "\n",
      "X does not have valid feature names, but RandomForestRegressor was fitted with feature names\n",
      "\n",
      "g:\\MCA Practice\\MLporoject\\.venv\\Lib\\site-packages\\sklearn\\utils\\validation.py:2749: UserWarning:\n",
      "\n",
      "X does not have valid feature names, but RandomForestRegressor was fitted with feature names\n",
      "\n",
      "C:\\Users\\shrey\\AppData\\Local\\Temp\\ipykernel_9856\\3253306382.py:68: FutureWarning:\n",
      "\n",
      "DataFrame.fillna with 'method' is deprecated and will raise in a future version. Use obj.ffill() or obj.bfill() instead.\n",
      "\n",
      "g:\\MCA Practice\\MLporoject\\.venv\\Lib\\site-packages\\sklearn\\utils\\validation.py:2749: UserWarning:\n",
      "\n",
      "X does not have valid feature names, but RandomForestRegressor was fitted with feature names\n",
      "\n",
      "g:\\MCA Practice\\MLporoject\\.venv\\Lib\\site-packages\\sklearn\\utils\\validation.py:2749: UserWarning:\n",
      "\n",
      "X does not have valid feature names, but RandomForestRegressor was fitted with feature names\n",
      "\n",
      "g:\\MCA Practice\\MLporoject\\.venv\\Lib\\site-packages\\sklearn\\utils\\validation.py:2749: UserWarning:\n",
      "\n",
      "X does not have valid feature names, but RandomForestRegressor was fitted with feature names\n",
      "\n",
      "g:\\MCA Practice\\MLporoject\\.venv\\Lib\\site-packages\\sklearn\\utils\\validation.py:2749: UserWarning:\n",
      "\n",
      "X does not have valid feature names, but RandomForestRegressor was fitted with feature names\n",
      "\n",
      "g:\\MCA Practice\\MLporoject\\.venv\\Lib\\site-packages\\sklearn\\utils\\validation.py:2749: UserWarning:\n",
      "\n",
      "X does not have valid feature names, but RandomForestRegressor was fitted with feature names\n",
      "\n",
      "g:\\MCA Practice\\MLporoject\\.venv\\Lib\\site-packages\\sklearn\\utils\\validation.py:2749: UserWarning:\n",
      "\n",
      "X does not have valid feature names, but RandomForestRegressor was fitted with feature names\n",
      "\n",
      "g:\\MCA Practice\\MLporoject\\.venv\\Lib\\site-packages\\sklearn\\utils\\validation.py:2749: UserWarning:\n",
      "\n",
      "X does not have valid feature names, but RandomForestRegressor was fitted with feature names\n",
      "\n",
      "g:\\MCA Practice\\MLporoject\\.venv\\Lib\\site-packages\\sklearn\\utils\\validation.py:2749: UserWarning:\n",
      "\n",
      "X does not have valid feature names, but RandomForestRegressor was fitted with feature names\n",
      "\n",
      "g:\\MCA Practice\\MLporoject\\.venv\\Lib\\site-packages\\sklearn\\utils\\validation.py:2749: UserWarning:\n",
      "\n",
      "X does not have valid feature names, but RandomForestRegressor was fitted with feature names\n",
      "\n",
      "g:\\MCA Practice\\MLporoject\\.venv\\Lib\\site-packages\\sklearn\\utils\\validation.py:2749: UserWarning:\n",
      "\n",
      "X does not have valid feature names, but RandomForestRegressor was fitted with feature names\n",
      "\n",
      "g:\\MCA Practice\\MLporoject\\.venv\\Lib\\site-packages\\sklearn\\utils\\validation.py:2749: UserWarning:\n",
      "\n",
      "X does not have valid feature names, but RandomForestRegressor was fitted with feature names\n",
      "\n",
      "g:\\MCA Practice\\MLporoject\\.venv\\Lib\\site-packages\\sklearn\\utils\\validation.py:2749: UserWarning:\n",
      "\n",
      "X does not have valid feature names, but RandomForestRegressor was fitted with feature names\n",
      "\n",
      "C:\\Users\\shrey\\AppData\\Local\\Temp\\ipykernel_9856\\3253306382.py:103: FutureWarning:\n",
      "\n",
      "'M' is deprecated and will be removed in a future version, please use 'ME' instead.\n",
      "\n",
      "C:\\Users\\shrey\\AppData\\Local\\Temp\\ipykernel_9856\\3253306382.py:106: FutureWarning:\n",
      "\n",
      "'M' is deprecated and will be removed in a future version, please use 'ME' instead.\n",
      "\n",
      "C:\\Users\\shrey\\AppData\\Local\\Temp\\ipykernel_9856\\3253306382.py:106: FutureWarning:\n",
      "\n",
      "DataFrame.fillna with 'method' is deprecated and will raise in a future version. Use obj.ffill() or obj.bfill() instead.\n",
      "\n",
      "g:\\MCA Practice\\MLporoject\\.venv\\Lib\\site-packages\\statsmodels\\base\\model.py:607: ConvergenceWarning:\n",
      "\n",
      "Maximum Likelihood optimization failed to converge. Check mle_retvals\n",
      "\n",
      "C:\\Users\\shrey\\AppData\\Local\\Temp\\ipykernel_9856\\3253306382.py:110: FutureWarning:\n",
      "\n",
      "'M' is deprecated and will be removed in a future version, please use 'ME' instead.\n",
      "\n",
      "C:\\Users\\shrey\\AppData\\Local\\Temp\\ipykernel_9856\\3253306382.py:123: FutureWarning:\n",
      "\n",
      "'M' is deprecated and will be removed in a future version, please use 'ME' instead.\n",
      "\n",
      "g:\\MCA Practice\\MLporoject\\.venv\\Lib\\site-packages\\sklearn\\utils\\validation.py:2749: UserWarning:\n",
      "\n",
      "X does not have valid feature names, but RandomForestRegressor was fitted with feature names\n",
      "\n",
      "g:\\MCA Practice\\MLporoject\\.venv\\Lib\\site-packages\\sklearn\\utils\\validation.py:2749: UserWarning:\n",
      "\n",
      "X does not have valid feature names, but RandomForestRegressor was fitted with feature names\n",
      "\n",
      "g:\\MCA Practice\\MLporoject\\.venv\\Lib\\site-packages\\sklearn\\utils\\validation.py:2749: UserWarning:\n",
      "\n",
      "X does not have valid feature names, but RandomForestRegressor was fitted with feature names\n",
      "\n",
      "g:\\MCA Practice\\MLporoject\\.venv\\Lib\\site-packages\\sklearn\\utils\\validation.py:2749: UserWarning:\n",
      "\n",
      "X does not have valid feature names, but RandomForestRegressor was fitted with feature names\n",
      "\n",
      "g:\\MCA Practice\\MLporoject\\.venv\\Lib\\site-packages\\sklearn\\utils\\validation.py:2749: UserWarning:\n",
      "\n",
      "X does not have valid feature names, but RandomForestRegressor was fitted with feature names\n",
      "\n",
      "g:\\MCA Practice\\MLporoject\\.venv\\Lib\\site-packages\\sklearn\\utils\\validation.py:2749: UserWarning:\n",
      "\n",
      "X does not have valid feature names, but RandomForestRegressor was fitted with feature names\n",
      "\n"
     ]
    },
    {
     "data": {
      "application/vnd.plotly.v1+json": {
       "config": {
        "plotlyServerURL": "https://plot.ly"
       },
       "data": [
        {
         "line": {
          "color": "blue"
         },
         "name": "Actual Daily",
         "type": "scatter",
         "x": [
          "2024-03-01T00:00:00.000000000",
          "2024-03-02T00:00:00.000000000",
          "2024-03-03T00:00:00.000000000",
          "2024-03-04T00:00:00.000000000",
          "2024-03-05T00:00:00.000000000",
          "2024-03-06T00:00:00.000000000",
          "2024-03-07T00:00:00.000000000",
          "2024-03-08T00:00:00.000000000",
          "2024-03-09T00:00:00.000000000",
          "2024-03-10T00:00:00.000000000",
          "2024-03-11T00:00:00.000000000",
          "2024-03-12T00:00:00.000000000",
          "2024-03-13T00:00:00.000000000",
          "2024-03-14T00:00:00.000000000",
          "2024-03-15T00:00:00.000000000",
          "2024-03-16T00:00:00.000000000",
          "2024-03-17T00:00:00.000000000",
          "2024-03-18T00:00:00.000000000",
          "2024-03-19T00:00:00.000000000",
          "2024-03-20T00:00:00.000000000",
          "2024-03-21T00:00:00.000000000",
          "2024-03-22T00:00:00.000000000",
          "2024-03-23T00:00:00.000000000",
          "2024-03-24T00:00:00.000000000",
          "2024-03-25T00:00:00.000000000",
          "2024-03-26T00:00:00.000000000",
          "2024-03-27T00:00:00.000000000",
          "2024-03-28T00:00:00.000000000",
          "2024-03-29T00:00:00.000000000",
          "2024-03-30T00:00:00.000000000",
          "2024-03-31T00:00:00.000000000",
          "2024-04-01T00:00:00.000000000",
          "2024-04-02T00:00:00.000000000",
          "2024-04-03T00:00:00.000000000",
          "2024-04-04T00:00:00.000000000",
          "2024-04-05T00:00:00.000000000",
          "2024-04-06T00:00:00.000000000",
          "2024-04-07T00:00:00.000000000",
          "2024-04-08T00:00:00.000000000",
          "2024-04-09T00:00:00.000000000",
          "2024-04-10T00:00:00.000000000",
          "2024-04-11T00:00:00.000000000",
          "2024-04-12T00:00:00.000000000",
          "2024-04-13T00:00:00.000000000",
          "2024-04-14T00:00:00.000000000",
          "2024-04-15T00:00:00.000000000",
          "2024-04-16T00:00:00.000000000",
          "2024-04-17T00:00:00.000000000",
          "2024-04-18T00:00:00.000000000",
          "2024-04-19T00:00:00.000000000",
          "2024-04-20T00:00:00.000000000",
          "2024-04-21T00:00:00.000000000",
          "2024-04-22T00:00:00.000000000",
          "2024-04-23T00:00:00.000000000",
          "2024-04-24T00:00:00.000000000",
          "2024-04-25T00:00:00.000000000",
          "2024-04-26T00:00:00.000000000",
          "2024-04-27T00:00:00.000000000",
          "2024-04-28T00:00:00.000000000",
          "2024-04-29T00:00:00.000000000",
          "2024-04-30T00:00:00.000000000",
          "2024-05-01T00:00:00.000000000",
          "2024-05-02T00:00:00.000000000",
          "2024-05-03T00:00:00.000000000",
          "2024-05-04T00:00:00.000000000",
          "2024-05-05T00:00:00.000000000",
          "2024-05-06T00:00:00.000000000",
          "2024-05-07T00:00:00.000000000",
          "2024-05-08T00:00:00.000000000",
          "2024-05-09T00:00:00.000000000",
          "2024-05-10T00:00:00.000000000",
          "2024-05-11T00:00:00.000000000",
          "2024-05-12T00:00:00.000000000",
          "2024-05-13T00:00:00.000000000",
          "2024-05-14T00:00:00.000000000",
          "2024-05-15T00:00:00.000000000",
          "2024-05-16T00:00:00.000000000",
          "2024-05-17T00:00:00.000000000",
          "2024-05-18T00:00:00.000000000",
          "2024-05-19T00:00:00.000000000",
          "2024-05-20T00:00:00.000000000",
          "2024-05-21T00:00:00.000000000",
          "2024-05-22T00:00:00.000000000",
          "2024-05-23T00:00:00.000000000",
          "2024-05-24T00:00:00.000000000",
          "2024-05-25T00:00:00.000000000",
          "2024-05-26T00:00:00.000000000",
          "2024-05-27T00:00:00.000000000",
          "2024-05-28T00:00:00.000000000",
          "2024-05-29T00:00:00.000000000",
          "2024-05-30T00:00:00.000000000",
          "2024-05-31T00:00:00.000000000",
          "2024-06-01T00:00:00.000000000",
          "2024-06-02T00:00:00.000000000",
          "2024-06-03T00:00:00.000000000",
          "2024-06-04T00:00:00.000000000",
          "2024-06-05T00:00:00.000000000",
          "2024-06-06T00:00:00.000000000",
          "2024-06-07T00:00:00.000000000",
          "2024-06-08T00:00:00.000000000",
          "2024-06-09T00:00:00.000000000",
          "2024-06-10T00:00:00.000000000",
          "2024-06-11T00:00:00.000000000",
          "2024-06-12T00:00:00.000000000",
          "2024-06-13T00:00:00.000000000",
          "2024-06-14T00:00:00.000000000",
          "2024-06-15T00:00:00.000000000",
          "2024-06-16T00:00:00.000000000",
          "2024-06-17T00:00:00.000000000",
          "2024-06-18T00:00:00.000000000",
          "2024-06-19T00:00:00.000000000",
          "2024-06-20T00:00:00.000000000",
          "2024-06-21T00:00:00.000000000",
          "2024-06-22T00:00:00.000000000",
          "2024-06-23T00:00:00.000000000",
          "2024-06-24T00:00:00.000000000",
          "2024-06-25T00:00:00.000000000",
          "2024-06-26T00:00:00.000000000",
          "2024-06-27T00:00:00.000000000",
          "2024-06-28T00:00:00.000000000",
          "2024-06-29T00:00:00.000000000",
          "2024-06-30T00:00:00.000000000",
          "2024-07-01T00:00:00.000000000",
          "2024-07-02T00:00:00.000000000",
          "2024-07-03T00:00:00.000000000",
          "2024-07-04T00:00:00.000000000",
          "2024-07-05T00:00:00.000000000",
          "2024-07-06T00:00:00.000000000",
          "2024-07-07T00:00:00.000000000",
          "2024-07-08T00:00:00.000000000",
          "2024-07-09T00:00:00.000000000",
          "2024-07-10T00:00:00.000000000",
          "2024-07-11T00:00:00.000000000",
          "2024-07-12T00:00:00.000000000",
          "2024-07-13T00:00:00.000000000",
          "2024-07-14T00:00:00.000000000",
          "2024-07-15T00:00:00.000000000",
          "2024-07-16T00:00:00.000000000",
          "2024-07-17T00:00:00.000000000",
          "2024-07-18T00:00:00.000000000",
          "2024-07-19T00:00:00.000000000",
          "2024-07-20T00:00:00.000000000",
          "2024-07-21T00:00:00.000000000",
          "2024-07-22T00:00:00.000000000",
          "2024-07-23T00:00:00.000000000",
          "2024-07-24T00:00:00.000000000",
          "2024-07-25T00:00:00.000000000",
          "2024-07-26T00:00:00.000000000",
          "2024-07-27T00:00:00.000000000",
          "2024-07-28T00:00:00.000000000",
          "2024-07-29T00:00:00.000000000",
          "2024-07-30T00:00:00.000000000",
          "2024-07-31T00:00:00.000000000"
         ],
         "xaxis": "x",
         "y": {
          "bdata": "zczMzMzEeEAzMzMzM4NsQJqZmZmZ0XVAZmZmZmbmYEAAAAAAACh1QGZmZmZmRmVAMzMzMzODa0AAAAAAAJhwQGZmZmZm9n1AMzMzMzPzbEAzMzMzMzNxQDMzMzMzg2xAMzMzMzMDcECamZmZmdF4QGZmZmZm5lpAZmZmZmbmZkCamZmZmTlRQGZmZmZm5lxAzczMzMx8a0DNzMzMzLxqQGZmZmZmpmlAzMzMzMysZ0CamZmZmdFxQM3MzMzMrFNANDMzMzPza0AzMzMzM4t3QDMzMzMz+3BAmpmZmZlZX0A0MzMzM4NjQM3MzMzMvGdAzczMzMwsUUCZmZmZmVluQAAAAAAAEGFAAAAAAACgX0AAAAAAACBnQJqZmZmZoXZAMzMzMzODYUAAAAAAADBuQDMzMzMzQ3VANDMzMzNDZ0DNzMzMzMxkQAAAAAAAIGVAZmZmZmbmUEBnZmZmZuZyQM3MzMzMJHtAzMzMzMzMYkAAAAAAAEhxQGZmZmZm5mhAMzMzMzMLdkCamZmZmVFwQM3MzMzM5H5AKVyPwvUoWkAfhetRuA5mQM3MzMzMvGVA9ihcj8IFcUAfhetRuF5eQBSuR+F6xHJAXI/C9SjcQkAAAAAAACBlQMP1KFyPGnBA9ihcj8IFcUD2KFyPwgVxQNejcD0Kt25AXI/C9SicXEBcj8L1KJxcQFyPwvUonFxA4XoUrkepc0DhehSuR4F1QFyPwvUo3EJArkfhehR2ckCuR+F6FI5iQKRwPQrXU3JA9ihcj8IFcUAUrkfherRWQArXo3A9OnlAhetRuB7tdUA9CtejcHV0QPYoXI/CJXNA16NwPQq3cUA+CtejcB16QFyPwvUoeIFAZmZmZmauc0CF61G4Hi13QDMzMzMz+4FAFa5H4XpEakA+CtejcN1vQM3MzMzMdIBAH4XrUbjedkCamZmZmUF3QJqZmZmZyXhAhetRuB4td0CPwvUoXD9/QM3MzMzMLHhAmpmZmZmZakBmZmZmZnZvQHsUrkfhon1A4XoUrkdhc0C4HoXrURh4QM3MzMzMrGJA9ihcj8IFYUCPwvUoXEd7QArXo3A9SmxApHA9CtdzakA9CtejcK1rQArXo3A9sndAuB6F61GYX0ApXI/C9WhwQHE9CtejiHlAzczMzMw0dEAUrkfhelRtQFK4HoXryXdAPQrXo3Cta0AK16NwPTp5QAAAAAAAIGVAmpmZmZlZZkA9CtejcK1rQML1KFyPomFAPQrXo3CdaEApXI/C9WhgQGZmZmZm5mNAKVyPwvXwcUApXI/C9WhgQD0K16NwnVhAcT0K16MAaEDhehSuR2FzQB+F61G4Xk5AMzMzMzP7ckAzMzMzM4NkQIXrUbgepXVAMzMzMzNzYUAAAAAAABBiQHE9Ctej8FRAhetRuB4lXUCamZmZmUljQClcj8L1aFBAPgrXo3CNZUApXI/C9WhAQB+F61G4Xk5A7FG4HoXrO0C4HoXrUYBzQB+F61G4Xm5AehSuR+EKaUAfhetRuF5eQFK4HoXrsVpA16NwPQo/dUAK16NwPaJ0QGZmZmZm1nBAH4XrUbjWfEBcj8L1KEx3QNejcD0Kt1NAhetRuB4ddECkcD0K11OEQB+F61G4zoNA",
          "dtype": "f8"
         },
         "yaxis": "y"
        },
        {
         "line": {
          "color": "red",
          "dash": "dash"
         },
         "name": "ARIMA Daily Forecast",
         "type": "scatter",
         "x": [
          "2024-08-01T00:00:00.000000000",
          "2024-08-02T00:00:00.000000000",
          "2024-08-03T00:00:00.000000000",
          "2024-08-04T00:00:00.000000000",
          "2024-08-05T00:00:00.000000000",
          "2024-08-06T00:00:00.000000000",
          "2024-08-07T00:00:00.000000000",
          "2024-08-08T00:00:00.000000000",
          "2024-08-09T00:00:00.000000000",
          "2024-08-10T00:00:00.000000000",
          "2024-08-11T00:00:00.000000000",
          "2024-08-12T00:00:00.000000000",
          "2024-08-13T00:00:00.000000000",
          "2024-08-14T00:00:00.000000000",
          "2024-08-15T00:00:00.000000000",
          "2024-08-16T00:00:00.000000000",
          "2024-08-17T00:00:00.000000000",
          "2024-08-18T00:00:00.000000000",
          "2024-08-19T00:00:00.000000000",
          "2024-08-20T00:00:00.000000000",
          "2024-08-21T00:00:00.000000000",
          "2024-08-22T00:00:00.000000000",
          "2024-08-23T00:00:00.000000000",
          "2024-08-24T00:00:00.000000000",
          "2024-08-25T00:00:00.000000000",
          "2024-08-26T00:00:00.000000000",
          "2024-08-27T00:00:00.000000000",
          "2024-08-28T00:00:00.000000000",
          "2024-08-29T00:00:00.000000000",
          "2024-08-30T00:00:00.000000000"
         ],
         "xaxis": "x",
         "y": {
          "bdata": "zbbGrRtCd0DmbB+OoLN3QJGvRbjZcnlAUFdYcXx+fUDnzkNnotN+QAPzlbswCX1A5v1O5+09ekD0OdO+wkJ7QOGUn5vuP3xA7UUiYOy5fEB4a8tgqGF8QKPvXpiv8XtAK7g/mlCue0AlVI6m3A18QIhCcKjoO3xA560TiNUyfECLB8vmUA58QM/YAr4tA3xAOvQc124HfEDp1C+GHRx8QEapmd/5HXxADoE0JToWfED983FqcQ98QJmfDbZPEXxAsbA7CmEUfEB6ikRMChd8QL0sq7aOFXxAR9ukf7ATfEB1IoKzMBN8QDBtmwpJFHxA",
          "dtype": "f8"
         },
         "yaxis": "y"
        },
        {
         "line": {
          "color": "green",
          "dash": "dot"
         },
         "name": "RF Daily Forecast",
         "type": "scatter",
         "x": [
          "2024-08-01T00:00:00.000000000",
          "2024-08-02T00:00:00.000000000",
          "2024-08-03T00:00:00.000000000",
          "2024-08-04T00:00:00.000000000",
          "2024-08-05T00:00:00.000000000",
          "2024-08-06T00:00:00.000000000",
          "2024-08-07T00:00:00.000000000",
          "2024-08-08T00:00:00.000000000",
          "2024-08-09T00:00:00.000000000",
          "2024-08-10T00:00:00.000000000",
          "2024-08-11T00:00:00.000000000",
          "2024-08-12T00:00:00.000000000",
          "2024-08-13T00:00:00.000000000",
          "2024-08-14T00:00:00.000000000",
          "2024-08-15T00:00:00.000000000",
          "2024-08-16T00:00:00.000000000",
          "2024-08-17T00:00:00.000000000",
          "2024-08-18T00:00:00.000000000",
          "2024-08-19T00:00:00.000000000",
          "2024-08-20T00:00:00.000000000",
          "2024-08-21T00:00:00.000000000",
          "2024-08-22T00:00:00.000000000",
          "2024-08-23T00:00:00.000000000",
          "2024-08-24T00:00:00.000000000",
          "2024-08-25T00:00:00.000000000",
          "2024-08-26T00:00:00.000000000",
          "2024-08-27T00:00:00.000000000",
          "2024-08-28T00:00:00.000000000",
          "2024-08-29T00:00:00.000000000",
          "2024-08-30T00:00:00.000000000"
         ],
         "xaxis": "x",
         "y": {
          "bdata": "Nzy9UpYvfUCK5PIf0r9+QGhEaW/wQ39AaG/whcnwfUBJnYAmwiuAQPYGX5hMDoBAsL/snjwYgEAgyeU/pDV/QFOfq63YzX5ACJOpglHzfkCU9gZfmOR+QLYehetRPn9AjUrqBDRjf0BJe4MvTCx/QAxxrIvbJn9AYF3cRgPSfkCDyVTBqJh+QI3C9Shcl35AKRiV1AkSf0CNSuoENGN/QEl7gy9MLH9ADHGsi9smf0BgXdxGA9J+QIPJVMGomH5AT7geheuRfkApGJXUCRJ/QI1K6gQ0Y39ASXuDL0wsf0AMcayL2yZ/QGBd3EYD0n5A",
          "dtype": "f8"
         },
         "yaxis": "y"
        },
        {
         "line": {
          "color": "blue"
         },
         "name": "Actual Weekly",
         "type": "scatter",
         "x": [
          "2024-03-04T00:00:00.000000000",
          "2024-03-11T00:00:00.000000000",
          "2024-03-18T00:00:00.000000000",
          "2024-03-25T00:00:00.000000000",
          "2024-04-01T00:00:00.000000000",
          "2024-04-08T00:00:00.000000000",
          "2024-04-15T00:00:00.000000000",
          "2024-04-22T00:00:00.000000000",
          "2024-04-29T00:00:00.000000000",
          "2024-05-06T00:00:00.000000000",
          "2024-05-13T00:00:00.000000000",
          "2024-05-20T00:00:00.000000000",
          "2024-05-27T00:00:00.000000000",
          "2024-06-03T00:00:00.000000000",
          "2024-06-10T00:00:00.000000000",
          "2024-06-17T00:00:00.000000000",
          "2024-06-24T00:00:00.000000000",
          "2024-07-01T00:00:00.000000000",
          "2024-07-08T00:00:00.000000000",
          "2024-07-15T00:00:00.000000000",
          "2024-07-22T00:00:00.000000000",
          "2024-07-29T00:00:00.000000000",
          "2024-08-05T00:00:00.000000000"
         ],
         "xaxis": "x2",
         "y": {
          "bdata": "zczMzMxSkUAAAAAAAPKeQM3MzMzMMpVAMzMzMzMflkAzMzMzM12WQJqZmZmZ75dAzczMzMwQl0CamZmZmSOdQJqZmZmZ0ZRAzczMzMyYjUBcj8L1KCiXQFK4HoXrsKRAZmZmZmZ1pEDC9Shcj3WjQOF6FK5HjKBApHA9CtcznkBcj8L1KEacQIXrUbge5ZFACtejcD2yl0Bcj8L1KBCIQClcj8L1wJBASOF6FK78oEDhehSuRxGUQA==",
          "dtype": "f8"
         },
         "yaxis": "y2"
        },
        {
         "line": {
          "color": "red",
          "dash": "dash"
         },
         "name": "ARIMA Weekly Forecast",
         "type": "scatter",
         "x": [
          "2024-08-12T00:00:00.000000000",
          "2024-08-19T00:00:00.000000000",
          "2024-08-26T00:00:00.000000000",
          "2024-09-02T00:00:00.000000000",
          "2024-09-09T00:00:00.000000000",
          "2024-09-16T00:00:00.000000000",
          "2024-09-23T00:00:00.000000000",
          "2024-09-30T00:00:00.000000000",
          "2024-10-07T00:00:00.000000000",
          "2024-10-14T00:00:00.000000000",
          "2024-10-21T00:00:00.000000000",
          "2024-10-28T00:00:00.000000000"
         ],
         "xaxis": "x2",
         "y": {
          "bdata": "gaFxQItckUDZLr8Cx/OVQKIZTOTPQJZAZxktOb7GlEBthNP3fNyUQEQWHzhjUJVAi484oYE7lUCZuxZrsxmVQCrwbplZJJVAq3ieQKgtlUB3E+BdMCmVQMIekBvQJpVA",
          "dtype": "f8"
         },
         "yaxis": "y2"
        },
        {
         "line": {
          "color": "green",
          "dash": "dot"
         },
         "name": "RF Weekly Forecast",
         "type": "scatter",
         "x": [
          "2024-08-12T00:00:00.000000000",
          "2024-08-19T00:00:00.000000000",
          "2024-08-26T00:00:00.000000000",
          "2024-09-02T00:00:00.000000000",
          "2024-09-09T00:00:00.000000000",
          "2024-09-16T00:00:00.000000000",
          "2024-09-23T00:00:00.000000000",
          "2024-09-30T00:00:00.000000000",
          "2024-10-07T00:00:00.000000000",
          "2024-10-14T00:00:00.000000000",
          "2024-10-21T00:00:00.000000000",
          "2024-10-28T00:00:00.000000000"
         ],
         "xaxis": "x2",
         "y": {
          "bdata": "JaCJsOFimEBdhjjWxXeUQD+bVZ8rzJdA15rmHSeClECOoPgxZnuWQBY/xtw1P5ZAr0fhepQAlUBK6gQ0keqXQA09m1Uf45JAdscpOpIfl0ARvjCZKk6WQMFbIEFxfpRA",
          "dtype": "f8"
         },
         "yaxis": "y2"
        },
        {
         "line": {
          "color": "blue"
         },
         "name": "Actual Monthly",
         "type": "scatter",
         "x": [
          "2024-03-31T00:00:00.000000000",
          "2024-04-30T00:00:00.000000000",
          "2024-05-31T00:00:00.000000000",
          "2024-06-30T00:00:00.000000000",
          "2024-07-31T00:00:00.000000000"
         ],
         "xaxis": "x3",
         "y": {
          "bdata": "MzMzMzOKu0DD9Shcj0C6QClcj8K1s8FA9ihcj8JOvkA+Ctej8AO7QA==",
          "dtype": "f8"
         },
         "yaxis": "y3"
        },
        {
         "line": {
          "color": "red",
          "dash": "dash"
         },
         "name": "ARIMA Monthly Forecast",
         "type": "scatter",
         "x": [
          "2024-08-31T00:00:00.000000000",
          "2024-09-30T00:00:00.000000000",
          "2024-10-31T00:00:00.000000000",
          "2024-11-30T00:00:00.000000000",
          "2024-12-31T00:00:00.000000000",
          "2025-01-31T00:00:00.000000000"
         ],
         "xaxis": "x3",
         "y": {
          "bdata": "YmFWtslfwUBmLIdhu9e/QMtmNtvRcLpAf1icNVDWwEDrUsN6kaPAQJh1byxCXbpA",
          "dtype": "f8"
         },
         "yaxis": "y3"
        },
        {
         "line": {
          "color": "green",
          "dash": "dot"
         },
         "name": "RF Monthly Forecast",
         "type": "scatter",
         "x": [
          "2024-08-31T00:00:00.000000000",
          "2024-09-30T00:00:00.000000000",
          "2024-10-31T00:00:00.000000000",
          "2024-11-30T00:00:00.000000000",
          "2024-12-31T00:00:00.000000000",
          "2025-01-31T00:00:00.000000000"
         ],
         "xaxis": "x3",
         "y": {
          "bdata": "lpmZmVmpvECOXP5DWm68QI5c/kNabrxAjlz+Q1puvECOXP5DWm68QLJQa5pXWr1A",
          "dtype": "f8"
         },
         "yaxis": "y3"
        }
       ],
       "layout": {
        "annotations": [
         {
          "font": {
           "size": 16
          },
          "showarrow": false,
          "text": "Daily Sales Forecasting",
          "x": 0.5,
          "xanchor": "center",
          "xref": "paper",
          "y": 1,
          "yanchor": "bottom",
          "yref": "paper"
         },
         {
          "font": {
           "size": 16
          },
          "showarrow": false,
          "text": "Weekly Sales Forecasting",
          "x": 0.5,
          "xanchor": "center",
          "xref": "paper",
          "y": 0.6333333333333333,
          "yanchor": "bottom",
          "yref": "paper"
         },
         {
          "font": {
           "size": 16
          },
          "showarrow": false,
          "text": "Monthly Sales Forecasting",
          "x": 0.5,
          "xanchor": "center",
          "xref": "paper",
          "y": 0.26666666666666666,
          "yanchor": "bottom",
          "yref": "paper"
         }
        ],
        "height": 1200,
        "plot_bgcolor": "white",
        "template": {
         "data": {
          "bar": [
           {
            "error_x": {
             "color": "#2a3f5f"
            },
            "error_y": {
             "color": "#2a3f5f"
            },
            "marker": {
             "line": {
              "color": "#E5ECF6",
              "width": 0.5
             },
             "pattern": {
              "fillmode": "overlay",
              "size": 10,
              "solidity": 0.2
             }
            },
            "type": "bar"
           }
          ],
          "barpolar": [
           {
            "marker": {
             "line": {
              "color": "#E5ECF6",
              "width": 0.5
             },
             "pattern": {
              "fillmode": "overlay",
              "size": 10,
              "solidity": 0.2
             }
            },
            "type": "barpolar"
           }
          ],
          "carpet": [
           {
            "aaxis": {
             "endlinecolor": "#2a3f5f",
             "gridcolor": "white",
             "linecolor": "white",
             "minorgridcolor": "white",
             "startlinecolor": "#2a3f5f"
            },
            "baxis": {
             "endlinecolor": "#2a3f5f",
             "gridcolor": "white",
             "linecolor": "white",
             "minorgridcolor": "white",
             "startlinecolor": "#2a3f5f"
            },
            "type": "carpet"
           }
          ],
          "choropleth": [
           {
            "colorbar": {
             "outlinewidth": 0,
             "ticks": ""
            },
            "type": "choropleth"
           }
          ],
          "contour": [
           {
            "colorbar": {
             "outlinewidth": 0,
             "ticks": ""
            },
            "colorscale": [
             [
              0,
              "#0d0887"
             ],
             [
              0.1111111111111111,
              "#46039f"
             ],
             [
              0.2222222222222222,
              "#7201a8"
             ],
             [
              0.3333333333333333,
              "#9c179e"
             ],
             [
              0.4444444444444444,
              "#bd3786"
             ],
             [
              0.5555555555555556,
              "#d8576b"
             ],
             [
              0.6666666666666666,
              "#ed7953"
             ],
             [
              0.7777777777777778,
              "#fb9f3a"
             ],
             [
              0.8888888888888888,
              "#fdca26"
             ],
             [
              1,
              "#f0f921"
             ]
            ],
            "type": "contour"
           }
          ],
          "contourcarpet": [
           {
            "colorbar": {
             "outlinewidth": 0,
             "ticks": ""
            },
            "type": "contourcarpet"
           }
          ],
          "heatmap": [
           {
            "colorbar": {
             "outlinewidth": 0,
             "ticks": ""
            },
            "colorscale": [
             [
              0,
              "#0d0887"
             ],
             [
              0.1111111111111111,
              "#46039f"
             ],
             [
              0.2222222222222222,
              "#7201a8"
             ],
             [
              0.3333333333333333,
              "#9c179e"
             ],
             [
              0.4444444444444444,
              "#bd3786"
             ],
             [
              0.5555555555555556,
              "#d8576b"
             ],
             [
              0.6666666666666666,
              "#ed7953"
             ],
             [
              0.7777777777777778,
              "#fb9f3a"
             ],
             [
              0.8888888888888888,
              "#fdca26"
             ],
             [
              1,
              "#f0f921"
             ]
            ],
            "type": "heatmap"
           }
          ],
          "histogram": [
           {
            "marker": {
             "pattern": {
              "fillmode": "overlay",
              "size": 10,
              "solidity": 0.2
             }
            },
            "type": "histogram"
           }
          ],
          "histogram2d": [
           {
            "colorbar": {
             "outlinewidth": 0,
             "ticks": ""
            },
            "colorscale": [
             [
              0,
              "#0d0887"
             ],
             [
              0.1111111111111111,
              "#46039f"
             ],
             [
              0.2222222222222222,
              "#7201a8"
             ],
             [
              0.3333333333333333,
              "#9c179e"
             ],
             [
              0.4444444444444444,
              "#bd3786"
             ],
             [
              0.5555555555555556,
              "#d8576b"
             ],
             [
              0.6666666666666666,
              "#ed7953"
             ],
             [
              0.7777777777777778,
              "#fb9f3a"
             ],
             [
              0.8888888888888888,
              "#fdca26"
             ],
             [
              1,
              "#f0f921"
             ]
            ],
            "type": "histogram2d"
           }
          ],
          "histogram2dcontour": [
           {
            "colorbar": {
             "outlinewidth": 0,
             "ticks": ""
            },
            "colorscale": [
             [
              0,
              "#0d0887"
             ],
             [
              0.1111111111111111,
              "#46039f"
             ],
             [
              0.2222222222222222,
              "#7201a8"
             ],
             [
              0.3333333333333333,
              "#9c179e"
             ],
             [
              0.4444444444444444,
              "#bd3786"
             ],
             [
              0.5555555555555556,
              "#d8576b"
             ],
             [
              0.6666666666666666,
              "#ed7953"
             ],
             [
              0.7777777777777778,
              "#fb9f3a"
             ],
             [
              0.8888888888888888,
              "#fdca26"
             ],
             [
              1,
              "#f0f921"
             ]
            ],
            "type": "histogram2dcontour"
           }
          ],
          "mesh3d": [
           {
            "colorbar": {
             "outlinewidth": 0,
             "ticks": ""
            },
            "type": "mesh3d"
           }
          ],
          "parcoords": [
           {
            "line": {
             "colorbar": {
              "outlinewidth": 0,
              "ticks": ""
             }
            },
            "type": "parcoords"
           }
          ],
          "pie": [
           {
            "automargin": true,
            "type": "pie"
           }
          ],
          "scatter": [
           {
            "fillpattern": {
             "fillmode": "overlay",
             "size": 10,
             "solidity": 0.2
            },
            "type": "scatter"
           }
          ],
          "scatter3d": [
           {
            "line": {
             "colorbar": {
              "outlinewidth": 0,
              "ticks": ""
             }
            },
            "marker": {
             "colorbar": {
              "outlinewidth": 0,
              "ticks": ""
             }
            },
            "type": "scatter3d"
           }
          ],
          "scattercarpet": [
           {
            "marker": {
             "colorbar": {
              "outlinewidth": 0,
              "ticks": ""
             }
            },
            "type": "scattercarpet"
           }
          ],
          "scattergeo": [
           {
            "marker": {
             "colorbar": {
              "outlinewidth": 0,
              "ticks": ""
             }
            },
            "type": "scattergeo"
           }
          ],
          "scattergl": [
           {
            "marker": {
             "colorbar": {
              "outlinewidth": 0,
              "ticks": ""
             }
            },
            "type": "scattergl"
           }
          ],
          "scattermap": [
           {
            "marker": {
             "colorbar": {
              "outlinewidth": 0,
              "ticks": ""
             }
            },
            "type": "scattermap"
           }
          ],
          "scattermapbox": [
           {
            "marker": {
             "colorbar": {
              "outlinewidth": 0,
              "ticks": ""
             }
            },
            "type": "scattermapbox"
           }
          ],
          "scatterpolar": [
           {
            "marker": {
             "colorbar": {
              "outlinewidth": 0,
              "ticks": ""
             }
            },
            "type": "scatterpolar"
           }
          ],
          "scatterpolargl": [
           {
            "marker": {
             "colorbar": {
              "outlinewidth": 0,
              "ticks": ""
             }
            },
            "type": "scatterpolargl"
           }
          ],
          "scatterternary": [
           {
            "marker": {
             "colorbar": {
              "outlinewidth": 0,
              "ticks": ""
             }
            },
            "type": "scatterternary"
           }
          ],
          "surface": [
           {
            "colorbar": {
             "outlinewidth": 0,
             "ticks": ""
            },
            "colorscale": [
             [
              0,
              "#0d0887"
             ],
             [
              0.1111111111111111,
              "#46039f"
             ],
             [
              0.2222222222222222,
              "#7201a8"
             ],
             [
              0.3333333333333333,
              "#9c179e"
             ],
             [
              0.4444444444444444,
              "#bd3786"
             ],
             [
              0.5555555555555556,
              "#d8576b"
             ],
             [
              0.6666666666666666,
              "#ed7953"
             ],
             [
              0.7777777777777778,
              "#fb9f3a"
             ],
             [
              0.8888888888888888,
              "#fdca26"
             ],
             [
              1,
              "#f0f921"
             ]
            ],
            "type": "surface"
           }
          ],
          "table": [
           {
            "cells": {
             "fill": {
              "color": "#EBF0F8"
             },
             "line": {
              "color": "white"
             }
            },
            "header": {
             "fill": {
              "color": "#C8D4E3"
             },
             "line": {
              "color": "white"
             }
            },
            "type": "table"
           }
          ]
         },
         "layout": {
          "annotationdefaults": {
           "arrowcolor": "#2a3f5f",
           "arrowhead": 0,
           "arrowwidth": 1
          },
          "autotypenumbers": "strict",
          "coloraxis": {
           "colorbar": {
            "outlinewidth": 0,
            "ticks": ""
           }
          },
          "colorscale": {
           "diverging": [
            [
             0,
             "#8e0152"
            ],
            [
             0.1,
             "#c51b7d"
            ],
            [
             0.2,
             "#de77ae"
            ],
            [
             0.3,
             "#f1b6da"
            ],
            [
             0.4,
             "#fde0ef"
            ],
            [
             0.5,
             "#f7f7f7"
            ],
            [
             0.6,
             "#e6f5d0"
            ],
            [
             0.7,
             "#b8e186"
            ],
            [
             0.8,
             "#7fbc41"
            ],
            [
             0.9,
             "#4d9221"
            ],
            [
             1,
             "#276419"
            ]
           ],
           "sequential": [
            [
             0,
             "#0d0887"
            ],
            [
             0.1111111111111111,
             "#46039f"
            ],
            [
             0.2222222222222222,
             "#7201a8"
            ],
            [
             0.3333333333333333,
             "#9c179e"
            ],
            [
             0.4444444444444444,
             "#bd3786"
            ],
            [
             0.5555555555555556,
             "#d8576b"
            ],
            [
             0.6666666666666666,
             "#ed7953"
            ],
            [
             0.7777777777777778,
             "#fb9f3a"
            ],
            [
             0.8888888888888888,
             "#fdca26"
            ],
            [
             1,
             "#f0f921"
            ]
           ],
           "sequentialminus": [
            [
             0,
             "#0d0887"
            ],
            [
             0.1111111111111111,
             "#46039f"
            ],
            [
             0.2222222222222222,
             "#7201a8"
            ],
            [
             0.3333333333333333,
             "#9c179e"
            ],
            [
             0.4444444444444444,
             "#bd3786"
            ],
            [
             0.5555555555555556,
             "#d8576b"
            ],
            [
             0.6666666666666666,
             "#ed7953"
            ],
            [
             0.7777777777777778,
             "#fb9f3a"
            ],
            [
             0.8888888888888888,
             "#fdca26"
            ],
            [
             1,
             "#f0f921"
            ]
           ]
          },
          "colorway": [
           "#636efa",
           "#EF553B",
           "#00cc96",
           "#ab63fa",
           "#FFA15A",
           "#19d3f3",
           "#FF6692",
           "#B6E880",
           "#FF97FF",
           "#FECB52"
          ],
          "font": {
           "color": "#2a3f5f"
          },
          "geo": {
           "bgcolor": "white",
           "lakecolor": "white",
           "landcolor": "#E5ECF6",
           "showlakes": true,
           "showland": true,
           "subunitcolor": "white"
          },
          "hoverlabel": {
           "align": "left"
          },
          "hovermode": "closest",
          "mapbox": {
           "style": "light"
          },
          "paper_bgcolor": "white",
          "plot_bgcolor": "#E5ECF6",
          "polar": {
           "angularaxis": {
            "gridcolor": "white",
            "linecolor": "white",
            "ticks": ""
           },
           "bgcolor": "#E5ECF6",
           "radialaxis": {
            "gridcolor": "white",
            "linecolor": "white",
            "ticks": ""
           }
          },
          "scene": {
           "xaxis": {
            "backgroundcolor": "#E5ECF6",
            "gridcolor": "white",
            "gridwidth": 2,
            "linecolor": "white",
            "showbackground": true,
            "ticks": "",
            "zerolinecolor": "white"
           },
           "yaxis": {
            "backgroundcolor": "#E5ECF6",
            "gridcolor": "white",
            "gridwidth": 2,
            "linecolor": "white",
            "showbackground": true,
            "ticks": "",
            "zerolinecolor": "white"
           },
           "zaxis": {
            "backgroundcolor": "#E5ECF6",
            "gridcolor": "white",
            "gridwidth": 2,
            "linecolor": "white",
            "showbackground": true,
            "ticks": "",
            "zerolinecolor": "white"
           }
          },
          "shapedefaults": {
           "line": {
            "color": "#2a3f5f"
           }
          },
          "ternary": {
           "aaxis": {
            "gridcolor": "white",
            "linecolor": "white",
            "ticks": ""
           },
           "baxis": {
            "gridcolor": "white",
            "linecolor": "white",
            "ticks": ""
           },
           "bgcolor": "#E5ECF6",
           "caxis": {
            "gridcolor": "white",
            "linecolor": "white",
            "ticks": ""
           }
          },
          "title": {
           "x": 0.05
          },
          "xaxis": {
           "automargin": true,
           "gridcolor": "white",
           "linecolor": "white",
           "ticks": "",
           "title": {
            "standoff": 15
           },
           "zerolinecolor": "white",
           "zerolinewidth": 2
          },
          "yaxis": {
           "automargin": true,
           "gridcolor": "white",
           "linecolor": "white",
           "ticks": "",
           "title": {
            "standoff": 15
           },
           "zerolinecolor": "white",
           "zerolinewidth": 2
          }
         }
        },
        "title": {
         "text": "Comprehensive Sales Forecasting: Daily, Weekly, Monthly"
        },
        "xaxis": {
         "anchor": "y",
         "domain": [
          0,
          1
         ]
        },
        "xaxis2": {
         "anchor": "y2",
         "domain": [
          0,
          1
         ]
        },
        "xaxis3": {
         "anchor": "y3",
         "domain": [
          0,
          1
         ]
        },
        "yaxis": {
         "anchor": "x",
         "domain": [
          0.7333333333333334,
          1
         ]
        },
        "yaxis2": {
         "anchor": "x2",
         "domain": [
          0.3666666666666667,
          0.6333333333333333
         ]
        },
        "yaxis3": {
         "anchor": "x3",
         "domain": [
          0,
          0.26666666666666666
         ]
        }
       }
      }
     },
     "metadata": {},
     "output_type": "display_data"
    }
   ],
   "source": [
    "import pandas as pd\n",
    "import numpy as np\n",
    "import plotly.graph_objects as go\n",
    "from plotly.subplots import make_subplots\n",
    "from statsmodels.tsa.arima.model import ARIMA\n",
    "from sklearn.ensemble import RandomForestRegressor\n",
    "\n",
    "# Load data\n",
    "df = pd.read_csv(\"index.csv\")\n",
    "df['date'] = pd.to_datetime(df['date'])\n",
    "\n",
    "# Create subplots\n",
    "fig = make_subplots(\n",
    "    rows=3, cols=1,\n",
    "    subplot_titles=(\n",
    "        'Daily Sales Forecasting',\n",
    "        'Weekly Sales Forecasting',\n",
    "        'Monthly Sales Forecasting'\n",
    "    ),\n",
    "    vertical_spacing=0.1\n",
    ")\n",
    "\n",
    "# -------------------- DAILY FORECASTING --------------------\n",
    "daily_sales = df.groupby('date')['money'].sum().reset_index()\n",
    "daily_sales.columns = ['date', 'total_revenue']\n",
    "daily_sales.set_index('date', inplace=True)\n",
    "daily_sales = daily_sales.asfreq('D').fillna(method='ffill')\n",
    "\n",
    "# ARIMA\n",
    "arima_daily = ARIMA(daily_sales['total_revenue'], order=(5,1,0)).fit()\n",
    "arima_forecast_daily = arima_daily.get_forecast(steps=30).summary_frame()\n",
    "arima_forecast_daily['date'] = pd.date_range(daily_sales.index[-1] + pd.Timedelta(days=1), periods=30)\n",
    "arima_forecast_daily.set_index('date', inplace=True)\n",
    "\n",
    "# Random Forest\n",
    "rf_daily = daily_sales.copy()\n",
    "rf_daily['day_of_year'] = rf_daily.index.dayofyear\n",
    "rf_daily['week_of_year'] = rf_daily.index.isocalendar().week\n",
    "rf_daily['month'] = rf_daily.index.month\n",
    "rf_daily['day_of_week'] = rf_daily.index.dayofweek\n",
    "for lag in range(1, 8):\n",
    "    rf_daily[f'lag_{lag}'] = rf_daily['total_revenue'].shift(lag)\n",
    "rf_daily.dropna(inplace=True)\n",
    "feature_cols_daily = ['day_of_year','week_of_year','month','day_of_week'] + [f'lag_{lag}' for lag in range(1,8)]\n",
    "rf_model_daily = RandomForestRegressor(n_estimators=100, random_state=42).fit(rf_daily[feature_cols_daily], rf_daily['total_revenue'])\n",
    "\n",
    "# Forecast next 30 days recursively\n",
    "future_dates_daily = pd.date_range(daily_sales.index[-1]+pd.Timedelta(days=1), periods=30)\n",
    "future_preds_daily = []\n",
    "last_values_daily = daily_sales['total_revenue'][-7:].tolist()\n",
    "for d in future_dates_daily:\n",
    "    features = [d.dayofyear, d.isocalendar().week, d.month, d.dayofweek] + last_values_daily[-7:]\n",
    "    pred = rf_model_daily.predict([features])[0]\n",
    "    future_preds_daily.append(pred)\n",
    "    last_values_daily.append(pred)\n",
    "\n",
    "rf_forecast_daily = pd.DataFrame({'total_revenue': future_preds_daily}, index=future_dates_daily)\n",
    "\n",
    "# Add daily traces\n",
    "fig.add_trace(go.Scatter(x=daily_sales.index, y=daily_sales['total_revenue'], name='Actual Daily', line=dict(color='blue')), row=1, col=1)\n",
    "fig.add_trace(go.Scatter(x=arima_forecast_daily.index, y=arima_forecast_daily['mean'], name='ARIMA Daily Forecast', line=dict(color='red', dash='dash')), row=1, col=1)\n",
    "fig.add_trace(go.Scatter(x=rf_forecast_daily.index, y=rf_forecast_daily['total_revenue'], name='RF Daily Forecast', line=dict(color='green', dash='dot')), row=1, col=1)\n",
    "\n",
    "# -------------------- WEEKLY FORECASTING --------------------\n",
    "weekly_sales = df.groupby(pd.Grouper(key='date', freq='W-MON'))['money'].sum().reset_index()\n",
    "weekly_sales.columns = ['week', 'total_revenue']\n",
    "weekly_sales.set_index('week', inplace=True)\n",
    "weekly_sales = weekly_sales.asfreq('W-MON').fillna(method='ffill')\n",
    "\n",
    "arima_weekly = ARIMA(weekly_sales['total_revenue'], order=(3,1,0)).fit()\n",
    "arima_forecast_weekly = arima_weekly.get_forecast(steps=12).summary_frame()\n",
    "arima_forecast_weekly['week'] = pd.date_range(weekly_sales.index[-1]+pd.Timedelta(weeks=1), periods=12, freq='W-MON')\n",
    "arima_forecast_weekly.set_index('week', inplace=True)\n",
    "\n",
    "rf_weekly = weekly_sales.copy()\n",
    "rf_weekly['week_of_year'] = rf_weekly.index.isocalendar().week\n",
    "rf_weekly['month'] = rf_weekly.index.month\n",
    "rf_weekly['quarter'] = rf_weekly.index.quarter\n",
    "for lag in range(1,5):\n",
    "    rf_weekly[f'lag_{lag}'] = rf_weekly['total_revenue'].shift(lag)\n",
    "rf_weekly.dropna(inplace=True)\n",
    "feature_cols_weekly = ['week_of_year','month','quarter'] + [f'lag_{lag}' for lag in range(1,5)]\n",
    "rf_model_weekly = RandomForestRegressor(n_estimators=100, random_state=42).fit(rf_weekly[feature_cols_weekly], rf_weekly['total_revenue'])\n",
    "\n",
    "# Recursive 12-week forecast\n",
    "future_weeks = pd.date_range(weekly_sales.index[-1]+pd.Timedelta(weeks=1), periods=12, freq='W-MON')\n",
    "future_preds_weekly = []\n",
    "last_values_weekly = weekly_sales['total_revenue'][-4:].tolist()\n",
    "for w in future_weeks:\n",
    "    features = [w.isocalendar().week, w.month, w.quarter] + last_values_weekly[-4:]\n",
    "    pred = rf_model_weekly.predict([features])[0]\n",
    "    future_preds_weekly.append(pred)\n",
    "    last_values_weekly.append(pred)\n",
    "\n",
    "rf_forecast_weekly = pd.DataFrame({'total_revenue': future_preds_weekly}, index=future_weeks)\n",
    "\n",
    "# Add weekly traces\n",
    "fig.add_trace(go.Scatter(x=weekly_sales.index, y=weekly_sales['total_revenue'], name='Actual Weekly', line=dict(color='blue')), row=2, col=1)\n",
    "fig.add_trace(go.Scatter(x=arima_forecast_weekly.index, y=arima_forecast_weekly['mean'], name='ARIMA Weekly Forecast', line=dict(color='red', dash='dash')), row=2, col=1)\n",
    "fig.add_trace(go.Scatter(x=rf_forecast_weekly.index, y=rf_forecast_weekly['total_revenue'], name='RF Weekly Forecast', line=dict(color='green', dash='dot')), row=2, col=1)\n",
    "\n",
    "# -------------------- MONTHLY FORECASTING --------------------\n",
    "monthly_sales = df.groupby(pd.Grouper(key='date', freq='M'))['money'].sum().reset_index()\n",
    "monthly_sales.columns = ['month','total_revenue']\n",
    "monthly_sales.set_index('month', inplace=True)\n",
    "monthly_sales = monthly_sales.asfreq('M').fillna(method='ffill')\n",
    "\n",
    "arima_monthly = ARIMA(monthly_sales['total_revenue'], order=(2,1,0)).fit()\n",
    "arima_forecast_monthly = arima_monthly.get_forecast(steps=6).summary_frame()\n",
    "arima_forecast_monthly['month'] = pd.date_range(monthly_sales.index[-1]+pd.offsets.MonthEnd(1), periods=6, freq='M')\n",
    "arima_forecast_monthly.set_index('month', inplace=True)\n",
    "\n",
    "rf_monthly = monthly_sales.copy()\n",
    "rf_monthly['month_of_year'] = rf_monthly.index.month\n",
    "rf_monthly['quarter'] = rf_monthly.index.quarter\n",
    "for lag in range(1,4):\n",
    "    rf_monthly[f'lag_{lag}'] = rf_monthly['total_revenue'].shift(lag)\n",
    "rf_monthly.dropna(inplace=True)\n",
    "feature_cols_monthly = ['month_of_year','quarter'] + [f'lag_{lag}' for lag in range(1,4)]\n",
    "rf_model_monthly = RandomForestRegressor(n_estimators=100, random_state=42).fit(rf_monthly[feature_cols_monthly], rf_monthly['total_revenue'])\n",
    "\n",
    "# Recursive 6-month forecast\n",
    "future_months = pd.date_range(monthly_sales.index[-1]+pd.offsets.MonthEnd(1), periods=6, freq='M')\n",
    "future_preds_monthly = []\n",
    "last_values_monthly = monthly_sales['total_revenue'][-3:].tolist()\n",
    "for m in future_months:\n",
    "    features = [m.month, m.quarter] + last_values_monthly[-3:]\n",
    "    pred = rf_model_monthly.predict([features])[0]\n",
    "    future_preds_monthly.append(pred)\n",
    "    last_values_monthly.append(pred)\n",
    "\n",
    "rf_forecast_monthly = pd.DataFrame({'total_revenue': future_preds_monthly}, index=future_months)\n",
    "\n",
    "# Add monthly traces\n",
    "fig.add_trace(go.Scatter(x=monthly_sales.index, y=monthly_sales['total_revenue'], name='Actual Monthly', line=dict(color='blue')), row=3, col=1)\n",
    "fig.add_trace(go.Scatter(x=arima_forecast_monthly.index, y=arima_forecast_monthly['mean'], name='ARIMA Monthly Forecast', line=dict(color='red', dash='dash')), row=3, col=1)\n",
    "fig.add_trace(go.Scatter(x=rf_forecast_monthly.index, y=rf_forecast_monthly['total_revenue'], name='RF Monthly Forecast', line=dict(color='green', dash='dot')), row=3, col=1)\n",
    "\n",
    "# Layout\n",
    "fig.update_layout(\n",
    "    title='Comprehensive Sales Forecasting: Daily, Weekly, Monthly',\n",
    "    height=1200,\n",
    "    plot_bgcolor='white'\n",
    ")\n",
    "fig.show()"
   ]
  },
  {
   "cell_type": "code",
   "execution_count": 7,
   "id": "312b5ec2",
   "metadata": {},
   "outputs": [
    {
     "name": "stderr",
     "output_type": "stream",
     "text": [
      "C:\\Users\\shrey\\AppData\\Local\\Temp\\ipykernel_9856\\1189734608.py:77: FutureWarning:\n",
      "\n",
      "DataFrame.fillna with 'method' is deprecated and will raise in a future version. Use obj.ffill() or obj.bfill() instead.\n",
      "\n",
      "g:\\MCA Practice\\MLporoject\\.venv\\Lib\\site-packages\\sklearn\\utils\\validation.py:2749: UserWarning:\n",
      "\n",
      "X does not have valid feature names, but RandomForestRegressor was fitted with feature names\n",
      "\n",
      "g:\\MCA Practice\\MLporoject\\.venv\\Lib\\site-packages\\sklearn\\utils\\validation.py:2749: UserWarning:\n",
      "\n",
      "X does not have valid feature names, but RandomForestRegressor was fitted with feature names\n",
      "\n",
      "g:\\MCA Practice\\MLporoject\\.venv\\Lib\\site-packages\\sklearn\\utils\\validation.py:2749: UserWarning:\n",
      "\n",
      "X does not have valid feature names, but RandomForestRegressor was fitted with feature names\n",
      "\n",
      "g:\\MCA Practice\\MLporoject\\.venv\\Lib\\site-packages\\sklearn\\utils\\validation.py:2749: UserWarning:\n",
      "\n",
      "X does not have valid feature names, but RandomForestRegressor was fitted with feature names\n",
      "\n",
      "g:\\MCA Practice\\MLporoject\\.venv\\Lib\\site-packages\\sklearn\\utils\\validation.py:2749: UserWarning:\n",
      "\n",
      "X does not have valid feature names, but RandomForestRegressor was fitted with feature names\n",
      "\n",
      "g:\\MCA Practice\\MLporoject\\.venv\\Lib\\site-packages\\sklearn\\utils\\validation.py:2749: UserWarning:\n",
      "\n",
      "X does not have valid feature names, but RandomForestRegressor was fitted with feature names\n",
      "\n",
      "g:\\MCA Practice\\MLporoject\\.venv\\Lib\\site-packages\\sklearn\\utils\\validation.py:2749: UserWarning:\n",
      "\n",
      "X does not have valid feature names, but RandomForestRegressor was fitted with feature names\n",
      "\n",
      "g:\\MCA Practice\\MLporoject\\.venv\\Lib\\site-packages\\sklearn\\utils\\validation.py:2749: UserWarning:\n",
      "\n",
      "X does not have valid feature names, but RandomForestRegressor was fitted with feature names\n",
      "\n",
      "g:\\MCA Practice\\MLporoject\\.venv\\Lib\\site-packages\\sklearn\\utils\\validation.py:2749: UserWarning:\n",
      "\n",
      "X does not have valid feature names, but RandomForestRegressor was fitted with feature names\n",
      "\n",
      "g:\\MCA Practice\\MLporoject\\.venv\\Lib\\site-packages\\sklearn\\utils\\validation.py:2749: UserWarning:\n",
      "\n",
      "X does not have valid feature names, but RandomForestRegressor was fitted with feature names\n",
      "\n",
      "g:\\MCA Practice\\MLporoject\\.venv\\Lib\\site-packages\\sklearn\\utils\\validation.py:2749: UserWarning:\n",
      "\n",
      "X does not have valid feature names, but RandomForestRegressor was fitted with feature names\n",
      "\n",
      "g:\\MCA Practice\\MLporoject\\.venv\\Lib\\site-packages\\sklearn\\utils\\validation.py:2749: UserWarning:\n",
      "\n",
      "X does not have valid feature names, but RandomForestRegressor was fitted with feature names\n",
      "\n",
      "g:\\MCA Practice\\MLporoject\\.venv\\Lib\\site-packages\\sklearn\\utils\\validation.py:2749: UserWarning:\n",
      "\n",
      "X does not have valid feature names, but RandomForestRegressor was fitted with feature names\n",
      "\n",
      "g:\\MCA Practice\\MLporoject\\.venv\\Lib\\site-packages\\sklearn\\utils\\validation.py:2749: UserWarning:\n",
      "\n",
      "X does not have valid feature names, but RandomForestRegressor was fitted with feature names\n",
      "\n",
      "g:\\MCA Practice\\MLporoject\\.venv\\Lib\\site-packages\\sklearn\\utils\\validation.py:2749: UserWarning:\n",
      "\n",
      "X does not have valid feature names, but RandomForestRegressor was fitted with feature names\n",
      "\n",
      "g:\\MCA Practice\\MLporoject\\.venv\\Lib\\site-packages\\sklearn\\utils\\validation.py:2749: UserWarning:\n",
      "\n",
      "X does not have valid feature names, but RandomForestRegressor was fitted with feature names\n",
      "\n",
      "g:\\MCA Practice\\MLporoject\\.venv\\Lib\\site-packages\\sklearn\\utils\\validation.py:2749: UserWarning:\n",
      "\n",
      "X does not have valid feature names, but RandomForestRegressor was fitted with feature names\n",
      "\n",
      "g:\\MCA Practice\\MLporoject\\.venv\\Lib\\site-packages\\sklearn\\utils\\validation.py:2749: UserWarning:\n",
      "\n",
      "X does not have valid feature names, but RandomForestRegressor was fitted with feature names\n",
      "\n",
      "g:\\MCA Practice\\MLporoject\\.venv\\Lib\\site-packages\\sklearn\\utils\\validation.py:2749: UserWarning:\n",
      "\n",
      "X does not have valid feature names, but RandomForestRegressor was fitted with feature names\n",
      "\n",
      "g:\\MCA Practice\\MLporoject\\.venv\\Lib\\site-packages\\sklearn\\utils\\validation.py:2749: UserWarning:\n",
      "\n",
      "X does not have valid feature names, but RandomForestRegressor was fitted with feature names\n",
      "\n",
      "g:\\MCA Practice\\MLporoject\\.venv\\Lib\\site-packages\\sklearn\\utils\\validation.py:2749: UserWarning:\n",
      "\n",
      "X does not have valid feature names, but RandomForestRegressor was fitted with feature names\n",
      "\n",
      "g:\\MCA Practice\\MLporoject\\.venv\\Lib\\site-packages\\sklearn\\utils\\validation.py:2749: UserWarning:\n",
      "\n",
      "X does not have valid feature names, but RandomForestRegressor was fitted with feature names\n",
      "\n",
      "g:\\MCA Practice\\MLporoject\\.venv\\Lib\\site-packages\\sklearn\\utils\\validation.py:2749: UserWarning:\n",
      "\n",
      "X does not have valid feature names, but RandomForestRegressor was fitted with feature names\n",
      "\n",
      "g:\\MCA Practice\\MLporoject\\.venv\\Lib\\site-packages\\sklearn\\utils\\validation.py:2749: UserWarning:\n",
      "\n",
      "X does not have valid feature names, but RandomForestRegressor was fitted with feature names\n",
      "\n",
      "g:\\MCA Practice\\MLporoject\\.venv\\Lib\\site-packages\\sklearn\\utils\\validation.py:2749: UserWarning:\n",
      "\n",
      "X does not have valid feature names, but RandomForestRegressor was fitted with feature names\n",
      "\n",
      "g:\\MCA Practice\\MLporoject\\.venv\\Lib\\site-packages\\sklearn\\utils\\validation.py:2749: UserWarning:\n",
      "\n",
      "X does not have valid feature names, but RandomForestRegressor was fitted with feature names\n",
      "\n",
      "g:\\MCA Practice\\MLporoject\\.venv\\Lib\\site-packages\\sklearn\\utils\\validation.py:2749: UserWarning:\n",
      "\n",
      "X does not have valid feature names, but RandomForestRegressor was fitted with feature names\n",
      "\n",
      "g:\\MCA Practice\\MLporoject\\.venv\\Lib\\site-packages\\sklearn\\utils\\validation.py:2749: UserWarning:\n",
      "\n",
      "X does not have valid feature names, but RandomForestRegressor was fitted with feature names\n",
      "\n",
      "g:\\MCA Practice\\MLporoject\\.venv\\Lib\\site-packages\\sklearn\\utils\\validation.py:2749: UserWarning:\n",
      "\n",
      "X does not have valid feature names, but RandomForestRegressor was fitted with feature names\n",
      "\n",
      "g:\\MCA Practice\\MLporoject\\.venv\\Lib\\site-packages\\sklearn\\utils\\validation.py:2749: UserWarning:\n",
      "\n",
      "X does not have valid feature names, but RandomForestRegressor was fitted with feature names\n",
      "\n",
      "C:\\Users\\shrey\\AppData\\Local\\Temp\\ipykernel_9856\\1189734608.py:118: FutureWarning:\n",
      "\n",
      "DataFrame.fillna with 'method' is deprecated and will raise in a future version. Use obj.ffill() or obj.bfill() instead.\n",
      "\n",
      "g:\\MCA Practice\\MLporoject\\.venv\\Lib\\site-packages\\sklearn\\utils\\validation.py:2749: UserWarning:\n",
      "\n",
      "X does not have valid feature names, but RandomForestRegressor was fitted with feature names\n",
      "\n",
      "g:\\MCA Practice\\MLporoject\\.venv\\Lib\\site-packages\\sklearn\\utils\\validation.py:2749: UserWarning:\n",
      "\n",
      "X does not have valid feature names, but RandomForestRegressor was fitted with feature names\n",
      "\n",
      "g:\\MCA Practice\\MLporoject\\.venv\\Lib\\site-packages\\sklearn\\utils\\validation.py:2749: UserWarning:\n",
      "\n",
      "X does not have valid feature names, but RandomForestRegressor was fitted with feature names\n",
      "\n",
      "g:\\MCA Practice\\MLporoject\\.venv\\Lib\\site-packages\\sklearn\\utils\\validation.py:2749: UserWarning:\n",
      "\n",
      "X does not have valid feature names, but RandomForestRegressor was fitted with feature names\n",
      "\n",
      "g:\\MCA Practice\\MLporoject\\.venv\\Lib\\site-packages\\sklearn\\utils\\validation.py:2749: UserWarning:\n",
      "\n",
      "X does not have valid feature names, but RandomForestRegressor was fitted with feature names\n",
      "\n",
      "g:\\MCA Practice\\MLporoject\\.venv\\Lib\\site-packages\\sklearn\\utils\\validation.py:2749: UserWarning:\n",
      "\n",
      "X does not have valid feature names, but RandomForestRegressor was fitted with feature names\n",
      "\n",
      "g:\\MCA Practice\\MLporoject\\.venv\\Lib\\site-packages\\sklearn\\utils\\validation.py:2749: UserWarning:\n",
      "\n",
      "X does not have valid feature names, but RandomForestRegressor was fitted with feature names\n",
      "\n",
      "g:\\MCA Practice\\MLporoject\\.venv\\Lib\\site-packages\\sklearn\\utils\\validation.py:2749: UserWarning:\n",
      "\n",
      "X does not have valid feature names, but RandomForestRegressor was fitted with feature names\n",
      "\n",
      "g:\\MCA Practice\\MLporoject\\.venv\\Lib\\site-packages\\sklearn\\utils\\validation.py:2749: UserWarning:\n",
      "\n",
      "X does not have valid feature names, but RandomForestRegressor was fitted with feature names\n",
      "\n",
      "g:\\MCA Practice\\MLporoject\\.venv\\Lib\\site-packages\\sklearn\\utils\\validation.py:2749: UserWarning:\n",
      "\n",
      "X does not have valid feature names, but RandomForestRegressor was fitted with feature names\n",
      "\n",
      "g:\\MCA Practice\\MLporoject\\.venv\\Lib\\site-packages\\sklearn\\utils\\validation.py:2749: UserWarning:\n",
      "\n",
      "X does not have valid feature names, but RandomForestRegressor was fitted with feature names\n",
      "\n",
      "g:\\MCA Practice\\MLporoject\\.venv\\Lib\\site-packages\\sklearn\\utils\\validation.py:2749: UserWarning:\n",
      "\n",
      "X does not have valid feature names, but RandomForestRegressor was fitted with feature names\n",
      "\n",
      "C:\\Users\\shrey\\AppData\\Local\\Temp\\ipykernel_9856\\1189734608.py:153: FutureWarning:\n",
      "\n",
      "'M' is deprecated and will be removed in a future version, please use 'ME' instead.\n",
      "\n",
      "C:\\Users\\shrey\\AppData\\Local\\Temp\\ipykernel_9856\\1189734608.py:156: FutureWarning:\n",
      "\n",
      "'M' is deprecated and will be removed in a future version, please use 'ME' instead.\n",
      "\n",
      "C:\\Users\\shrey\\AppData\\Local\\Temp\\ipykernel_9856\\1189734608.py:156: FutureWarning:\n",
      "\n",
      "DataFrame.fillna with 'method' is deprecated and will raise in a future version. Use obj.ffill() or obj.bfill() instead.\n",
      "\n",
      "g:\\MCA Practice\\MLporoject\\.venv\\Lib\\site-packages\\statsmodels\\base\\model.py:607: ConvergenceWarning:\n",
      "\n",
      "Maximum Likelihood optimization failed to converge. Check mle_retvals\n",
      "\n",
      "C:\\Users\\shrey\\AppData\\Local\\Temp\\ipykernel_9856\\1189734608.py:160: FutureWarning:\n",
      "\n",
      "'M' is deprecated and will be removed in a future version, please use 'ME' instead.\n",
      "\n",
      "C:\\Users\\shrey\\AppData\\Local\\Temp\\ipykernel_9856\\1189734608.py:172: FutureWarning:\n",
      "\n",
      "'M' is deprecated and will be removed in a future version, please use 'ME' instead.\n",
      "\n",
      "g:\\MCA Practice\\MLporoject\\.venv\\Lib\\site-packages\\sklearn\\utils\\validation.py:2749: UserWarning:\n",
      "\n",
      "X does not have valid feature names, but RandomForestRegressor was fitted with feature names\n",
      "\n",
      "g:\\MCA Practice\\MLporoject\\.venv\\Lib\\site-packages\\sklearn\\utils\\validation.py:2749: UserWarning:\n",
      "\n",
      "X does not have valid feature names, but RandomForestRegressor was fitted with feature names\n",
      "\n",
      "g:\\MCA Practice\\MLporoject\\.venv\\Lib\\site-packages\\sklearn\\utils\\validation.py:2749: UserWarning:\n",
      "\n",
      "X does not have valid feature names, but RandomForestRegressor was fitted with feature names\n",
      "\n",
      "g:\\MCA Practice\\MLporoject\\.venv\\Lib\\site-packages\\sklearn\\utils\\validation.py:2749: UserWarning:\n",
      "\n",
      "X does not have valid feature names, but RandomForestRegressor was fitted with feature names\n",
      "\n",
      "g:\\MCA Practice\\MLporoject\\.venv\\Lib\\site-packages\\sklearn\\utils\\validation.py:2749: UserWarning:\n",
      "\n",
      "X does not have valid feature names, but RandomForestRegressor was fitted with feature names\n",
      "\n",
      "g:\\MCA Practice\\MLporoject\\.venv\\Lib\\site-packages\\sklearn\\utils\\validation.py:2749: UserWarning:\n",
      "\n",
      "X does not have valid feature names, but RandomForestRegressor was fitted with feature names\n",
      "\n"
     ]
    },
    {
     "data": {
      "text/html": [
       "\n",
       "        <iframe\n",
       "            width=\"100%\"\n",
       "            height=\"650\"\n",
       "            src=\"http://127.0.0.1:8050/\"\n",
       "            frameborder=\"0\"\n",
       "            allowfullscreen\n",
       "            \n",
       "        ></iframe>\n",
       "        "
      ],
      "text/plain": [
       "<IPython.lib.display.IFrame at 0x1fe647327b0>"
      ]
     },
     "metadata": {},
     "output_type": "display_data"
    }
   ],
   "source": [
    "import dash\n",
    "from dash import dcc, html\n",
    "import plotly.express as px\n",
    "import plotly.graph_objects as go\n",
    "import pandas as pd\n",
    "import numpy as np\n",
    "from statsmodels.tsa.arima.model import ARIMA\n",
    "from sklearn.ensemble import RandomForestRegressor\n",
    "from sklearn.metrics import mean_absolute_error, mean_squared_error\n",
    "\n",
    "# ----------------- Data Preparation -----------------\n",
    "# Ensure proper datetime\n",
    "df['datetime'] = pd.to_datetime(df['datetime'], errors='coerce')\n",
    "df = df.dropna(subset=['datetime'])\n",
    "\n",
    "# Floor timestamps to midnight to get 'date_only'\n",
    "df['date_only'] = df['datetime'].dt.floor('D')\n",
    "df['hour'] = df['datetime'].dt.hour\n",
    "df['day_of_week'] = df['datetime'].dt.day_name()\n",
    "\n",
    "# Group by date_only to sum sales\n",
    "daily_sales = df.groupby('date_only')['money'].sum().reset_index()\n",
    "daily_sales.columns = ['date', 'total_revenue']\n",
    "daily_sales.set_index('date', inplace=True)\n",
    "\n",
    "# Fill missing dates, but do not flatten variation\n",
    "daily_sales = daily_sales.asfreq('D')\n",
    "\n",
    "# ----------------- KPI Calculations -----------------\n",
    "total_revenue = df['money'].sum()\n",
    "total_transactions = len(df)\n",
    "avg_transaction = df['money'].mean()\n",
    "top_coffee = df.groupby(\"coffee_name\")[\"money\"].sum().idxmax()\n",
    "top_customer = df.groupby(\"card\")[\"money\"].sum().idxmax()\n",
    "\n",
    "# ----------------- Coffee Sales & Revenue -----------------\n",
    "coffee_sales = df.groupby(\"coffee_name\")[\"money\"].sum().reset_index().sort_values(\"money\", ascending=False)\n",
    "fig_coffee_sales = px.bar(coffee_sales, x=\"coffee_name\", y=\"money\", title=\"Revenue by Coffee Type\", color=\"money\", color_continuous_scale=\"Tealgrn\")\n",
    "fig_revenue_contrib = px.treemap(coffee_sales, path=['coffee_name'], values='money', title='Revenue Contribution by Coffee Type')\n",
    "\n",
    "# ----------------- Payment Behavior -----------------\n",
    "payment_summary = df.groupby(\"cash_type\")[\"money\"].agg(['count','sum']).reset_index()\n",
    "fig_payment_method = px.pie(payment_summary, names='cash_type', values='sum', title=\"Revenue by Payment Method\")\n",
    "\n",
    "coffee_payment = df.groupby(['coffee_name','cash_type']).size().reset_index(name='count')\n",
    "coffee_payment['percent'] = coffee_payment.groupby('coffee_name')['count'].transform(lambda x: x / x.sum() * 100)\n",
    "fig_coffee_payment_pct = px.bar(coffee_payment, x='coffee_name', y='percent', color='cash_type', barmode='stack', title='Payment Type Distribution per Coffee')\n",
    "\n",
    "# ----------------- Hourly & Heatmap -----------------\n",
    "hourly_sales = df.groupby('hour')['money'].sum().reset_index()\n",
    "fig_hourly_sales = px.line(hourly_sales, x='hour', y='money', title='Sales by Hour', markers=True)\n",
    "\n",
    "heatmap_data = df.groupby(['day_of_week','hour'])['money'].sum().reset_index()\n",
    "heatmap_pivot = heatmap_data.pivot(index='day_of_week', columns='hour', values='money')\n",
    "days_order = ['Monday','Tuesday','Wednesday','Thursday','Friday','Saturday','Sunday']\n",
    "heatmap_pivot = heatmap_pivot.reindex(days_order)\n",
    "fig_hourly_heatmap = px.imshow(heatmap_pivot, text_auto=True, aspect=\"auto\", title='Sales Heatmap: Day vs Hour', color_continuous_scale='Teal')\n",
    "\n",
    "# ----------------- Coffee Popularity Over Time (Weekly) -----------------\n",
    "coffee_trend_weekly = df.groupby([pd.Grouper(key='datetime', freq='W'), 'coffee_name'])['money'].sum().reset_index()\n",
    "fig_coffee_trend = px.line(coffee_trend_weekly, x='datetime', y='money', color='coffee_name', title='Coffee Popularity Over Time (Weekly)', line_shape='spline')\n",
    "\n",
    "# ----------------- Forecasting: Daily, Weekly, Monthly -----------------\n",
    "from plotly.subplots import make_subplots\n",
    "from statsmodels.tsa.arima.model import ARIMA\n",
    "from sklearn.ensemble import RandomForestRegressor\n",
    "import plotly.graph_objects as go\n",
    "import pandas as pd\n",
    "\n",
    "# Ensure datetime\n",
    "df['date'] = pd.to_datetime(df['date_only'])\n",
    "\n",
    "# -------------------- DAILY FORECAST FIGURE --------------------\n",
    "daily_sales = df.groupby('date')['money'].sum().reset_index()\n",
    "daily_sales.columns = ['date', 'total_revenue']\n",
    "daily_sales.set_index('date', inplace=True)\n",
    "daily_sales = daily_sales.asfreq('D').fillna(method='ffill')\n",
    "\n",
    "# ARIMA forecast\n",
    "arima_daily = ARIMA(daily_sales['total_revenue'], order=(5,1,0)).fit()\n",
    "arima_forecast_daily = arima_daily.get_forecast(steps=30).summary_frame()\n",
    "arima_forecast_daily['date'] = pd.date_range(daily_sales.index[-1] + pd.Timedelta(days=1), periods=30)\n",
    "arima_forecast_daily.set_index('date', inplace=True)\n",
    "\n",
    "# RF forecast\n",
    "rf_daily = daily_sales.copy()\n",
    "rf_daily['day_of_year'] = rf_daily.index.dayofyear\n",
    "rf_daily['week_of_year'] = rf_daily.index.isocalendar().week\n",
    "rf_daily['month'] = rf_daily.index.month\n",
    "rf_daily['day_of_week'] = rf_daily.index.dayofweek\n",
    "for lag in range(1, 8):\n",
    "    rf_daily[f'lag_{lag}'] = rf_daily['total_revenue'].shift(lag)\n",
    "rf_daily.dropna(inplace=True)\n",
    "feature_cols_daily = ['day_of_year','week_of_year','month','day_of_week'] + [f'lag_{lag}' for lag in range(1,8)]\n",
    "rf_model_daily = RandomForestRegressor(n_estimators=100, random_state=42).fit(rf_daily[feature_cols_daily], rf_daily['total_revenue'])\n",
    "\n",
    "future_dates_daily = pd.date_range(daily_sales.index[-1]+pd.Timedelta(days=1), periods=30)\n",
    "future_preds_daily = []\n",
    "last_values_daily = daily_sales['total_revenue'][-7:].tolist()\n",
    "for d in future_dates_daily:\n",
    "    features = [d.dayofyear, d.isocalendar().week, d.month, d.dayofweek] + last_values_daily[-7:]\n",
    "    pred = rf_model_daily.predict([features])[0]\n",
    "    future_preds_daily.append(pred)\n",
    "    last_values_daily.append(pred)\n",
    "rf_forecast_daily = pd.DataFrame({'total_revenue': future_preds_daily}, index=future_dates_daily)\n",
    "\n",
    "# Daily figure\n",
    "fig_forecast_daily = go.Figure()\n",
    "fig_forecast_daily.add_trace(go.Scatter(x=daily_sales.index, y=daily_sales['total_revenue'], name='Actual Daily', line=dict(color='blue')))\n",
    "fig_forecast_daily.add_trace(go.Scatter(x=arima_forecast_daily.index, y=arima_forecast_daily['mean'], name='ARIMA Daily Forecast', line=dict(color='red', dash='dash')))\n",
    "fig_forecast_daily.add_trace(go.Scatter(x=rf_forecast_daily.index, y=rf_forecast_daily['total_revenue'], name='RF Daily Forecast', line=dict(color='green', dash='dot')))\n",
    "\n",
    "\n",
    "# -------------------- WEEKLY FORECAST FIGURE --------------------\n",
    "weekly_sales = df.groupby(pd.Grouper(key='date', freq='W-MON'))['money'].sum().reset_index()\n",
    "weekly_sales.columns = ['week', 'total_revenue']\n",
    "weekly_sales.set_index('week', inplace=True)\n",
    "weekly_sales = weekly_sales.asfreq('W-MON').fillna(method='ffill')\n",
    "\n",
    "arima_weekly = ARIMA(weekly_sales['total_revenue'], order=(3,1,0)).fit()\n",
    "arima_forecast_weekly = arima_weekly.get_forecast(steps=12).summary_frame()\n",
    "arima_forecast_weekly['week'] = pd.date_range(weekly_sales.index[-1]+pd.Timedelta(weeks=1), periods=12, freq='W-MON')\n",
    "arima_forecast_weekly.set_index('week', inplace=True)\n",
    "\n",
    "rf_weekly = weekly_sales.copy()\n",
    "rf_weekly['week_of_year'] = rf_weekly.index.isocalendar().week\n",
    "rf_weekly['month'] = rf_weekly.index.month\n",
    "rf_weekly['quarter'] = rf_weekly.index.quarter\n",
    "for lag in range(1,5):\n",
    "    rf_weekly[f'lag_{lag}'] = rf_weekly['total_revenue'].shift(lag)\n",
    "rf_weekly.dropna(inplace=True)\n",
    "feature_cols_weekly = ['week_of_year','month','quarter'] + [f'lag_{lag}' for lag in range(1,5)]\n",
    "rf_model_weekly = RandomForestRegressor(n_estimators=100, random_state=42).fit(rf_weekly[feature_cols_weekly], rf_weekly['total_revenue'])\n",
    "\n",
    "future_weeks = pd.date_range(weekly_sales.index[-1]+pd.Timedelta(weeks=1), periods=12, freq='W-MON')\n",
    "future_preds_weekly = []\n",
    "last_values_weekly = weekly_sales['total_revenue'][-4:].tolist()\n",
    "for w in future_weeks:\n",
    "    features = [w.isocalendar().week, w.month, w.quarter] + last_values_weekly[-4:]\n",
    "    pred = rf_model_weekly.predict([features])[0]\n",
    "    future_preds_weekly.append(pred)\n",
    "    last_values_weekly.append(pred)\n",
    "rf_forecast_weekly = pd.DataFrame({'total_revenue': future_preds_weekly}, index=future_weeks)\n",
    "\n",
    "# Weekly figure\n",
    "fig_forecast_weekly = go.Figure()\n",
    "fig_forecast_weekly.add_trace(go.Scatter(x=weekly_sales.index, y=weekly_sales['total_revenue'], name='Actual Weekly', line=dict(color='blue')))\n",
    "fig_forecast_weekly.add_trace(go.Scatter(x=arima_forecast_weekly.index, y=arima_forecast_weekly['mean'], name='ARIMA Weekly Forecast', line=dict(color='red', dash='dash')))\n",
    "fig_forecast_weekly.add_trace(go.Scatter(x=rf_forecast_weekly.index, y=rf_forecast_weekly['total_revenue'], name='RF Weekly Forecast', line=dict(color='green', dash='dot')))\n",
    "\n",
    "\n",
    "# -------------------- MONTHLY FORECAST FIGURE --------------------\n",
    "monthly_sales = df.groupby(pd.Grouper(key='date', freq='M'))['money'].sum().reset_index()\n",
    "monthly_sales.columns = ['month','total_revenue']\n",
    "monthly_sales.set_index('month', inplace=True)\n",
    "monthly_sales = monthly_sales.asfreq('M').fillna(method='ffill')\n",
    "\n",
    "arima_monthly = ARIMA(monthly_sales['total_revenue'], order=(2,1,0)).fit()\n",
    "arima_forecast_monthly = arima_monthly.get_forecast(steps=6).summary_frame()\n",
    "arima_forecast_monthly['month'] = pd.date_range(monthly_sales.index[-1]+pd.offsets.MonthEnd(1), periods=6, freq='M')\n",
    "arima_forecast_monthly.set_index('month', inplace=True)\n",
    "\n",
    "rf_monthly = monthly_sales.copy()\n",
    "rf_monthly['month_of_year'] = rf_monthly.index.month\n",
    "rf_monthly['quarter'] = rf_monthly.index.quarter\n",
    "for lag in range(1,4):\n",
    "    rf_monthly[f'lag_{lag}'] = rf_monthly['total_revenue'].shift(lag)\n",
    "rf_monthly.dropna(inplace=True)\n",
    "feature_cols_monthly = ['month_of_year','quarter'] + [f'lag_{lag}' for lag in range(1,4)]\n",
    "rf_model_monthly = RandomForestRegressor(n_estimators=100, random_state=42).fit(rf_monthly[feature_cols_monthly], rf_monthly['total_revenue'])\n",
    "\n",
    "future_months = pd.date_range(monthly_sales.index[-1]+pd.offsets.MonthEnd(1), periods=6, freq='M')\n",
    "future_preds_monthly = []\n",
    "last_values_monthly = monthly_sales['total_revenue'][-3:].tolist()\n",
    "for m in future_months:\n",
    "    features = [m.month, m.quarter] + last_values_monthly[-3:]\n",
    "    pred = rf_model_monthly.predict([features])[0]\n",
    "    future_preds_monthly.append(pred)\n",
    "    last_values_monthly.append(pred)\n",
    "rf_forecast_monthly = pd.DataFrame({'total_revenue': future_preds_monthly}, index=future_months)\n",
    "\n",
    "# Monthly figure\n",
    "fig_forecast_monthly = go.Figure()\n",
    "fig_forecast_monthly.add_trace(go.Scatter(x=monthly_sales.index, y=monthly_sales['total_revenue'], name='Actual Monthly', line=dict(color='blue')))\n",
    "fig_forecast_monthly.add_trace(go.Scatter(x=arima_forecast_monthly.index, y=arima_forecast_monthly['mean'], name='ARIMA Monthly Forecast', line=dict(color='red', dash='dash')))\n",
    "fig_forecast_monthly.add_trace(go.Scatter(x=rf_forecast_monthly.index, y=rf_forecast_monthly['total_revenue'], name='RF Monthly Forecast', line=dict(color='green', dash='dot')))\n",
    "\n",
    "# ----------------- Cumulative Sales -----------------\n",
    "cumulative_sales = daily_sales.cumsum().reset_index()\n",
    "fig_cumulative = px.line(cumulative_sales, x='date', y='total_revenue', title='Cumulative Sales Over Time')\n",
    "\n",
    "# ----------------- Dash App -----------------\n",
    "app = dash.Dash(__name__)\n",
    "app.layout = html.Div(style={'padding':'20px','font-family':'Arial, sans-serif'}, children=[\n",
    "    html.H1(\"Advanced Coffee Sales Dashboard\", style={'textAlign':'center','color':'#0a3d62'}),\n",
    "\n",
    "    # KPI Row\n",
    "    html.Div([\n",
    "        html.Div([html.H4(\"Total Revenue\"), html.P(f\"${total_revenue:,.2f}\")],\n",
    "                 style={'width':'23%','display':'inline-block','textAlign':'center','background':'#dff9fb','padding':'15px','margin':'5px','border-radius':'10px'}),\n",
    "        html.Div([html.H4(\"Total Transactions\"), html.P(f\"{total_transactions:,}\")],\n",
    "                 style={'width':'23%','display':'inline-block','textAlign':'center','background':'#dff9fb','padding':'15px','margin':'5px','border-radius':'10px'}),\n",
    "        html.Div([html.H4(\"Avg Transaction\"), html.P(f\"${avg_transaction:,.2f}\")],\n",
    "                 style={'width':'23%','display':'inline-block','textAlign':'center','background':'#dff9fb','padding':'15px','margin':'5px','border-radius':'10px'}),\n",
    "        html.Div([html.H4(\"Top Coffee\"), html.P(f\"{top_coffee}\")],\n",
    "                 style={'width':'23%','display':'inline-block','textAlign':'center','background':'#dff9fb','padding':'15px','margin':'5px','border-radius':'10px'}),\n",
    "    ], style={'display':'flex','justifyContent':'space-around','margin-bottom':'20px'}),\n",
    "\n",
    "    # Row 1: Coffee & Payment\n",
    "    html.Div([\n",
    "        html.Div([dcc.Graph(figure=fig_coffee_sales)], style={'width':'48%','display':'inline-block'}),\n",
    "        html.Div([dcc.Graph(figure=fig_payment_method)], style={'width':'48%','display':'inline-block'}),\n",
    "    ], style={'display':'flex','justifyContent':'space-between','margin-bottom':'20px'}),\n",
    "\n",
    "    # Row 2: Coffee Payment %\n",
    "    html.Div([\n",
    "        html.Div([dcc.Graph(figure=fig_coffee_payment_pct)], style={'width':'48%','display':'inline-block'}),\n",
    "        html.Div([dcc.Graph(figure=fig_cumulative)], style={'width':'48%','display':'inline-block'}),\n",
    "    ], style={'display':'flex','justifyContent':'space-between','margin-bottom':'20px'}),\n",
    "\n",
    "    # Row 3: Hourly & Heatmap\n",
    "    html.Div([\n",
    "        html.Div([dcc.Graph(figure=fig_hourly_sales)], style={'width':'48%','display':'inline-block'}),\n",
    "        html.Div([dcc.Graph(figure=fig_hourly_heatmap)], style={'width':'48%','display':'inline-block'}),\n",
    "    ], style={'display':'flex','justifyContent':'space-between','margin-bottom':'20px'}),\n",
    "\n",
    "    # Row 4: Coffee trends\n",
    "    html.Div([dcc.Graph(figure=fig_coffee_trend)], style={'margin-bottom':'20px'}),\n",
    "\n",
    "    # Row 5: Forecasts (Tabs)\n",
    "    html.Div([\n",
    "        html.H3(\"Sales Forecasts\"),\n",
    "        dcc.Tabs([\n",
    "            dcc.Tab(label='Daily', children=[dcc.Graph(figure=fig_forecast_daily)]),\n",
    "            dcc.Tab(label='Weekly', children=[dcc.Graph(figure=fig_forecast_weekly)]),\n",
    "            dcc.Tab(label='Monthly', children=[dcc.Graph(figure=fig_forecast_monthly)])\n",
    "        ])\n",
    "    ])\n",
    "])\n",
    "\n",
    "if __name__ == \"__main__\":\n",
    "    app.run(debug=True)\n"
   ]
  }
 ],
 "metadata": {
  "kernelspec": {
   "display_name": ".venv (3.13.3)",
   "language": "python",
   "name": "python3"
  },
  "language_info": {
   "codemirror_mode": {
    "name": "ipython",
    "version": 3
   },
   "file_extension": ".py",
   "mimetype": "text/x-python",
   "name": "python",
   "nbconvert_exporter": "python",
   "pygments_lexer": "ipython3",
   "version": "3.13.3"
  }
 },
 "nbformat": 4,
 "nbformat_minor": 5
}
